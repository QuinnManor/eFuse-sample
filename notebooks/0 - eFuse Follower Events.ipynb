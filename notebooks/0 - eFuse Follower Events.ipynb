{
 "cells": [
  {
   "cell_type": "markdown",
   "metadata": {},
   "source": [
    "# eFuse Follower Events\n",
    "The aim of this notebook is to get a feel for the data and determine if further processing is needed. We'll be working with an anonymized dataset containing follower events on the eFuse platform.\n",
    "\n",
    "**Follower events** are events that occur whenever one gamer follows another on the eFuse platform. This notebook will have two main steps.\n",
    "\n",
    "1. Let's start by loading in and inspecting the follower events.\n",
    "2. Determine if any data processing is needed.\n",
    "\n",
    "Before starting, run the code cell below to load some useful functions and packages."
   ]
  },
  {
   "cell_type": "code",
   "execution_count": 1,
   "metadata": {
    "ExecuteTime": {
     "end_time": "2021-05-29T04:06:01.748747Z",
     "start_time": "2021-05-29T04:06:01.359627Z"
    }
   },
   "outputs": [],
   "source": [
    "# accessing utils module\n",
    "import sys\n",
    "sys.path.append('../utils')\n",
    "\n",
    "# needed for loading data:\n",
    "import pandas as pd\n",
    "\n",
    "# some problem-specific helper functions:\n",
    "from utils import get_path"
   ]
  },
  {
   "cell_type": "markdown",
   "metadata": {},
   "source": [
    "## Step 1: Inspecting Follower Events\n",
    "\n",
    "Our anonymized user data contains info about who gamers decided to follow and at what time they did so on the platform. Our data contains three dimensions (columns) as outlined below:\n",
    "\n",
    "- **follower** - The id of the person that initiated the follow\n",
    "- **followee** - The id of the person being followed\n",
    "- **createdAt** - The timestamp that the follow event happened\n",
    "\n",
    "**Location of the data.** The data is stored in a csv file called `followers_anonymized.csv` that can be found in `data/raw` of this repository. Take a moment to read in the data and observe the output:"
   ]
  },
  {
   "cell_type": "code",
   "execution_count": 2,
   "metadata": {
    "ExecuteTime": {
     "end_time": "2021-05-29T04:06:02.596410Z",
     "start_time": "2021-05-29T04:06:01.752426Z"
    }
   },
   "outputs": [
    {
     "name": "stdout",
     "output_type": "stream",
     "text": [
      "Location of data files: /Users/matthewquinn/dev/eFuse-sample/data/raw/\n",
      "Location of anonymized followers data: /Users/matthewquinn/dev/eFuse-sample/data/raw/followers_anonymized.csv\n",
      "Loading...\n",
      "...Done loading\n",
      "Displaying the first 5 rows...\n"
     ]
    },
    {
     "data": {
      "text/html": [
       "<div>\n",
       "<style scoped>\n",
       "    .dataframe tbody tr th:only-of-type {\n",
       "        vertical-align: middle;\n",
       "    }\n",
       "\n",
       "    .dataframe tbody tr th {\n",
       "        vertical-align: top;\n",
       "    }\n",
       "\n",
       "    .dataframe thead th {\n",
       "        text-align: right;\n",
       "    }\n",
       "</style>\n",
       "<table border=\"1\" class=\"dataframe\">\n",
       "  <thead>\n",
       "    <tr style=\"text-align: right;\">\n",
       "      <th></th>\n",
       "      <th>follower</th>\n",
       "      <th>followee</th>\n",
       "      <th>createdAt</th>\n",
       "    </tr>\n",
       "  </thead>\n",
       "  <tbody>\n",
       "    <tr>\n",
       "      <th>0</th>\n",
       "      <td>782bc0ce5ffe00c95bbc52f72fc654a2</td>\n",
       "      <td>e83a54eefe2ff5daf80a66505f9472a4</td>\n",
       "      <td>2019-11-26T21:36:21.221Z</td>\n",
       "    </tr>\n",
       "    <tr>\n",
       "      <th>1</th>\n",
       "      <td>e83a54eefe2ff5daf80a66505f9472a4</td>\n",
       "      <td>782bc0ce5ffe00c95bbc52f72fc654a2</td>\n",
       "      <td>2019-11-26T21:36:39.756Z</td>\n",
       "    </tr>\n",
       "    <tr>\n",
       "      <th>2</th>\n",
       "      <td>782bc0ce5ffe00c95bbc52f72fc654a2</td>\n",
       "      <td>4627a06c99dde3d167166eaab32e947d</td>\n",
       "      <td>2019-11-26T21:36:49.184Z</td>\n",
       "    </tr>\n",
       "    <tr>\n",
       "      <th>3</th>\n",
       "      <td>782bc0ce5ffe00c95bbc52f72fc654a2</td>\n",
       "      <td>49b76015d44936cb2c2184fc805e88a6</td>\n",
       "      <td>2019-11-26T21:36:57.669Z</td>\n",
       "    </tr>\n",
       "    <tr>\n",
       "      <th>4</th>\n",
       "      <td>782bc0ce5ffe00c95bbc52f72fc654a2</td>\n",
       "      <td>1e66c9b143e9ee9155d0dcaa8d5997b0</td>\n",
       "      <td>2019-11-26T21:41:21.834Z</td>\n",
       "    </tr>\n",
       "  </tbody>\n",
       "</table>\n",
       "</div>"
      ],
      "text/plain": [
       "                           follower                          followee  \\\n",
       "0  782bc0ce5ffe00c95bbc52f72fc654a2  e83a54eefe2ff5daf80a66505f9472a4   \n",
       "1  e83a54eefe2ff5daf80a66505f9472a4  782bc0ce5ffe00c95bbc52f72fc654a2   \n",
       "2  782bc0ce5ffe00c95bbc52f72fc654a2  4627a06c99dde3d167166eaab32e947d   \n",
       "3  782bc0ce5ffe00c95bbc52f72fc654a2  49b76015d44936cb2c2184fc805e88a6   \n",
       "4  782bc0ce5ffe00c95bbc52f72fc654a2  1e66c9b143e9ee9155d0dcaa8d5997b0   \n",
       "\n",
       "                  createdAt  \n",
       "0  2019-11-26T21:36:21.221Z  \n",
       "1  2019-11-26T21:36:39.756Z  \n",
       "2  2019-11-26T21:36:49.184Z  \n",
       "3  2019-11-26T21:36:57.669Z  \n",
       "4  2019-11-26T21:41:21.834Z  "
      ]
     },
     "execution_count": 2,
     "metadata": {},
     "output_type": "execute_result"
    }
   ],
   "source": [
    "print(\"Location of data files:\", get_path(''))\n",
    "print(\"Location of anonymized followers data:\", get_path('followers_anonymized.csv'))\n",
    "print(\"Loading...\")\n",
    "df = pd.read_csv(get_path('followers_anonymized.csv'))\n",
    "print(\"...Done loading\")\n",
    "print(\"Displaying the first 5 rows...\")\n",
    "df.head(5)"
   ]
  },
  {
   "cell_type": "code",
   "execution_count": 3,
   "metadata": {
    "ExecuteTime": {
     "end_time": "2021-05-29T04:06:02.607781Z",
     "start_time": "2021-05-29T04:06:02.598895Z"
    }
   },
   "outputs": [
    {
     "name": "stdout",
     "output_type": "stream",
     "text": [
      "...displaying the last 5 rows...\n"
     ]
    },
    {
     "data": {
      "text/html": [
       "<div>\n",
       "<style scoped>\n",
       "    .dataframe tbody tr th:only-of-type {\n",
       "        vertical-align: middle;\n",
       "    }\n",
       "\n",
       "    .dataframe tbody tr th {\n",
       "        vertical-align: top;\n",
       "    }\n",
       "\n",
       "    .dataframe thead th {\n",
       "        text-align: right;\n",
       "    }\n",
       "</style>\n",
       "<table border=\"1\" class=\"dataframe\">\n",
       "  <thead>\n",
       "    <tr style=\"text-align: right;\">\n",
       "      <th></th>\n",
       "      <th>follower</th>\n",
       "      <th>followee</th>\n",
       "      <th>createdAt</th>\n",
       "    </tr>\n",
       "  </thead>\n",
       "  <tbody>\n",
       "    <tr>\n",
       "      <th>609112</th>\n",
       "      <td>a9b7b5dc212eb2cc43c7503ec256d78c</td>\n",
       "      <td>5e1ab920b988fb71f5ae532db2fc449e</td>\n",
       "      <td>2021-05-28T14:40:20.915Z</td>\n",
       "    </tr>\n",
       "    <tr>\n",
       "      <th>609113</th>\n",
       "      <td>3828c0c23a13cef79a3b9c30848c3609</td>\n",
       "      <td>c3581e6d3601d2825c10a4547d64f019</td>\n",
       "      <td>2021-05-28T14:49:39.844Z</td>\n",
       "    </tr>\n",
       "    <tr>\n",
       "      <th>609114</th>\n",
       "      <td>255f0841aae13a484e8b9b8e314022bd</td>\n",
       "      <td>37b8780b7369005f5bc922de6501dd40</td>\n",
       "      <td>2021-05-28T14:58:24.978Z</td>\n",
       "    </tr>\n",
       "    <tr>\n",
       "      <th>609115</th>\n",
       "      <td>49b76015d44936cb2c2184fc805e88a6</td>\n",
       "      <td>818ae3dee4d173fbc40b8aaf2c89f00c</td>\n",
       "      <td>2021-05-28T15:17:50.008Z</td>\n",
       "    </tr>\n",
       "    <tr>\n",
       "      <th>609116</th>\n",
       "      <td>72ae2db888738150b28d520578a5907d</td>\n",
       "      <td>37b8780b7369005f5bc922de6501dd40</td>\n",
       "      <td>2021-05-28T15:21:01.119Z</td>\n",
       "    </tr>\n",
       "  </tbody>\n",
       "</table>\n",
       "</div>"
      ],
      "text/plain": [
       "                                follower                          followee  \\\n",
       "609112  a9b7b5dc212eb2cc43c7503ec256d78c  5e1ab920b988fb71f5ae532db2fc449e   \n",
       "609113  3828c0c23a13cef79a3b9c30848c3609  c3581e6d3601d2825c10a4547d64f019   \n",
       "609114  255f0841aae13a484e8b9b8e314022bd  37b8780b7369005f5bc922de6501dd40   \n",
       "609115  49b76015d44936cb2c2184fc805e88a6  818ae3dee4d173fbc40b8aaf2c89f00c   \n",
       "609116  72ae2db888738150b28d520578a5907d  37b8780b7369005f5bc922de6501dd40   \n",
       "\n",
       "                       createdAt  \n",
       "609112  2021-05-28T14:40:20.915Z  \n",
       "609113  2021-05-28T14:49:39.844Z  \n",
       "609114  2021-05-28T14:58:24.978Z  \n",
       "609115  2021-05-28T15:17:50.008Z  \n",
       "609116  2021-05-28T15:21:01.119Z  "
      ]
     },
     "execution_count": 3,
     "metadata": {},
     "output_type": "execute_result"
    }
   ],
   "source": [
    "print(\"...displaying the last 5 rows...\")\n",
    "df.tail(5)"
   ]
  },
  {
   "cell_type": "code",
   "execution_count": 4,
   "metadata": {
    "ExecuteTime": {
     "end_time": "2021-05-29T04:06:03.369174Z",
     "start_time": "2021-05-29T04:06:02.611077Z"
    }
   },
   "outputs": [
    {
     "name": "stdout",
     "output_type": "stream",
     "text": [
      "...some quick descriptive statistics\n"
     ]
    },
    {
     "data": {
      "text/html": [
       "<div>\n",
       "<style scoped>\n",
       "    .dataframe tbody tr th:only-of-type {\n",
       "        vertical-align: middle;\n",
       "    }\n",
       "\n",
       "    .dataframe tbody tr th {\n",
       "        vertical-align: top;\n",
       "    }\n",
       "\n",
       "    .dataframe thead th {\n",
       "        text-align: right;\n",
       "    }\n",
       "</style>\n",
       "<table border=\"1\" class=\"dataframe\">\n",
       "  <thead>\n",
       "    <tr style=\"text-align: right;\">\n",
       "      <th></th>\n",
       "      <th>follower</th>\n",
       "      <th>followee</th>\n",
       "      <th>createdAt</th>\n",
       "    </tr>\n",
       "  </thead>\n",
       "  <tbody>\n",
       "    <tr>\n",
       "      <th>count</th>\n",
       "      <td>609117</td>\n",
       "      <td>609117</td>\n",
       "      <td>609117</td>\n",
       "    </tr>\n",
       "    <tr>\n",
       "      <th>unique</th>\n",
       "      <td>97765</td>\n",
       "      <td>39956</td>\n",
       "      <td>602654</td>\n",
       "    </tr>\n",
       "    <tr>\n",
       "      <th>top</th>\n",
       "      <td>5e1ab920b988fb71f5ae532db2fc449e</td>\n",
       "      <td>bbc4a5710e40e0c9fe61a6793297db55</td>\n",
       "      <td>2020-08-23T16:37:07.588Z</td>\n",
       "    </tr>\n",
       "    <tr>\n",
       "      <th>freq</th>\n",
       "      <td>12652</td>\n",
       "      <td>51753</td>\n",
       "      <td>6</td>\n",
       "    </tr>\n",
       "  </tbody>\n",
       "</table>\n",
       "</div>"
      ],
      "text/plain": [
       "                                follower                          followee  \\\n",
       "count                             609117                            609117   \n",
       "unique                             97765                             39956   \n",
       "top     5e1ab920b988fb71f5ae532db2fc449e  bbc4a5710e40e0c9fe61a6793297db55   \n",
       "freq                               12652                             51753   \n",
       "\n",
       "                       createdAt  \n",
       "count                     609117  \n",
       "unique                    602654  \n",
       "top     2020-08-23T16:37:07.588Z  \n",
       "freq                           6  "
      ]
     },
     "metadata": {},
     "output_type": "display_data"
    },
    {
     "name": "stdout",
     "output_type": "stream",
     "text": [
      "Earliest Event:\n",
      " ===> 2019-11-26T21:36:21.221Z\n",
      "\n",
      "Most Recent Event:\n",
      " ===> 2021-05-28T15:21:01.119Z\n"
     ]
    }
   ],
   "source": [
    "print(\"...some quick descriptive statistics\")\n",
    "display(df.describe())\n",
    "print(f\"Earliest Event:\\n\", df.createdAt.min(), sep=\" ===> \")\n",
    "print()\n",
    "print(f\"Most Recent Event:\\n\", df.createdAt.max(), sep=\" ===> \")"
   ]
  },
  {
   "cell_type": "markdown",
   "metadata": {
    "ExecuteTime": {
     "end_time": "2021-05-29T03:35:25.359109Z",
     "start_time": "2021-05-29T03:35:25.354184Z"
    }
   },
   "source": [
    "**Note the following:**\n",
    "1. The time period for these events range from `November 11th, 2019` to `May 28th, 2021`.\n",
    "2. There is roughly 2.45 times as many followers as followees.\n",
    "3. Follower `5e1ab920b988fb71f5ae532db2fc449e` has followed 12,652 gamers.\n",
    "4. Followee `bbc4a5710e40e0c9fe61a6793297db55` has been followed by 51,753 gamers.\n",
    "\n",
    "One thing this data doesn't take into account is the number of times a follower has followed, unfollowed and or re-followed a gamer and vice versa. But no worries, we'll save that observation for another time. Right now though, let's direct our attention towards the `createdAt` column.\n",
    "\n",
    "## Step 2: Determine If Data Processing is Needed"
   ]
  }
 ],
 "metadata": {
  "hide_input": false,
  "kernelspec": {
   "display_name": "Python 3",
   "language": "python",
   "name": "python3"
  },
  "language_info": {
   "codemirror_mode": {
    "name": "ipython",
    "version": 3
   },
   "file_extension": ".py",
   "mimetype": "text/x-python",
   "name": "python",
   "nbconvert_exporter": "python",
   "pygments_lexer": "ipython3",
   "version": "3.7.5"
  },
  "latex_envs": {
   "LaTeX_envs_menu_present": true,
   "autoclose": false,
   "autocomplete": false,
   "bibliofile": "biblio.bib",
   "cite_by": "apalike",
   "current_citInitial": 1,
   "eqLabelWithNumbers": true,
   "eqNumInitial": 1,
   "hotkeys": {
    "equation": "Ctrl-E",
    "itemize": "Ctrl-I"
   },
   "labels_anchors": false,
   "latex_user_defs": false,
   "report_style_numbering": false,
   "user_envs_cfg": false
  },
  "toc": {
   "base_numbering": 1,
   "nav_menu": {},
   "number_sections": false,
   "sideBar": true,
   "skip_h1_title": false,
   "title_cell": "Table of Contents",
   "title_sidebar": "Contents",
   "toc_cell": false,
   "toc_position": {},
   "toc_section_display": true,
   "toc_window_display": false
  },
  "varInspector": {
   "cols": {
    "lenName": 16,
    "lenType": 16,
    "lenVar": 40
   },
   "kernels_config": {
    "python": {
     "delete_cmd_postfix": "",
     "delete_cmd_prefix": "del ",
     "library": "var_list.py",
     "varRefreshCmd": "print(var_dic_list())"
    },
    "r": {
     "delete_cmd_postfix": ") ",
     "delete_cmd_prefix": "rm(",
     "library": "var_list.r",
     "varRefreshCmd": "cat(var_dic_list()) "
    }
   },
   "types_to_exclude": [
    "module",
    "function",
    "builtin_function_or_method",
    "instance",
    "_Feature"
   ],
   "window_display": false
  }
 },
 "nbformat": 4,
 "nbformat_minor": 4
}
