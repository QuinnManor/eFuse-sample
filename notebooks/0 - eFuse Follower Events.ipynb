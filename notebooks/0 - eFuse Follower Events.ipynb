{
 "cells": [
  {
   "cell_type": "markdown",
   "metadata": {},
   "source": [
    "# eFuse Follower Events\n",
    "The aim of this notebook is to get a feel for the data and determine if further processing is needed. We'll be working with an anonymized dataset containing follower events from the eFuse platform.\n",
    "\n",
    "**Follower events** are events that occur whenever one user follows another. This notebook has two main steps.\n",
    "\n",
    "1. A quick inspection of our data.\n",
    "2. Any further processing if necessary.\n",
    "\n",
    "For those of you who want the quick fact sheet without going through the notebook, I've outlined our findings below. Enjoy!\n",
    "\n",
    "## Notable Findings\n",
    "\n",
    "1. There is roughly 2.45 times as many followers as followees.\n",
    "2. Follower `5e1ab920b988fb71f5ae532db2fc449e` has followed 12,652 users.\n",
    "3. Followee `bbc4a5710e40e0c9fe61a6793297db55` has been followed by 51,753 users.\n",
    "4. **August 23rd, 2020** had the highest single day follower activity with over 103,000 (roughly 17% of the total) events!\n",
    "5. Roughly 17.5% of all follower events occur during the 4pm (16:00) hour.\n",
    "6. Roughly 42.4% of all follower events occur between 4pm (16:00) and 9pm (21:00).\n",
    "\n",
    "**Before moving foward**, run the code cell below to load some useful functions and packages."
   ]
  },
  {
   "cell_type": "code",
   "execution_count": 1,
   "metadata": {
    "ExecuteTime": {
     "end_time": "2021-06-01T12:16:07.465660Z",
     "start_time": "2021-06-01T12:16:06.385774Z"
    }
   },
   "outputs": [],
   "source": [
    "# accessing utils module\n",
    "import sys\n",
    "sys.path.append('../utils')\n",
    "\n",
    "# needed for loading data:\n",
    "import pandas as pd\n",
    "\n",
    "# some problem-specific helper functions:\n",
    "from utils import get_path"
   ]
  },
  {
   "cell_type": "markdown",
   "metadata": {},
   "source": [
    "## Step 1: Inspecting Follower Events\n",
    "\n",
    "Our dataset contains info about who users decided to follow and at what time they did so on the platform. Our data contains three dimensions (columns) as outlined below:\n",
    "\n",
    "- **follower** - The id of the person that initiated the follow\n",
    "- **followee** - The id of the person being followed\n",
    "- **createdAt** - The timestamp that the follow event happened\n",
    "\n",
    "**Location of the data.** The data is stored in a csv file called `followers_anonymized.csv` that can be found in `data/raw` of this repository. Take a moment to read in the data and observe the output:"
   ]
  },
  {
   "cell_type": "code",
   "execution_count": 2,
   "metadata": {
    "ExecuteTime": {
     "end_time": "2021-06-01T12:16:10.451135Z",
     "start_time": "2021-06-01T12:16:07.469136Z"
    }
   },
   "outputs": [
    {
     "name": "stdout",
     "output_type": "stream",
     "text": [
      "Location of data files: /Users/matthewquinn/dev/eFuse-sample/data/raw\n",
      "Location of anonymized followers data: /Users/matthewquinn/dev/eFuse-sample/data/raw/followers_anonymized.csv\n",
      "Loading...\n",
      "Done loading!\n",
      "\n",
      "Displaying the first 5 rows...\n"
     ]
    },
    {
     "data": {
      "text/html": [
       "<div>\n",
       "<style scoped>\n",
       "    .dataframe tbody tr th:only-of-type {\n",
       "        vertical-align: middle;\n",
       "    }\n",
       "\n",
       "    .dataframe tbody tr th {\n",
       "        vertical-align: top;\n",
       "    }\n",
       "\n",
       "    .dataframe thead th {\n",
       "        text-align: right;\n",
       "    }\n",
       "</style>\n",
       "<table border=\"1\" class=\"dataframe\">\n",
       "  <thead>\n",
       "    <tr style=\"text-align: right;\">\n",
       "      <th></th>\n",
       "      <th>follower</th>\n",
       "      <th>followee</th>\n",
       "      <th>createdAt</th>\n",
       "    </tr>\n",
       "  </thead>\n",
       "  <tbody>\n",
       "    <tr>\n",
       "      <th>0</th>\n",
       "      <td>782bc0ce5ffe00c95bbc52f72fc654a2</td>\n",
       "      <td>e83a54eefe2ff5daf80a66505f9472a4</td>\n",
       "      <td>2019-11-26 21:36:21.221000+00:00</td>\n",
       "    </tr>\n",
       "    <tr>\n",
       "      <th>1</th>\n",
       "      <td>e83a54eefe2ff5daf80a66505f9472a4</td>\n",
       "      <td>782bc0ce5ffe00c95bbc52f72fc654a2</td>\n",
       "      <td>2019-11-26 21:36:39.756000+00:00</td>\n",
       "    </tr>\n",
       "    <tr>\n",
       "      <th>2</th>\n",
       "      <td>782bc0ce5ffe00c95bbc52f72fc654a2</td>\n",
       "      <td>4627a06c99dde3d167166eaab32e947d</td>\n",
       "      <td>2019-11-26 21:36:49.184000+00:00</td>\n",
       "    </tr>\n",
       "    <tr>\n",
       "      <th>3</th>\n",
       "      <td>782bc0ce5ffe00c95bbc52f72fc654a2</td>\n",
       "      <td>49b76015d44936cb2c2184fc805e88a6</td>\n",
       "      <td>2019-11-26 21:36:57.669000+00:00</td>\n",
       "    </tr>\n",
       "    <tr>\n",
       "      <th>4</th>\n",
       "      <td>782bc0ce5ffe00c95bbc52f72fc654a2</td>\n",
       "      <td>1e66c9b143e9ee9155d0dcaa8d5997b0</td>\n",
       "      <td>2019-11-26 21:41:21.834000+00:00</td>\n",
       "    </tr>\n",
       "  </tbody>\n",
       "</table>\n",
       "</div>"
      ],
      "text/plain": [
       "                           follower                          followee  \\\n",
       "0  782bc0ce5ffe00c95bbc52f72fc654a2  e83a54eefe2ff5daf80a66505f9472a4   \n",
       "1  e83a54eefe2ff5daf80a66505f9472a4  782bc0ce5ffe00c95bbc52f72fc654a2   \n",
       "2  782bc0ce5ffe00c95bbc52f72fc654a2  4627a06c99dde3d167166eaab32e947d   \n",
       "3  782bc0ce5ffe00c95bbc52f72fc654a2  49b76015d44936cb2c2184fc805e88a6   \n",
       "4  782bc0ce5ffe00c95bbc52f72fc654a2  1e66c9b143e9ee9155d0dcaa8d5997b0   \n",
       "\n",
       "                         createdAt  \n",
       "0 2019-11-26 21:36:21.221000+00:00  \n",
       "1 2019-11-26 21:36:39.756000+00:00  \n",
       "2 2019-11-26 21:36:49.184000+00:00  \n",
       "3 2019-11-26 21:36:57.669000+00:00  \n",
       "4 2019-11-26 21:41:21.834000+00:00  "
      ]
     },
     "execution_count": 2,
     "metadata": {},
     "output_type": "execute_result"
    }
   ],
   "source": [
    "print(\"Location of data files:\", get_path('raw'))\n",
    "print(\"Location of anonymized followers data:\", get_path('raw/followers_anonymized.csv'))\n",
    "print(\"Loading...\")\n",
    "df = pd.read_csv(get_path('raw/followers_anonymized.csv'), parse_dates=['createdAt'])\n",
    "print(\"Done loading!\\n\")\n",
    "print(\"Displaying the first 5 rows...\")\n",
    "df.head(5)"
   ]
  },
  {
   "cell_type": "code",
   "execution_count": 3,
   "metadata": {
    "ExecuteTime": {
     "end_time": "2021-06-01T12:16:10.464609Z",
     "start_time": "2021-06-01T12:16:10.454024Z"
    }
   },
   "outputs": [
    {
     "name": "stdout",
     "output_type": "stream",
     "text": [
      "Displaying the last 5 rows...\n"
     ]
    },
    {
     "data": {
      "text/html": [
       "<div>\n",
       "<style scoped>\n",
       "    .dataframe tbody tr th:only-of-type {\n",
       "        vertical-align: middle;\n",
       "    }\n",
       "\n",
       "    .dataframe tbody tr th {\n",
       "        vertical-align: top;\n",
       "    }\n",
       "\n",
       "    .dataframe thead th {\n",
       "        text-align: right;\n",
       "    }\n",
       "</style>\n",
       "<table border=\"1\" class=\"dataframe\">\n",
       "  <thead>\n",
       "    <tr style=\"text-align: right;\">\n",
       "      <th></th>\n",
       "      <th>follower</th>\n",
       "      <th>followee</th>\n",
       "      <th>createdAt</th>\n",
       "    </tr>\n",
       "  </thead>\n",
       "  <tbody>\n",
       "    <tr>\n",
       "      <th>609112</th>\n",
       "      <td>a9b7b5dc212eb2cc43c7503ec256d78c</td>\n",
       "      <td>5e1ab920b988fb71f5ae532db2fc449e</td>\n",
       "      <td>2021-05-28 14:40:20.915000+00:00</td>\n",
       "    </tr>\n",
       "    <tr>\n",
       "      <th>609113</th>\n",
       "      <td>3828c0c23a13cef79a3b9c30848c3609</td>\n",
       "      <td>c3581e6d3601d2825c10a4547d64f019</td>\n",
       "      <td>2021-05-28 14:49:39.844000+00:00</td>\n",
       "    </tr>\n",
       "    <tr>\n",
       "      <th>609114</th>\n",
       "      <td>255f0841aae13a484e8b9b8e314022bd</td>\n",
       "      <td>37b8780b7369005f5bc922de6501dd40</td>\n",
       "      <td>2021-05-28 14:58:24.978000+00:00</td>\n",
       "    </tr>\n",
       "    <tr>\n",
       "      <th>609115</th>\n",
       "      <td>49b76015d44936cb2c2184fc805e88a6</td>\n",
       "      <td>818ae3dee4d173fbc40b8aaf2c89f00c</td>\n",
       "      <td>2021-05-28 15:17:50.008000+00:00</td>\n",
       "    </tr>\n",
       "    <tr>\n",
       "      <th>609116</th>\n",
       "      <td>72ae2db888738150b28d520578a5907d</td>\n",
       "      <td>37b8780b7369005f5bc922de6501dd40</td>\n",
       "      <td>2021-05-28 15:21:01.119000+00:00</td>\n",
       "    </tr>\n",
       "  </tbody>\n",
       "</table>\n",
       "</div>"
      ],
      "text/plain": [
       "                                follower                          followee  \\\n",
       "609112  a9b7b5dc212eb2cc43c7503ec256d78c  5e1ab920b988fb71f5ae532db2fc449e   \n",
       "609113  3828c0c23a13cef79a3b9c30848c3609  c3581e6d3601d2825c10a4547d64f019   \n",
       "609114  255f0841aae13a484e8b9b8e314022bd  37b8780b7369005f5bc922de6501dd40   \n",
       "609115  49b76015d44936cb2c2184fc805e88a6  818ae3dee4d173fbc40b8aaf2c89f00c   \n",
       "609116  72ae2db888738150b28d520578a5907d  37b8780b7369005f5bc922de6501dd40   \n",
       "\n",
       "                              createdAt  \n",
       "609112 2021-05-28 14:40:20.915000+00:00  \n",
       "609113 2021-05-28 14:49:39.844000+00:00  \n",
       "609114 2021-05-28 14:58:24.978000+00:00  \n",
       "609115 2021-05-28 15:17:50.008000+00:00  \n",
       "609116 2021-05-28 15:21:01.119000+00:00  "
      ]
     },
     "execution_count": 3,
     "metadata": {},
     "output_type": "execute_result"
    }
   ],
   "source": [
    "print(\"Displaying the last 5 rows...\")\n",
    "df.tail(5)"
   ]
  },
  {
   "cell_type": "code",
   "execution_count": 4,
   "metadata": {
    "ExecuteTime": {
     "end_time": "2021-06-01T12:16:10.758984Z",
     "start_time": "2021-06-01T12:16:10.468884Z"
    }
   },
   "outputs": [
    {
     "name": "stdout",
     "output_type": "stream",
     "text": [
      "Some quick descriptive statistics\n"
     ]
    },
    {
     "data": {
      "text/html": [
       "<div>\n",
       "<style scoped>\n",
       "    .dataframe tbody tr th:only-of-type {\n",
       "        vertical-align: middle;\n",
       "    }\n",
       "\n",
       "    .dataframe tbody tr th {\n",
       "        vertical-align: top;\n",
       "    }\n",
       "\n",
       "    .dataframe thead th {\n",
       "        text-align: right;\n",
       "    }\n",
       "</style>\n",
       "<table border=\"1\" class=\"dataframe\">\n",
       "  <thead>\n",
       "    <tr style=\"text-align: right;\">\n",
       "      <th></th>\n",
       "      <th>count</th>\n",
       "      <th>unique</th>\n",
       "      <th>top</th>\n",
       "      <th>freq</th>\n",
       "      <th>mean</th>\n",
       "      <th>min</th>\n",
       "      <th>25%</th>\n",
       "      <th>50%</th>\n",
       "      <th>75%</th>\n",
       "      <th>max</th>\n",
       "    </tr>\n",
       "  </thead>\n",
       "  <tbody>\n",
       "    <tr>\n",
       "      <th>follower</th>\n",
       "      <td>609117</td>\n",
       "      <td>97765</td>\n",
       "      <td>5e1ab920b988fb71f5ae532db2fc449e</td>\n",
       "      <td>12652</td>\n",
       "      <td>NaT</td>\n",
       "      <td>NaT</td>\n",
       "      <td>NaT</td>\n",
       "      <td>NaT</td>\n",
       "      <td>NaT</td>\n",
       "      <td>NaT</td>\n",
       "    </tr>\n",
       "    <tr>\n",
       "      <th>followee</th>\n",
       "      <td>609117</td>\n",
       "      <td>39956</td>\n",
       "      <td>bbc4a5710e40e0c9fe61a6793297db55</td>\n",
       "      <td>51753</td>\n",
       "      <td>NaT</td>\n",
       "      <td>NaT</td>\n",
       "      <td>NaT</td>\n",
       "      <td>NaT</td>\n",
       "      <td>NaT</td>\n",
       "      <td>NaT</td>\n",
       "    </tr>\n",
       "    <tr>\n",
       "      <th>createdAt</th>\n",
       "      <td>609117</td>\n",
       "      <td>NaN</td>\n",
       "      <td>NaN</td>\n",
       "      <td>NaN</td>\n",
       "      <td>2020-11-14 06:46:40.858285056+00:00</td>\n",
       "      <td>2019-11-26 21:36:21.221000+00:00</td>\n",
       "      <td>2020-08-23 16:38:47.335000064+00:00</td>\n",
       "      <td>2020-12-04 18:42:52.616999936+00:00</td>\n",
       "      <td>2021-02-24 10:36:24.983000064+00:00</td>\n",
       "      <td>2021-05-28 15:21:01.119000+00:00</td>\n",
       "    </tr>\n",
       "  </tbody>\n",
       "</table>\n",
       "</div>"
      ],
      "text/plain": [
       "            count unique                               top   freq  \\\n",
       "follower   609117  97765  5e1ab920b988fb71f5ae532db2fc449e  12652   \n",
       "followee   609117  39956  bbc4a5710e40e0c9fe61a6793297db55  51753   \n",
       "createdAt  609117    NaN                               NaN    NaN   \n",
       "\n",
       "                                         mean  \\\n",
       "follower                                  NaT   \n",
       "followee                                  NaT   \n",
       "createdAt 2020-11-14 06:46:40.858285056+00:00   \n",
       "\n",
       "                                       min  \\\n",
       "follower                               NaT   \n",
       "followee                               NaT   \n",
       "createdAt 2019-11-26 21:36:21.221000+00:00   \n",
       "\n",
       "                                          25%  \\\n",
       "follower                                  NaT   \n",
       "followee                                  NaT   \n",
       "createdAt 2020-08-23 16:38:47.335000064+00:00   \n",
       "\n",
       "                                          50%  \\\n",
       "follower                                  NaT   \n",
       "followee                                  NaT   \n",
       "createdAt 2020-12-04 18:42:52.616999936+00:00   \n",
       "\n",
       "                                          75%                              max  \n",
       "follower                                  NaT                              NaT  \n",
       "followee                                  NaT                              NaT  \n",
       "createdAt 2021-02-24 10:36:24.983000064+00:00 2021-05-28 15:21:01.119000+00:00  "
      ]
     },
     "metadata": {},
     "output_type": "display_data"
    }
   ],
   "source": [
    "print(\"Some quick descriptive statistics\")\n",
    "display(df.describe(datetime_is_numeric=True).T)"
   ]
  },
  {
   "cell_type": "markdown",
   "metadata": {
    "ExecuteTime": {
     "end_time": "2021-05-29T03:35:25.359109Z",
     "start_time": "2021-05-29T03:35:25.354184Z"
    }
   },
   "source": [
    "**Note the following:**\n",
    "1. Events range from `November 11th, 2019 @ 21:36:21` to `May 28th, 2021 @ 15:21:01`.\n",
    "2. There is roughly 2.45 times as many followers as followees.\n",
    "3. Follower `5e1ab920b988fb71f5ae532db2fc449e` has followed 12,652 users.\n",
    "4. Followee `bbc4a5710e40e0c9fe61a6793297db55` has been followed by 51,753 users.\n",
    "\n",
    "One thing this data doesn't take into account is the number of times a follower has followed, unfollowed and or re-followed a user and vice versa. But no worries, we'll save that observation for another time. Right now though, let's direct our attention towards the `createdAt` column.\n",
    "\n",
    "## Step 2: Determine If Data Processing is Needed\n",
    "While our dataset only has three dimensions, there's still a few things we can do to touch it up. Let's take a look at **`createdAt`**.\n",
    "\n",
    "As a reminder, `createdAt` serves as the date timestamp for each event. As seen earlier, our `createdAt` range is from `November 11th, 2019 @ 21:36:21` to `May 28th, 2021 @ 15:21:01`. In order to make future analysis easier, let's go ahead and split these out into `date`, `timestamp`, and `hour`."
   ]
  },
  {
   "cell_type": "code",
   "execution_count": 5,
   "metadata": {
    "ExecuteTime": {
     "end_time": "2021-06-01T12:16:11.613266Z",
     "start_time": "2021-06-01T12:16:10.760962Z"
    }
   },
   "outputs": [],
   "source": [
    "df['date'] = pd.to_datetime(df['createdAt']).dt.date\n",
    "df['year'] = pd.to_datetime(df['createdAt']).dt.year.astype(str)\n",
    "df['timestamp'] = pd.to_datetime(df['createdAt']).dt.time\n",
    "df['hour'] = pd.to_datetime(df['createdAt']).dt.hour"
   ]
  },
  {
   "cell_type": "markdown",
   "metadata": {},
   "source": [
    "Great! Now that we've done that, we can remove the `createdAt` columns altogether."
   ]
  },
  {
   "cell_type": "code",
   "execution_count": 6,
   "metadata": {
    "ExecuteTime": {
     "end_time": "2021-06-01T12:16:11.704145Z",
     "start_time": "2021-06-01T12:16:11.615415Z"
    }
   },
   "outputs": [],
   "source": [
    "df.drop(columns=\"createdAt\", inplace=True)"
   ]
  },
  {
   "cell_type": "code",
   "execution_count": 7,
   "metadata": {
    "ExecuteTime": {
     "end_time": "2021-06-01T12:16:12.548980Z",
     "start_time": "2021-06-01T12:16:11.706468Z"
    }
   },
   "outputs": [
    {
     "name": "stdout",
     "output_type": "stream",
     "text": [
      "Displaying the first 5 rows...\n"
     ]
    },
    {
     "data": {
      "text/html": [
       "<div>\n",
       "<style scoped>\n",
       "    .dataframe tbody tr th:only-of-type {\n",
       "        vertical-align: middle;\n",
       "    }\n",
       "\n",
       "    .dataframe tbody tr th {\n",
       "        vertical-align: top;\n",
       "    }\n",
       "\n",
       "    .dataframe thead th {\n",
       "        text-align: right;\n",
       "    }\n",
       "</style>\n",
       "<table border=\"1\" class=\"dataframe\">\n",
       "  <thead>\n",
       "    <tr style=\"text-align: right;\">\n",
       "      <th></th>\n",
       "      <th>follower</th>\n",
       "      <th>followee</th>\n",
       "      <th>date</th>\n",
       "      <th>year</th>\n",
       "      <th>timestamp</th>\n",
       "      <th>hour</th>\n",
       "    </tr>\n",
       "  </thead>\n",
       "  <tbody>\n",
       "    <tr>\n",
       "      <th>0</th>\n",
       "      <td>782bc0ce5ffe00c95bbc52f72fc654a2</td>\n",
       "      <td>e83a54eefe2ff5daf80a66505f9472a4</td>\n",
       "      <td>2019-11-26</td>\n",
       "      <td>2019</td>\n",
       "      <td>21:36:21.221000</td>\n",
       "      <td>21</td>\n",
       "    </tr>\n",
       "    <tr>\n",
       "      <th>1</th>\n",
       "      <td>e83a54eefe2ff5daf80a66505f9472a4</td>\n",
       "      <td>782bc0ce5ffe00c95bbc52f72fc654a2</td>\n",
       "      <td>2019-11-26</td>\n",
       "      <td>2019</td>\n",
       "      <td>21:36:39.756000</td>\n",
       "      <td>21</td>\n",
       "    </tr>\n",
       "    <tr>\n",
       "      <th>2</th>\n",
       "      <td>782bc0ce5ffe00c95bbc52f72fc654a2</td>\n",
       "      <td>4627a06c99dde3d167166eaab32e947d</td>\n",
       "      <td>2019-11-26</td>\n",
       "      <td>2019</td>\n",
       "      <td>21:36:49.184000</td>\n",
       "      <td>21</td>\n",
       "    </tr>\n",
       "    <tr>\n",
       "      <th>3</th>\n",
       "      <td>782bc0ce5ffe00c95bbc52f72fc654a2</td>\n",
       "      <td>49b76015d44936cb2c2184fc805e88a6</td>\n",
       "      <td>2019-11-26</td>\n",
       "      <td>2019</td>\n",
       "      <td>21:36:57.669000</td>\n",
       "      <td>21</td>\n",
       "    </tr>\n",
       "    <tr>\n",
       "      <th>4</th>\n",
       "      <td>782bc0ce5ffe00c95bbc52f72fc654a2</td>\n",
       "      <td>1e66c9b143e9ee9155d0dcaa8d5997b0</td>\n",
       "      <td>2019-11-26</td>\n",
       "      <td>2019</td>\n",
       "      <td>21:41:21.834000</td>\n",
       "      <td>21</td>\n",
       "    </tr>\n",
       "  </tbody>\n",
       "</table>\n",
       "</div>"
      ],
      "text/plain": [
       "                           follower                          followee  \\\n",
       "0  782bc0ce5ffe00c95bbc52f72fc654a2  e83a54eefe2ff5daf80a66505f9472a4   \n",
       "1  e83a54eefe2ff5daf80a66505f9472a4  782bc0ce5ffe00c95bbc52f72fc654a2   \n",
       "2  782bc0ce5ffe00c95bbc52f72fc654a2  4627a06c99dde3d167166eaab32e947d   \n",
       "3  782bc0ce5ffe00c95bbc52f72fc654a2  49b76015d44936cb2c2184fc805e88a6   \n",
       "4  782bc0ce5ffe00c95bbc52f72fc654a2  1e66c9b143e9ee9155d0dcaa8d5997b0   \n",
       "\n",
       "         date  year        timestamp  hour  \n",
       "0  2019-11-26  2019  21:36:21.221000    21  \n",
       "1  2019-11-26  2019  21:36:39.756000    21  \n",
       "2  2019-11-26  2019  21:36:49.184000    21  \n",
       "3  2019-11-26  2019  21:36:57.669000    21  \n",
       "4  2019-11-26  2019  21:41:21.834000    21  "
      ]
     },
     "metadata": {},
     "output_type": "display_data"
    },
    {
     "name": "stdout",
     "output_type": "stream",
     "text": [
      "\n",
      "Displaying the last 5 rows...\n"
     ]
    },
    {
     "data": {
      "text/html": [
       "<div>\n",
       "<style scoped>\n",
       "    .dataframe tbody tr th:only-of-type {\n",
       "        vertical-align: middle;\n",
       "    }\n",
       "\n",
       "    .dataframe tbody tr th {\n",
       "        vertical-align: top;\n",
       "    }\n",
       "\n",
       "    .dataframe thead th {\n",
       "        text-align: right;\n",
       "    }\n",
       "</style>\n",
       "<table border=\"1\" class=\"dataframe\">\n",
       "  <thead>\n",
       "    <tr style=\"text-align: right;\">\n",
       "      <th></th>\n",
       "      <th>follower</th>\n",
       "      <th>followee</th>\n",
       "      <th>date</th>\n",
       "      <th>year</th>\n",
       "      <th>timestamp</th>\n",
       "      <th>hour</th>\n",
       "    </tr>\n",
       "  </thead>\n",
       "  <tbody>\n",
       "    <tr>\n",
       "      <th>609112</th>\n",
       "      <td>a9b7b5dc212eb2cc43c7503ec256d78c</td>\n",
       "      <td>5e1ab920b988fb71f5ae532db2fc449e</td>\n",
       "      <td>2021-05-28</td>\n",
       "      <td>2021</td>\n",
       "      <td>14:40:20.915000</td>\n",
       "      <td>14</td>\n",
       "    </tr>\n",
       "    <tr>\n",
       "      <th>609113</th>\n",
       "      <td>3828c0c23a13cef79a3b9c30848c3609</td>\n",
       "      <td>c3581e6d3601d2825c10a4547d64f019</td>\n",
       "      <td>2021-05-28</td>\n",
       "      <td>2021</td>\n",
       "      <td>14:49:39.844000</td>\n",
       "      <td>14</td>\n",
       "    </tr>\n",
       "    <tr>\n",
       "      <th>609114</th>\n",
       "      <td>255f0841aae13a484e8b9b8e314022bd</td>\n",
       "      <td>37b8780b7369005f5bc922de6501dd40</td>\n",
       "      <td>2021-05-28</td>\n",
       "      <td>2021</td>\n",
       "      <td>14:58:24.978000</td>\n",
       "      <td>14</td>\n",
       "    </tr>\n",
       "    <tr>\n",
       "      <th>609115</th>\n",
       "      <td>49b76015d44936cb2c2184fc805e88a6</td>\n",
       "      <td>818ae3dee4d173fbc40b8aaf2c89f00c</td>\n",
       "      <td>2021-05-28</td>\n",
       "      <td>2021</td>\n",
       "      <td>15:17:50.008000</td>\n",
       "      <td>15</td>\n",
       "    </tr>\n",
       "    <tr>\n",
       "      <th>609116</th>\n",
       "      <td>72ae2db888738150b28d520578a5907d</td>\n",
       "      <td>37b8780b7369005f5bc922de6501dd40</td>\n",
       "      <td>2021-05-28</td>\n",
       "      <td>2021</td>\n",
       "      <td>15:21:01.119000</td>\n",
       "      <td>15</td>\n",
       "    </tr>\n",
       "  </tbody>\n",
       "</table>\n",
       "</div>"
      ],
      "text/plain": [
       "                                follower                          followee  \\\n",
       "609112  a9b7b5dc212eb2cc43c7503ec256d78c  5e1ab920b988fb71f5ae532db2fc449e   \n",
       "609113  3828c0c23a13cef79a3b9c30848c3609  c3581e6d3601d2825c10a4547d64f019   \n",
       "609114  255f0841aae13a484e8b9b8e314022bd  37b8780b7369005f5bc922de6501dd40   \n",
       "609115  49b76015d44936cb2c2184fc805e88a6  818ae3dee4d173fbc40b8aaf2c89f00c   \n",
       "609116  72ae2db888738150b28d520578a5907d  37b8780b7369005f5bc922de6501dd40   \n",
       "\n",
       "              date  year        timestamp  hour  \n",
       "609112  2021-05-28  2021  14:40:20.915000    14  \n",
       "609113  2021-05-28  2021  14:49:39.844000    14  \n",
       "609114  2021-05-28  2021  14:58:24.978000    14  \n",
       "609115  2021-05-28  2021  15:17:50.008000    15  \n",
       "609116  2021-05-28  2021  15:21:01.119000    15  "
      ]
     },
     "metadata": {},
     "output_type": "display_data"
    },
    {
     "name": "stdout",
     "output_type": "stream",
     "text": [
      "\n",
      "Some quick descriptive statistics...\n"
     ]
    },
    {
     "data": {
      "text/html": [
       "<div>\n",
       "<style scoped>\n",
       "    .dataframe tbody tr th:only-of-type {\n",
       "        vertical-align: middle;\n",
       "    }\n",
       "\n",
       "    .dataframe tbody tr th {\n",
       "        vertical-align: top;\n",
       "    }\n",
       "\n",
       "    .dataframe thead th {\n",
       "        text-align: right;\n",
       "    }\n",
       "</style>\n",
       "<table border=\"1\" class=\"dataframe\">\n",
       "  <thead>\n",
       "    <tr style=\"text-align: right;\">\n",
       "      <th></th>\n",
       "      <th>count</th>\n",
       "      <th>unique</th>\n",
       "      <th>top</th>\n",
       "      <th>freq</th>\n",
       "      <th>mean</th>\n",
       "      <th>std</th>\n",
       "      <th>min</th>\n",
       "      <th>25%</th>\n",
       "      <th>50%</th>\n",
       "      <th>75%</th>\n",
       "      <th>max</th>\n",
       "    </tr>\n",
       "  </thead>\n",
       "  <tbody>\n",
       "    <tr>\n",
       "      <th>follower</th>\n",
       "      <td>609117</td>\n",
       "      <td>97765</td>\n",
       "      <td>5e1ab920b988fb71f5ae532db2fc449e</td>\n",
       "      <td>12652</td>\n",
       "      <td>NaN</td>\n",
       "      <td>NaN</td>\n",
       "      <td>NaN</td>\n",
       "      <td>NaN</td>\n",
       "      <td>NaN</td>\n",
       "      <td>NaN</td>\n",
       "      <td>NaN</td>\n",
       "    </tr>\n",
       "    <tr>\n",
       "      <th>followee</th>\n",
       "      <td>609117</td>\n",
       "      <td>39956</td>\n",
       "      <td>bbc4a5710e40e0c9fe61a6793297db55</td>\n",
       "      <td>51753</td>\n",
       "      <td>NaN</td>\n",
       "      <td>NaN</td>\n",
       "      <td>NaN</td>\n",
       "      <td>NaN</td>\n",
       "      <td>NaN</td>\n",
       "      <td>NaN</td>\n",
       "      <td>NaN</td>\n",
       "    </tr>\n",
       "    <tr>\n",
       "      <th>date</th>\n",
       "      <td>609117</td>\n",
       "      <td>549</td>\n",
       "      <td>2020-08-23</td>\n",
       "      <td>103155</td>\n",
       "      <td>NaN</td>\n",
       "      <td>NaN</td>\n",
       "      <td>NaN</td>\n",
       "      <td>NaN</td>\n",
       "      <td>NaN</td>\n",
       "      <td>NaN</td>\n",
       "      <td>NaN</td>\n",
       "    </tr>\n",
       "    <tr>\n",
       "      <th>year</th>\n",
       "      <td>609117</td>\n",
       "      <td>3</td>\n",
       "      <td>2020</td>\n",
       "      <td>315466</td>\n",
       "      <td>NaN</td>\n",
       "      <td>NaN</td>\n",
       "      <td>NaN</td>\n",
       "      <td>NaN</td>\n",
       "      <td>NaN</td>\n",
       "      <td>NaN</td>\n",
       "      <td>NaN</td>\n",
       "    </tr>\n",
       "    <tr>\n",
       "      <th>timestamp</th>\n",
       "      <td>609117</td>\n",
       "      <td>600396</td>\n",
       "      <td>16:37:07.588000</td>\n",
       "      <td>6</td>\n",
       "      <td>NaN</td>\n",
       "      <td>NaN</td>\n",
       "      <td>NaN</td>\n",
       "      <td>NaN</td>\n",
       "      <td>NaN</td>\n",
       "      <td>NaN</td>\n",
       "      <td>NaN</td>\n",
       "    </tr>\n",
       "    <tr>\n",
       "      <th>hour</th>\n",
       "      <td>609117.0</td>\n",
       "      <td>NaN</td>\n",
       "      <td>NaN</td>\n",
       "      <td>NaN</td>\n",
       "      <td>12.967249</td>\n",
       "      <td>6.493841</td>\n",
       "      <td>0.0</td>\n",
       "      <td>8.0</td>\n",
       "      <td>15.0</td>\n",
       "      <td>17.0</td>\n",
       "      <td>23.0</td>\n",
       "    </tr>\n",
       "  </tbody>\n",
       "</table>\n",
       "</div>"
      ],
      "text/plain": [
       "              count  unique                               top    freq  \\\n",
       "follower     609117   97765  5e1ab920b988fb71f5ae532db2fc449e   12652   \n",
       "followee     609117   39956  bbc4a5710e40e0c9fe61a6793297db55   51753   \n",
       "date         609117     549                        2020-08-23  103155   \n",
       "year         609117       3                              2020  315466   \n",
       "timestamp    609117  600396                   16:37:07.588000       6   \n",
       "hour       609117.0     NaN                               NaN     NaN   \n",
       "\n",
       "                mean       std  min  25%   50%   75%   max  \n",
       "follower         NaN       NaN  NaN  NaN   NaN   NaN   NaN  \n",
       "followee         NaN       NaN  NaN  NaN   NaN   NaN   NaN  \n",
       "date             NaN       NaN  NaN  NaN   NaN   NaN   NaN  \n",
       "year             NaN       NaN  NaN  NaN   NaN   NaN   NaN  \n",
       "timestamp        NaN       NaN  NaN  NaN   NaN   NaN   NaN  \n",
       "hour       12.967249  6.493841  0.0  8.0  15.0  17.0  23.0  "
      ]
     },
     "metadata": {},
     "output_type": "display_data"
    },
    {
     "name": "stdout",
     "output_type": "stream",
     "text": [
      "\n",
      "Follower events by the hour:\n",
      "========================\n",
      "16    106328\n",
      "17     45466\n",
      "15     34343\n",
      "21     26379\n",
      "20     24400\n",
      "18     24260\n",
      "11     23767\n",
      "19     23396\n",
      "23     23287\n",
      "14     23025\n",
      "0      21600\n",
      "1      21260\n",
      "13     21163\n",
      "22     20740\n",
      "12     19296\n",
      "5      18914\n",
      "4      18578\n",
      "2      18133\n",
      "3      17152\n",
      "9      16797\n",
      "10     16334\n",
      "6      15602\n",
      "8      15487\n",
      "7      13410\n",
      "Name: hour, dtype: int64\n",
      "\n",
      "\n",
      "Follower events via bins (8)\n",
      "========================\n",
      "(14.375, 17.25]    186137\n",
      "(17.25, 20.125]     72056\n",
      "(20.125, 23.0]      70406\n",
      "(11.5, 14.375]      63484\n",
      "(-0.024, 2.875]     60993\n",
      "(8.625, 11.5]       56898\n",
      "(2.875, 5.75]       54644\n",
      "(5.75, 8.625]       44499\n",
      "Name: hour, dtype: int64\n"
     ]
    }
   ],
   "source": [
    "print(\"Displaying the first 5 rows...\")\n",
    "display(df.head(5))\n",
    "print(\"\\nDisplaying the last 5 rows...\")\n",
    "display(df.tail(5))\n",
    "print(\"\\nSome quick descriptive statistics...\")\n",
    "display(df.describe(include=\"all\").T)\n",
    "print(\"\\nFollower events by the hour:\", df.hour.value_counts(), sep=\"\\n========================\\n\")\n",
    "print()\n",
    "print(\"\\nFollower events via bins (8)\", df.hour.value_counts(bins=8), sep=\"\\n========================\\n\")"
   ]
  },
  {
   "cell_type": "markdown",
   "metadata": {},
   "source": [
    "**Initial Observations:**\n",
    "1. The time period for these events range from `November 11th, 2019 @ 21:36:21` to `May 28th, 2021 @ 15:21:01`.\n",
    "1. There is roughly 2.45 times as many followers as followees.\n",
    "2. Follower `5e1ab920b988fb71f5ae532db2fc449e` has followed 12,652 users.\n",
    "3. Followee `bbc4a5710e40e0c9fe61a6793297db55` has been followed by 51,753 users.\n",
    "4. **August 23rd, 2020** had the highest single day follower activity with over 103,000 (roughly 17% of the total) events!\n",
    "5. Roughly 17.5% of all follower events occur during the 4pm (16:00) hour.\n",
    "6. Roughly 42.4% of all follower events occur between 4pm (16:00) and 9pm (21:00).\n",
    "\n",
    "## Next Steps\n",
    "This notebook served as a quick exploration of our data in case we needed to do any further processing. Luckily, there wasn't much to do, but we still found some interesting insights that will get further explored in the next notebook on EDA or Exploratory Data Analysis.\n",
    "\n",
    "**Let's save our new dataframe before closing this out!**"
   ]
  },
  {
   "cell_type": "code",
   "execution_count": 8,
   "metadata": {
    "ExecuteTime": {
     "end_time": "2021-06-01T12:16:15.506336Z",
     "start_time": "2021-06-01T12:16:12.553588Z"
    }
   },
   "outputs": [
    {
     "name": "stdout",
     "output_type": "stream",
     "text": [
      "Saving...\n",
      "Data saved successfully!\n"
     ]
    }
   ],
   "source": [
    "print(\"Saving...\")\n",
    "df.to_csv(get_path('processed/followers.csv'))\n",
    "print(\"Data saved successfully!\")"
   ]
  }
 ],
 "metadata": {
  "hide_input": false,
  "kernelspec": {
   "display_name": "Python 3",
   "language": "python",
   "name": "python3"
  },
  "language_info": {
   "codemirror_mode": {
    "name": "ipython",
    "version": 3
   },
   "file_extension": ".py",
   "mimetype": "text/x-python",
   "name": "python",
   "nbconvert_exporter": "python",
   "pygments_lexer": "ipython3",
   "version": "3.7.5"
  },
  "latex_envs": {
   "LaTeX_envs_menu_present": true,
   "autoclose": false,
   "autocomplete": false,
   "bibliofile": "biblio.bib",
   "cite_by": "apalike",
   "current_citInitial": 1,
   "eqLabelWithNumbers": true,
   "eqNumInitial": 1,
   "hotkeys": {
    "equation": "Ctrl-E",
    "itemize": "Ctrl-I"
   },
   "labels_anchors": false,
   "latex_user_defs": false,
   "report_style_numbering": false,
   "user_envs_cfg": false
  },
  "toc": {
   "base_numbering": 1,
   "nav_menu": {},
   "number_sections": false,
   "sideBar": true,
   "skip_h1_title": false,
   "title_cell": "Table of Contents",
   "title_sidebar": "Contents",
   "toc_cell": false,
   "toc_position": {},
   "toc_section_display": true,
   "toc_window_display": false
  },
  "varInspector": {
   "cols": {
    "lenName": 16,
    "lenType": 16,
    "lenVar": 40
   },
   "kernels_config": {
    "python": {
     "delete_cmd_postfix": "",
     "delete_cmd_prefix": "del ",
     "library": "var_list.py",
     "varRefreshCmd": "print(var_dic_list())"
    },
    "r": {
     "delete_cmd_postfix": ") ",
     "delete_cmd_prefix": "rm(",
     "library": "var_list.r",
     "varRefreshCmd": "cat(var_dic_list()) "
    }
   },
   "types_to_exclude": [
    "module",
    "function",
    "builtin_function_or_method",
    "instance",
    "_Feature"
   ],
   "window_display": false
  }
 },
 "nbformat": 4,
 "nbformat_minor": 4
}
