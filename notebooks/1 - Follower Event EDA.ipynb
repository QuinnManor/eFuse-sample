{
 "cells": [
  {
   "cell_type": "markdown",
   "metadata": {},
   "source": [
    "# Follower Event Exploratory Data Analysis\n",
    "So here we are, back again! This time, we'll start some Exploratory Data Analysis. Also known as EDA! The goal of EDA is to further investigate our data by seeing if there are any hidden findings that can help us understand what's going on. What we'll be examining here are the dimensions around time and follower-followee.\n",
    "\n",
    "Just like with the previous notebook, if you who want the quick notes on our findings, I've outlined them below. Otherwise, feel free to explore this notebook. All of the visuals are interactive. Enjoy!\n",
    "\n",
    "## Notable Findings\n",
    "- February 2020 and August 2021 have huge spikes in follower activity nodding at some sort of event, campaign, or influencer arriving on the platform.\n",
    "- With the huge spikes in February 2020 and August 2021, it's hard to get a view on what \"consistent\" follower engagement looks like month to month.\n",
    "- With only one full year of data (2020) it's safe to say there is a lot of opportunity to shape follower activity in the future (could reward users for reaching n-number of followers or for supporting n-number of users).\n",
    "- While there are some notable users with substantial followers, there is still over 1/3rd of the platform not engaging as both, a follower and followee.\n",
    "- Over 3/4th of users following others on the platform have 0 followers themselves, indicating uninteresting profiles or a lack of engagement with the platform and who they've been following.\n",
    "- 50% of those being followed have 2 or less followers, whereas of the top 25% users being followed, 75% of them have 29 followers or less. Nodding that folks go to the platform to follow the same n-number accounts, only wanting to engage with them versus other users.\n",
    "\n",
    "## Previous Findings\n",
    "If you skipped the first notebook, no worries, here's our findings from that.\n",
    "\n",
    "1. There is roughly 2.45 times as many followers as followees.\n",
    "2. Follower `5e1ab920b988fb71f5ae532db2fc449e` has followed 12,652 users.\n",
    "3. Followee `bbc4a5710e40e0c9fe61a6793297db55` has been followed by 51,753 users.\n",
    "4. **August 23rd, 2020** had the highest single day follower activity with over 103,000 (roughly 17% of the total) events!\n",
    "5. Roughly 17.5% of all follower events occur during the 4pm (16:00) hour.\n",
    "6. Roughly 42.4% of all follower events occur between 4pm (16:00) and 9pm (21:00).\n",
    "\n",
    "Let's load in some useful functions and packages."
   ]
  },
  {
   "cell_type": "code",
   "execution_count": 1,
   "metadata": {
    "ExecuteTime": {
     "end_time": "2021-06-01T14:41:42.507252Z",
     "start_time": "2021-06-01T14:41:40.703211Z"
    }
   },
   "outputs": [
    {
     "data": {
      "text/html": [
       "\n",
       "    <div class=\"bk-root\">\n",
       "        <a href=\"https://bokeh.org\" target=\"_blank\" class=\"bk-logo bk-logo-small bk-logo-notebook\"></a>\n",
       "        <span id=\"1017\">Loading BokehJS ...</span>\n",
       "    </div>"
      ]
     },
     "metadata": {},
     "output_type": "display_data"
    },
    {
     "data": {
      "application/javascript": [
       "\n",
       "(function(root) {\n",
       "  function now() {\n",
       "    return new Date();\n",
       "  }\n",
       "\n",
       "  var force = true;\n",
       "\n",
       "  if (typeof root._bokeh_onload_callbacks === \"undefined\" || force === true) {\n",
       "    root._bokeh_onload_callbacks = [];\n",
       "    root._bokeh_is_loading = undefined;\n",
       "  }\n",
       "\n",
       "  var JS_MIME_TYPE = 'application/javascript';\n",
       "  var HTML_MIME_TYPE = 'text/html';\n",
       "  var EXEC_MIME_TYPE = 'application/vnd.bokehjs_exec.v0+json';\n",
       "  var CLASS_NAME = 'output_bokeh rendered_html';\n",
       "\n",
       "  /**\n",
       "   * Render data to the DOM node\n",
       "   */\n",
       "  function render(props, node) {\n",
       "    var script = document.createElement(\"script\");\n",
       "    node.appendChild(script);\n",
       "  }\n",
       "\n",
       "  /**\n",
       "   * Handle when an output is cleared or removed\n",
       "   */\n",
       "  function handleClearOutput(event, handle) {\n",
       "    var cell = handle.cell;\n",
       "\n",
       "    var id = cell.output_area._bokeh_element_id;\n",
       "    var server_id = cell.output_area._bokeh_server_id;\n",
       "    // Clean up Bokeh references\n",
       "    if (id != null && id in Bokeh.index) {\n",
       "      Bokeh.index[id].model.document.clear();\n",
       "      delete Bokeh.index[id];\n",
       "    }\n",
       "\n",
       "    if (server_id !== undefined) {\n",
       "      // Clean up Bokeh references\n",
       "      var cmd = \"from bokeh.io.state import curstate; print(curstate().uuid_to_server['\" + server_id + \"'].get_sessions()[0].document.roots[0]._id)\";\n",
       "      cell.notebook.kernel.execute(cmd, {\n",
       "        iopub: {\n",
       "          output: function(msg) {\n",
       "            var id = msg.content.text.trim();\n",
       "            if (id in Bokeh.index) {\n",
       "              Bokeh.index[id].model.document.clear();\n",
       "              delete Bokeh.index[id];\n",
       "            }\n",
       "          }\n",
       "        }\n",
       "      });\n",
       "      // Destroy server and session\n",
       "      var cmd = \"import bokeh.io.notebook as ion; ion.destroy_server('\" + server_id + \"')\";\n",
       "      cell.notebook.kernel.execute(cmd);\n",
       "    }\n",
       "  }\n",
       "\n",
       "  /**\n",
       "   * Handle when a new output is added\n",
       "   */\n",
       "  function handleAddOutput(event, handle) {\n",
       "    var output_area = handle.output_area;\n",
       "    var output = handle.output;\n",
       "\n",
       "    // limit handleAddOutput to display_data with EXEC_MIME_TYPE content only\n",
       "    if ((output.output_type != \"display_data\") || (!Object.prototype.hasOwnProperty.call(output.data, EXEC_MIME_TYPE))) {\n",
       "      return\n",
       "    }\n",
       "\n",
       "    var toinsert = output_area.element.find(\".\" + CLASS_NAME.split(' ')[0]);\n",
       "\n",
       "    if (output.metadata[EXEC_MIME_TYPE][\"id\"] !== undefined) {\n",
       "      toinsert[toinsert.length - 1].firstChild.textContent = output.data[JS_MIME_TYPE];\n",
       "      // store reference to embed id on output_area\n",
       "      output_area._bokeh_element_id = output.metadata[EXEC_MIME_TYPE][\"id\"];\n",
       "    }\n",
       "    if (output.metadata[EXEC_MIME_TYPE][\"server_id\"] !== undefined) {\n",
       "      var bk_div = document.createElement(\"div\");\n",
       "      bk_div.innerHTML = output.data[HTML_MIME_TYPE];\n",
       "      var script_attrs = bk_div.children[0].attributes;\n",
       "      for (var i = 0; i < script_attrs.length; i++) {\n",
       "        toinsert[toinsert.length - 1].firstChild.setAttribute(script_attrs[i].name, script_attrs[i].value);\n",
       "        toinsert[toinsert.length - 1].firstChild.textContent = bk_div.children[0].textContent\n",
       "      }\n",
       "      // store reference to server id on output_area\n",
       "      output_area._bokeh_server_id = output.metadata[EXEC_MIME_TYPE][\"server_id\"];\n",
       "    }\n",
       "  }\n",
       "\n",
       "  function register_renderer(events, OutputArea) {\n",
       "\n",
       "    function append_mime(data, metadata, element) {\n",
       "      // create a DOM node to render to\n",
       "      var toinsert = this.create_output_subarea(\n",
       "        metadata,\n",
       "        CLASS_NAME,\n",
       "        EXEC_MIME_TYPE\n",
       "      );\n",
       "      this.keyboard_manager.register_events(toinsert);\n",
       "      // Render to node\n",
       "      var props = {data: data, metadata: metadata[EXEC_MIME_TYPE]};\n",
       "      render(props, toinsert[toinsert.length - 1]);\n",
       "      element.append(toinsert);\n",
       "      return toinsert\n",
       "    }\n",
       "\n",
       "    /* Handle when an output is cleared or removed */\n",
       "    events.on('clear_output.CodeCell', handleClearOutput);\n",
       "    events.on('delete.Cell', handleClearOutput);\n",
       "\n",
       "    /* Handle when a new output is added */\n",
       "    events.on('output_added.OutputArea', handleAddOutput);\n",
       "\n",
       "    /**\n",
       "     * Register the mime type and append_mime function with output_area\n",
       "     */\n",
       "    OutputArea.prototype.register_mime_type(EXEC_MIME_TYPE, append_mime, {\n",
       "      /* Is output safe? */\n",
       "      safe: true,\n",
       "      /* Index of renderer in `output_area.display_order` */\n",
       "      index: 0\n",
       "    });\n",
       "  }\n",
       "\n",
       "  // register the mime type if in Jupyter Notebook environment and previously unregistered\n",
       "  if (root.Jupyter !== undefined) {\n",
       "    var events = require('base/js/events');\n",
       "    var OutputArea = require('notebook/js/outputarea').OutputArea;\n",
       "\n",
       "    if (OutputArea.prototype.mime_types().indexOf(EXEC_MIME_TYPE) == -1) {\n",
       "      register_renderer(events, OutputArea);\n",
       "    }\n",
       "  }\n",
       "\n",
       "  \n",
       "  if (typeof (root._bokeh_timeout) === \"undefined\" || force === true) {\n",
       "    root._bokeh_timeout = Date.now() + 5000;\n",
       "    root._bokeh_failed_load = false;\n",
       "  }\n",
       "\n",
       "  var NB_LOAD_WARNING = {'data': {'text/html':\n",
       "     \"<div style='background-color: #fdd'>\\n\"+\n",
       "     \"<p>\\n\"+\n",
       "     \"BokehJS does not appear to have successfully loaded. If loading BokehJS from CDN, this \\n\"+\n",
       "     \"may be due to a slow or bad network connection. Possible fixes:\\n\"+\n",
       "     \"</p>\\n\"+\n",
       "     \"<ul>\\n\"+\n",
       "     \"<li>re-rerun `output_notebook()` to attempt to load from CDN again, or</li>\\n\"+\n",
       "     \"<li>use INLINE resources instead, as so:</li>\\n\"+\n",
       "     \"</ul>\\n\"+\n",
       "     \"<code>\\n\"+\n",
       "     \"from bokeh.resources import INLINE\\n\"+\n",
       "     \"output_notebook(resources=INLINE)\\n\"+\n",
       "     \"</code>\\n\"+\n",
       "     \"</div>\"}};\n",
       "\n",
       "  function display_loaded() {\n",
       "    var el = document.getElementById(\"1017\");\n",
       "    if (el != null) {\n",
       "      el.textContent = \"BokehJS is loading...\";\n",
       "    }\n",
       "    if (root.Bokeh !== undefined) {\n",
       "      if (el != null) {\n",
       "        el.textContent = \"BokehJS \" + root.Bokeh.version + \" successfully loaded.\";\n",
       "      }\n",
       "    } else if (Date.now() < root._bokeh_timeout) {\n",
       "      setTimeout(display_loaded, 100)\n",
       "    }\n",
       "  }\n",
       "\n",
       "\n",
       "  function run_callbacks() {\n",
       "    try {\n",
       "      root._bokeh_onload_callbacks.forEach(function(callback) {\n",
       "        if (callback != null)\n",
       "          callback();\n",
       "      });\n",
       "    } finally {\n",
       "      delete root._bokeh_onload_callbacks\n",
       "    }\n",
       "    console.debug(\"Bokeh: all callbacks have finished\");\n",
       "  }\n",
       "\n",
       "  function load_libs(css_urls, js_urls, callback) {\n",
       "    if (css_urls == null) css_urls = [];\n",
       "    if (js_urls == null) js_urls = [];\n",
       "\n",
       "    root._bokeh_onload_callbacks.push(callback);\n",
       "    if (root._bokeh_is_loading > 0) {\n",
       "      console.debug(\"Bokeh: BokehJS is being loaded, scheduling callback at\", now());\n",
       "      return null;\n",
       "    }\n",
       "    if (js_urls == null || js_urls.length === 0) {\n",
       "      run_callbacks();\n",
       "      return null;\n",
       "    }\n",
       "    console.debug(\"Bokeh: BokehJS not loaded, scheduling load and callback at\", now());\n",
       "    root._bokeh_is_loading = css_urls.length + js_urls.length;\n",
       "\n",
       "    function on_load() {\n",
       "      root._bokeh_is_loading--;\n",
       "      if (root._bokeh_is_loading === 0) {\n",
       "        console.debug(\"Bokeh: all BokehJS libraries/stylesheets loaded\");\n",
       "        run_callbacks()\n",
       "      }\n",
       "    }\n",
       "\n",
       "    function on_error(url) {\n",
       "      console.error(\"failed to load \" + url);\n",
       "    }\n",
       "\n",
       "    for (let i = 0; i < css_urls.length; i++) {\n",
       "      const url = css_urls[i];\n",
       "      const element = document.createElement(\"link\");\n",
       "      element.onload = on_load;\n",
       "      element.onerror = on_error.bind(null, url);\n",
       "      element.rel = \"stylesheet\";\n",
       "      element.type = \"text/css\";\n",
       "      element.href = url;\n",
       "      console.debug(\"Bokeh: injecting link tag for BokehJS stylesheet: \", url);\n",
       "      document.body.appendChild(element);\n",
       "    }\n",
       "\n",
       "    const hashes = {\"https://cdn.bokeh.org/bokeh/release/bokeh-2.3.2.min.js\": \"XypntL49z55iwGVUW4qsEu83zKL3XEcz0MjuGOQ9SlaaQ68X/g+k1FcioZi7oQAc\", \"https://cdn.bokeh.org/bokeh/release/bokeh-tables-2.3.2.min.js\": \"bEsM86IHGDTLCS0Zod8a8WM6Y4+lafAL/eSiyQcuPzinmWNgNO2/olUF0Z2Dkn5i\", \"https://cdn.bokeh.org/bokeh/release/bokeh-widgets-2.3.2.min.js\": \"TX0gSQTdXTTeScqxj6PVQxTiRW8DOoGVwinyi1D3kxv7wuxQ02XkOxv0xwiypcAH\"};\n",
       "\n",
       "    for (let i = 0; i < js_urls.length; i++) {\n",
       "      const url = js_urls[i];\n",
       "      const element = document.createElement('script');\n",
       "      element.onload = on_load;\n",
       "      element.onerror = on_error.bind(null, url);\n",
       "      element.async = false;\n",
       "      element.src = url;\n",
       "      if (url in hashes) {\n",
       "        element.crossOrigin = \"anonymous\";\n",
       "        element.integrity = \"sha384-\" + hashes[url];\n",
       "      }\n",
       "      console.debug(\"Bokeh: injecting script tag for BokehJS library: \", url);\n",
       "      document.head.appendChild(element);\n",
       "    }\n",
       "  };\n",
       "\n",
       "  function inject_raw_css(css) {\n",
       "    const element = document.createElement(\"style\");\n",
       "    element.appendChild(document.createTextNode(css));\n",
       "    document.body.appendChild(element);\n",
       "  }\n",
       "\n",
       "  \n",
       "  var js_urls = [\"https://cdn.bokeh.org/bokeh/release/bokeh-2.3.2.min.js\", \"https://cdn.bokeh.org/bokeh/release/bokeh-widgets-2.3.2.min.js\", \"https://cdn.bokeh.org/bokeh/release/bokeh-tables-2.3.2.min.js\"];\n",
       "  var css_urls = [];\n",
       "  \n",
       "\n",
       "  var inline_js = [\n",
       "    function(Bokeh) {\n",
       "      Bokeh.set_log_level(\"info\");\n",
       "    },\n",
       "    function(Bokeh) {\n",
       "    \n",
       "    \n",
       "    }\n",
       "  ];\n",
       "\n",
       "  function run_inline_js() {\n",
       "    \n",
       "    if (root.Bokeh !== undefined || force === true) {\n",
       "      \n",
       "    for (var i = 0; i < inline_js.length; i++) {\n",
       "      inline_js[i].call(root, root.Bokeh);\n",
       "    }\n",
       "    if (force === true) {\n",
       "        display_loaded();\n",
       "      }} else if (Date.now() < root._bokeh_timeout) {\n",
       "      setTimeout(run_inline_js, 100);\n",
       "    } else if (!root._bokeh_failed_load) {\n",
       "      console.log(\"Bokeh: BokehJS failed to load within specified timeout.\");\n",
       "      root._bokeh_failed_load = true;\n",
       "    } else if (force !== true) {\n",
       "      var cell = $(document.getElementById(\"1017\")).parents('.cell').data().cell;\n",
       "      cell.output_area.append_execute_result(NB_LOAD_WARNING)\n",
       "    }\n",
       "\n",
       "  }\n",
       "\n",
       "  if (root._bokeh_is_loading === 0) {\n",
       "    console.debug(\"Bokeh: BokehJS loaded, going straight to plotting\");\n",
       "    run_inline_js();\n",
       "  } else {\n",
       "    load_libs(css_urls, js_urls, function() {\n",
       "      console.debug(\"Bokeh: BokehJS plotting callback run at\", now());\n",
       "      run_inline_js();\n",
       "    });\n",
       "  }\n",
       "}(window));"
      ],
      "application/vnd.bokehjs_load.v0+json": "\n(function(root) {\n  function now() {\n    return new Date();\n  }\n\n  var force = true;\n\n  if (typeof root._bokeh_onload_callbacks === \"undefined\" || force === true) {\n    root._bokeh_onload_callbacks = [];\n    root._bokeh_is_loading = undefined;\n  }\n\n  \n\n  \n  if (typeof (root._bokeh_timeout) === \"undefined\" || force === true) {\n    root._bokeh_timeout = Date.now() + 5000;\n    root._bokeh_failed_load = false;\n  }\n\n  var NB_LOAD_WARNING = {'data': {'text/html':\n     \"<div style='background-color: #fdd'>\\n\"+\n     \"<p>\\n\"+\n     \"BokehJS does not appear to have successfully loaded. If loading BokehJS from CDN, this \\n\"+\n     \"may be due to a slow or bad network connection. Possible fixes:\\n\"+\n     \"</p>\\n\"+\n     \"<ul>\\n\"+\n     \"<li>re-rerun `output_notebook()` to attempt to load from CDN again, or</li>\\n\"+\n     \"<li>use INLINE resources instead, as so:</li>\\n\"+\n     \"</ul>\\n\"+\n     \"<code>\\n\"+\n     \"from bokeh.resources import INLINE\\n\"+\n     \"output_notebook(resources=INLINE)\\n\"+\n     \"</code>\\n\"+\n     \"</div>\"}};\n\n  function display_loaded() {\n    var el = document.getElementById(\"1017\");\n    if (el != null) {\n      el.textContent = \"BokehJS is loading...\";\n    }\n    if (root.Bokeh !== undefined) {\n      if (el != null) {\n        el.textContent = \"BokehJS \" + root.Bokeh.version + \" successfully loaded.\";\n      }\n    } else if (Date.now() < root._bokeh_timeout) {\n      setTimeout(display_loaded, 100)\n    }\n  }\n\n\n  function run_callbacks() {\n    try {\n      root._bokeh_onload_callbacks.forEach(function(callback) {\n        if (callback != null)\n          callback();\n      });\n    } finally {\n      delete root._bokeh_onload_callbacks\n    }\n    console.debug(\"Bokeh: all callbacks have finished\");\n  }\n\n  function load_libs(css_urls, js_urls, callback) {\n    if (css_urls == null) css_urls = [];\n    if (js_urls == null) js_urls = [];\n\n    root._bokeh_onload_callbacks.push(callback);\n    if (root._bokeh_is_loading > 0) {\n      console.debug(\"Bokeh: BokehJS is being loaded, scheduling callback at\", now());\n      return null;\n    }\n    if (js_urls == null || js_urls.length === 0) {\n      run_callbacks();\n      return null;\n    }\n    console.debug(\"Bokeh: BokehJS not loaded, scheduling load and callback at\", now());\n    root._bokeh_is_loading = css_urls.length + js_urls.length;\n\n    function on_load() {\n      root._bokeh_is_loading--;\n      if (root._bokeh_is_loading === 0) {\n        console.debug(\"Bokeh: all BokehJS libraries/stylesheets loaded\");\n        run_callbacks()\n      }\n    }\n\n    function on_error(url) {\n      console.error(\"failed to load \" + url);\n    }\n\n    for (let i = 0; i < css_urls.length; i++) {\n      const url = css_urls[i];\n      const element = document.createElement(\"link\");\n      element.onload = on_load;\n      element.onerror = on_error.bind(null, url);\n      element.rel = \"stylesheet\";\n      element.type = \"text/css\";\n      element.href = url;\n      console.debug(\"Bokeh: injecting link tag for BokehJS stylesheet: \", url);\n      document.body.appendChild(element);\n    }\n\n    const hashes = {\"https://cdn.bokeh.org/bokeh/release/bokeh-2.3.2.min.js\": \"XypntL49z55iwGVUW4qsEu83zKL3XEcz0MjuGOQ9SlaaQ68X/g+k1FcioZi7oQAc\", \"https://cdn.bokeh.org/bokeh/release/bokeh-tables-2.3.2.min.js\": \"bEsM86IHGDTLCS0Zod8a8WM6Y4+lafAL/eSiyQcuPzinmWNgNO2/olUF0Z2Dkn5i\", \"https://cdn.bokeh.org/bokeh/release/bokeh-widgets-2.3.2.min.js\": \"TX0gSQTdXTTeScqxj6PVQxTiRW8DOoGVwinyi1D3kxv7wuxQ02XkOxv0xwiypcAH\"};\n\n    for (let i = 0; i < js_urls.length; i++) {\n      const url = js_urls[i];\n      const element = document.createElement('script');\n      element.onload = on_load;\n      element.onerror = on_error.bind(null, url);\n      element.async = false;\n      element.src = url;\n      if (url in hashes) {\n        element.crossOrigin = \"anonymous\";\n        element.integrity = \"sha384-\" + hashes[url];\n      }\n      console.debug(\"Bokeh: injecting script tag for BokehJS library: \", url);\n      document.head.appendChild(element);\n    }\n  };\n\n  function inject_raw_css(css) {\n    const element = document.createElement(\"style\");\n    element.appendChild(document.createTextNode(css));\n    document.body.appendChild(element);\n  }\n\n  \n  var js_urls = [\"https://cdn.bokeh.org/bokeh/release/bokeh-2.3.2.min.js\", \"https://cdn.bokeh.org/bokeh/release/bokeh-widgets-2.3.2.min.js\", \"https://cdn.bokeh.org/bokeh/release/bokeh-tables-2.3.2.min.js\"];\n  var css_urls = [];\n  \n\n  var inline_js = [\n    function(Bokeh) {\n      Bokeh.set_log_level(\"info\");\n    },\n    function(Bokeh) {\n    \n    \n    }\n  ];\n\n  function run_inline_js() {\n    \n    if (root.Bokeh !== undefined || force === true) {\n      \n    for (var i = 0; i < inline_js.length; i++) {\n      inline_js[i].call(root, root.Bokeh);\n    }\n    if (force === true) {\n        display_loaded();\n      }} else if (Date.now() < root._bokeh_timeout) {\n      setTimeout(run_inline_js, 100);\n    } else if (!root._bokeh_failed_load) {\n      console.log(\"Bokeh: BokehJS failed to load within specified timeout.\");\n      root._bokeh_failed_load = true;\n    } else if (force !== true) {\n      var cell = $(document.getElementById(\"1017\")).parents('.cell').data().cell;\n      cell.output_area.append_execute_result(NB_LOAD_WARNING)\n    }\n\n  }\n\n  if (root._bokeh_is_loading === 0) {\n    console.debug(\"Bokeh: BokehJS loaded, going straight to plotting\");\n    run_inline_js();\n  } else {\n    load_libs(css_urls, js_urls, function() {\n      console.debug(\"Bokeh: BokehJS plotting callback run at\", now());\n      run_inline_js();\n    });\n  }\n}(window));"
     },
     "metadata": {},
     "output_type": "display_data"
    }
   ],
   "source": [
    "# accessing utils module\n",
    "import sys\n",
    "sys.path.append('../utils')\n",
    "\n",
    "# needed for loading data:\n",
    "import pandas as pd\n",
    "\n",
    "# some problem-specific helper functions:\n",
    "from utils import get_path, get_monthly_event_count, create_time_series_df\n",
    "from visualize import generae_fig_to_plot, plot_multi_lines, generae_fig_to_plot_std\n",
    "\n",
    "# needed for interactive visualizations\n",
    "from IPython.display import display, Markdown\n",
    "import bokeh\n",
    "from bokeh.io import show, output_notebook\n",
    "from bokeh.layouts import row\n",
    "output_notebook()"
   ]
  },
  {
   "cell_type": "markdown",
   "metadata": {},
   "source": [
    "## The follower event database\n",
    "\n",
    "Our dataset consists of 609,117 events across several dimensions. Those dimensions are:\n",
    "\n",
    "- **follower** - The id of the person that initiated the follow\n",
    "- **followee** - The id of the person being followed\n",
    "- **date** - The date that the follow event happened\n",
    "- **year** - The year that the follow event happened\n",
    "- **timestamp** - The timestamp that the follow event happened\n",
    "- **hour** - The hour that the follow event happened\n",
    "\n",
    "Run the code below to load our data into our notebook!"
   ]
  },
  {
   "cell_type": "code",
   "execution_count": 2,
   "metadata": {
    "ExecuteTime": {
     "end_time": "2021-06-01T14:41:44.167177Z",
     "start_time": "2021-06-01T14:41:42.511105Z"
    }
   },
   "outputs": [
    {
     "name": "stdout",
     "output_type": "stream",
     "text": [
      "Location of data files: /Users/matthewquinn/dev/eFuse-sample/data/processed\n",
      "Location of anonymized followers data: /Users/matthewquinn/dev/eFuse-sample/data/processed/followers.csv\n",
      "Loading...\n",
      "Done loading!\n",
      "\n",
      "Displaying the first 5 rows...\n"
     ]
    },
    {
     "data": {
      "text/html": [
       "<div>\n",
       "<style scoped>\n",
       "    .dataframe tbody tr th:only-of-type {\n",
       "        vertical-align: middle;\n",
       "    }\n",
       "\n",
       "    .dataframe tbody tr th {\n",
       "        vertical-align: top;\n",
       "    }\n",
       "\n",
       "    .dataframe thead th {\n",
       "        text-align: right;\n",
       "    }\n",
       "</style>\n",
       "<table border=\"1\" class=\"dataframe\">\n",
       "  <thead>\n",
       "    <tr style=\"text-align: right;\">\n",
       "      <th></th>\n",
       "      <th>follower</th>\n",
       "      <th>followee</th>\n",
       "      <th>date</th>\n",
       "      <th>year</th>\n",
       "      <th>timestamp</th>\n",
       "      <th>hour</th>\n",
       "    </tr>\n",
       "  </thead>\n",
       "  <tbody>\n",
       "    <tr>\n",
       "      <th>0</th>\n",
       "      <td>782bc0ce5ffe00c95bbc52f72fc654a2</td>\n",
       "      <td>e83a54eefe2ff5daf80a66505f9472a4</td>\n",
       "      <td>2019-11-26</td>\n",
       "      <td>2019</td>\n",
       "      <td>21:36:21.221000</td>\n",
       "      <td>21</td>\n",
       "    </tr>\n",
       "    <tr>\n",
       "      <th>1</th>\n",
       "      <td>e83a54eefe2ff5daf80a66505f9472a4</td>\n",
       "      <td>782bc0ce5ffe00c95bbc52f72fc654a2</td>\n",
       "      <td>2019-11-26</td>\n",
       "      <td>2019</td>\n",
       "      <td>21:36:39.756000</td>\n",
       "      <td>21</td>\n",
       "    </tr>\n",
       "    <tr>\n",
       "      <th>2</th>\n",
       "      <td>782bc0ce5ffe00c95bbc52f72fc654a2</td>\n",
       "      <td>4627a06c99dde3d167166eaab32e947d</td>\n",
       "      <td>2019-11-26</td>\n",
       "      <td>2019</td>\n",
       "      <td>21:36:49.184000</td>\n",
       "      <td>21</td>\n",
       "    </tr>\n",
       "    <tr>\n",
       "      <th>3</th>\n",
       "      <td>782bc0ce5ffe00c95bbc52f72fc654a2</td>\n",
       "      <td>49b76015d44936cb2c2184fc805e88a6</td>\n",
       "      <td>2019-11-26</td>\n",
       "      <td>2019</td>\n",
       "      <td>21:36:57.669000</td>\n",
       "      <td>21</td>\n",
       "    </tr>\n",
       "    <tr>\n",
       "      <th>4</th>\n",
       "      <td>782bc0ce5ffe00c95bbc52f72fc654a2</td>\n",
       "      <td>1e66c9b143e9ee9155d0dcaa8d5997b0</td>\n",
       "      <td>2019-11-26</td>\n",
       "      <td>2019</td>\n",
       "      <td>21:41:21.834000</td>\n",
       "      <td>21</td>\n",
       "    </tr>\n",
       "  </tbody>\n",
       "</table>\n",
       "</div>"
      ],
      "text/plain": [
       "                           follower                          followee  \\\n",
       "0  782bc0ce5ffe00c95bbc52f72fc654a2  e83a54eefe2ff5daf80a66505f9472a4   \n",
       "1  e83a54eefe2ff5daf80a66505f9472a4  782bc0ce5ffe00c95bbc52f72fc654a2   \n",
       "2  782bc0ce5ffe00c95bbc52f72fc654a2  4627a06c99dde3d167166eaab32e947d   \n",
       "3  782bc0ce5ffe00c95bbc52f72fc654a2  49b76015d44936cb2c2184fc805e88a6   \n",
       "4  782bc0ce5ffe00c95bbc52f72fc654a2  1e66c9b143e9ee9155d0dcaa8d5997b0   \n",
       "\n",
       "        date  year        timestamp  hour  \n",
       "0 2019-11-26  2019  21:36:21.221000    21  \n",
       "1 2019-11-26  2019  21:36:39.756000    21  \n",
       "2 2019-11-26  2019  21:36:49.184000    21  \n",
       "3 2019-11-26  2019  21:36:57.669000    21  \n",
       "4 2019-11-26  2019  21:41:21.834000    21  "
      ]
     },
     "execution_count": 2,
     "metadata": {},
     "output_type": "execute_result"
    }
   ],
   "source": [
    "print(\"Location of data files:\", get_path('processed'))\n",
    "print(\"Location of anonymized followers data:\", get_path('processed/followers.csv'))\n",
    "print(\"Loading...\")\n",
    "df = pd.read_csv(get_path('processed/followers.csv'), parse_dates=['date'], index_col=0)\n",
    "print(\"Done loading!\\n\")\n",
    "print(\"Displaying the first 5 rows...\")\n",
    "df.head(5)"
   ]
  },
  {
   "cell_type": "markdown",
   "metadata": {
    "ExecuteTime": {
     "end_time": "2021-05-29T03:35:25.359109Z",
     "start_time": "2021-05-29T03:35:25.354184Z"
    }
   },
   "source": [
    "## Exploratory Data Analysis!\n",
    "\n",
    "Now let's get to the fun stuff! We won't do anything too complicated just yet, but let's take a deeper look into our data to find any noticeable relationships or patterns.\n",
    "\n",
    "### Time-Based Dimensions\n",
    "Assuming the above went well and our data loaded successfully, let's reduce our time-based dimensions and make a quick plot for follower events based on this. The columns below represent those dimensions.\n",
    "- `date`\n",
    "- `hour`\n",
    "- `year`\n",
    "\n",
    "**Note: The charts below are interactive so feel free to play around before moving on!**"
   ]
  },
  {
   "cell_type": "code",
   "execution_count": 3,
   "metadata": {
    "ExecuteTime": {
     "end_time": "2021-06-01T14:41:44.414323Z",
     "start_time": "2021-06-01T14:41:44.171335Z"
    }
   },
   "outputs": [
    {
     "data": {
      "text/html": [
       "\n",
       "\n",
       "\n",
       "\n",
       "\n",
       "\n",
       "  <div class=\"bk-root\" id=\"6c190126-a3d7-45fc-a1a0-371314d50bd2\" data-root-id=\"1153\"></div>\n"
      ]
     },
     "metadata": {},
     "output_type": "display_data"
    },
    {
     "data": {
      "application/javascript": [
       "(function(root) {\n",
       "  function embed_document(root) {\n",
       "    \n",
       "  var docs_json = {\"6090fba9-d6a0-404a-ab33-d0f3040424a6\":{\"defs\":[],\"roots\":{\"references\":[{\"attributes\":{\"children\":[{\"id\":\"1020\"},{\"id\":\"1065\"},{\"id\":\"1110\"}]},\"id\":\"1153\",\"type\":\"Row\"},{\"attributes\":{\"line_color\":\"#1f77b4\",\"x\":{\"field\":\"x\"},\"y\":{\"field\":\"y\"}},\"id\":\"1145\",\"type\":\"Line\"},{\"attributes\":{},\"id\":\"1170\",\"type\":\"UnionRenderers\"},{\"attributes\":{\"source\":{\"id\":\"1054\"}},\"id\":\"1058\",\"type\":\"CDSView\"},{\"attributes\":{\"data\":{},\"selected\":{\"id\":\"1176\"},\"selection_policy\":{\"id\":\"1177\"}},\"id\":\"1088\",\"type\":\"ColumnDataSource\"},{\"attributes\":{\"format\":\"0\"},\"id\":\"1016\",\"type\":\"NumeralTickFormatter\"},{\"attributes\":{},\"id\":\"1171\",\"type\":\"Selection\"},{\"attributes\":{\"bottom_units\":\"screen\",\"fill_alpha\":0.5,\"fill_color\":\"lightgrey\",\"left_units\":\"screen\",\"level\":\"overlay\",\"line_alpha\":1.0,\"line_color\":\"black\",\"line_dash\":[4,4],\"line_width\":2,\"right_units\":\"screen\",\"syncable\":false,\"top_units\":\"screen\"},\"id\":\"1039\",\"type\":\"BoxAnnotation\"},{\"attributes\":{\"data\":{},\"selected\":{\"id\":\"1178\"},\"selection_policy\":{\"id\":\"1179\"}},\"id\":\"1093\",\"type\":\"ColumnDataSource\"},{\"attributes\":{\"data_source\":{\"id\":\"1088\"},\"glyph\":{\"id\":\"1089\"},\"hover_glyph\":null,\"muted_glyph\":null,\"nonselection_glyph\":{\"id\":\"1090\"},\"view\":{\"id\":\"1092\"}},\"id\":\"1091\",\"type\":\"GlyphRenderer\"},{\"attributes\":{},\"id\":\"1172\",\"type\":\"UnionRenderers\"},{\"attributes\":{\"fill_alpha\":{\"value\":0.1},\"fill_color\":{\"value\":\"#1f77b4\"},\"line_alpha\":{\"value\":0.1},\"line_color\":{\"value\":\"green\"},\"size\":{\"value\":10},\"x\":{\"value\":16},\"y\":{\"value\":106328}},\"id\":\"1090\",\"type\":\"Circle\"},{\"attributes\":{\"fill_alpha\":{\"value\":0.0},\"fill_color\":{\"value\":\"#1f77b4\"},\"line_color\":{\"value\":\"green\"},\"size\":{\"value\":10},\"x\":{\"value\":16},\"y\":{\"value\":106328}},\"id\":\"1089\",\"type\":\"Circle\"},{\"attributes\":{},\"id\":\"1173\",\"type\":\"Selection\"},{\"attributes\":{},\"id\":\"1070\",\"type\":\"DataRange1d\"},{\"attributes\":{},\"id\":\"1174\",\"type\":\"UnionRenderers\"},{\"attributes\":{\"align\":\"center\",\"text\":\"Hour vs Total Events\"},\"id\":\"1066\",\"type\":\"Title\"},{\"attributes\":{\"source\":{\"id\":\"1088\"}},\"id\":\"1092\",\"type\":\"CDSView\"},{\"attributes\":{\"fill_alpha\":{\"value\":0.0},\"fill_color\":{\"value\":\"#1f77b4\"},\"line_color\":{\"value\":\"red\"},\"size\":{\"value\":10},\"x\":{\"value\":7},\"y\":{\"value\":13410}},\"id\":\"1094\",\"type\":\"Circle\"},{\"attributes\":{},\"id\":\"1176\",\"type\":\"Selection\"},{\"attributes\":{},\"id\":\"1081\",\"type\":\"BasicTicker\"},{\"attributes\":{\"fill_alpha\":{\"value\":0.1},\"fill_color\":{\"value\":\"#1f77b4\"},\"line_alpha\":{\"value\":0.1},\"line_color\":{\"value\":\"red\"},\"size\":{\"value\":10},\"x\":{\"value\":7},\"y\":{\"value\":13410}},\"id\":\"1095\",\"type\":\"Circle\"},{\"attributes\":{},\"id\":\"1177\",\"type\":\"UnionRenderers\"},{\"attributes\":{\"fill_alpha\":{\"value\":0.0},\"fill_color\":{\"value\":\"#1f77b4\"},\"line_color\":{\"value\":\"red\"},\"size\":{\"value\":10},\"x\":{\"value\":1574985600000.0},\"y\":{\"value\":1}},\"id\":\"1049\",\"type\":\"Circle\"},{\"attributes\":{},\"id\":\"1178\",\"type\":\"Selection\"},{\"attributes\":{\"axis\":{\"id\":\"1031\"},\"ticker\":null},\"id\":\"1034\",\"type\":\"Grid\"},{\"attributes\":{},\"id\":\"1179\",\"type\":\"UnionRenderers\"},{\"attributes\":{\"data_source\":{\"id\":\"1048\"},\"glyph\":{\"id\":\"1049\"},\"hover_glyph\":null,\"muted_glyph\":null,\"nonselection_glyph\":{\"id\":\"1050\"},\"view\":{\"id\":\"1052\"}},\"id\":\"1051\",\"type\":\"GlyphRenderer\"},{\"attributes\":{\"data_source\":{\"id\":\"1093\"},\"glyph\":{\"id\":\"1094\"},\"hover_glyph\":null,\"muted_glyph\":null,\"nonselection_glyph\":{\"id\":\"1095\"},\"view\":{\"id\":\"1097\"}},\"id\":\"1096\",\"type\":\"GlyphRenderer\"},{\"attributes\":{\"source\":{\"id\":\"1048\"}},\"id\":\"1052\",\"type\":\"CDSView\"},{\"attributes\":{},\"id\":\"1180\",\"type\":\"Selection\"},{\"attributes\":{\"source\":{\"id\":\"1093\"}},\"id\":\"1097\",\"type\":\"CDSView\"},{\"attributes\":{\"data\":{\"x\":[0,1,2,3,4,5,6,7,8,9,10,11,12,13,14,15,16,17,18,19,20,21,22,23],\"y\":[21600,21260,18133,17152,18578,18914,15602,13410,15487,16797,16334,23767,19296,21163,23025,34343,106328,45466,24260,23396,24400,26379,20740,23287]},\"selected\":{\"id\":\"1180\"},\"selection_policy\":{\"id\":\"1181\"}},\"id\":\"1099\",\"type\":\"ColumnDataSource\"},{\"attributes\":{},\"id\":\"1181\",\"type\":\"UnionRenderers\"},{\"attributes\":{\"line_color\":\"#1f77b4\",\"x\":{\"field\":\"x\"},\"y\":{\"field\":\"y\"}},\"id\":\"1100\",\"type\":\"Line\"},{\"attributes\":{},\"id\":\"1183\",\"type\":\"Selection\"},{\"attributes\":{},\"id\":\"1184\",\"type\":\"UnionRenderers\"},{\"attributes\":{\"axis_label\":\"Date\",\"formatter\":{\"id\":\"1014\"},\"major_label_policy\":{\"id\":\"1160\"},\"ticker\":{\"id\":\"1032\"}},\"id\":\"1031\",\"type\":\"LinearAxis\"},{\"attributes\":{},\"id\":\"1063\",\"type\":\"ResetTool\"},{\"attributes\":{},\"id\":\"1185\",\"type\":\"Selection\"},{\"attributes\":{\"format\":\"0,\"},\"id\":\"1060\",\"type\":\"NumeralTickFormatter\"},{\"attributes\":{\"callback\":null,\"formatters\":{\"$y\":\"printf\"},\"tooltips\":[[\"Total Events\",\"@y{0,0}\"],[\"Year\",\"@x\"]]},\"id\":\"1008\",\"type\":\"HoverTool\"},{\"attributes\":{\"overlay\":{\"id\":\"1084\"}},\"id\":\"1064\",\"type\":\"BoxZoomTool\"},{\"attributes\":{},\"id\":\"1186\",\"type\":\"UnionRenderers\"},{\"attributes\":{},\"id\":\"1187\",\"type\":\"Selection\"},{\"attributes\":{\"below\":[{\"id\":\"1076\"}],\"center\":[{\"id\":\"1079\"},{\"id\":\"1083\"}],\"height\":300,\"left\":[{\"id\":\"1080\"}],\"renderers\":[{\"id\":\"1091\"},{\"id\":\"1096\"},{\"id\":\"1102\"}],\"title\":{\"id\":\"1066\"},\"toolbar\":{\"id\":\"1085\"},\"width\":330,\"x_range\":{\"id\":\"1068\"},\"x_scale\":{\"id\":\"1072\"},\"y_range\":{\"id\":\"1070\"},\"y_scale\":{\"id\":\"1074\"}},\"id\":\"1065\",\"subtype\":\"Figure\",\"type\":\"Plot\"},{\"attributes\":{},\"id\":\"1018\",\"type\":\"ResetTool\"},{\"attributes\":{},\"id\":\"1188\",\"type\":\"UnionRenderers\"},{\"attributes\":{\"desired_num_ticks\":3},\"id\":\"1077\",\"type\":\"BasicTicker\"},{\"attributes\":{\"data\":{\"x\":{\"__ndarray__\":\"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\",\"dtype\":\"float64\",\"order\":\"little\",\"shape\":[549]},\"y\":[6,3,1,2,8,10,2,5,4,3,3,2,10,245,390,259,359,103,402,529,688,732,858,1009,424,170,1192,868,175,209,422,150,100,435,353,172,1356,1072,175,76,217,337,510,284,804,176,63,421,326,290,138,370,139,112,409,547,494,161,184,31,75,371,100,127,247,217,38,68,547,252,240,244,432,127,55,246,193,177,81,64,19,46,336,227,215,120,84,44,109,123,459,574,153,200,44,30,228,438,146,55,23,22,11,55,82,1969,566,163,30,21,348,111,492,298,467,86,108,490,390,1009,246,277,1012,151,227,311,297,228,154,199,172,302,130,118,100,308,115,76,97,197,130,149,142,111,176,99,149,151,233,152,84,89,76,135,275,207,254,188,206,415,227,350,518,502,264,191,349,206,354,963,603,461,1580,1277,955,652,1516,623,466,797,596,622,514,447,416,282,672,562,440,449,635,401,455,398,1825,665,1305,530,261,171,180,185,318,243,404,399,232,183,261,573,275,808,384,648,1251,1329,952,567,613,730,615,871,876,1085,777,1083,612,1065,688,881,887,605,525,1202,502,526,699,745,617,215,365,377,328,258,590,625,293,366,323,1469,1010,1585,710,1992,281,392,364,722,738,570,775,421,510,658,644,1953,1156,606,464,462,103155,442,491,430,681,454,1407,579,1114,1316,1511,1450,862,633,722,554,572,838,746,605,444,304,339,615,313,497,363,260,298,272,292,380,558,248,172,183,204,133,255,368,264,190,284,621,1039,937,869,1101,891,1017,1024,1035,1368,1529,2668,1189,1337,1585,1349,1043,612,941,992,1405,1121,1230,1448,1160,801,707,1040,1216,1247,1363,1157,1077,707,1173,863,687,651,843,786,823,1170,1379,843,1020,994,1117,815,932,1162,424,954,1009,922,830,724,1000,1231,2235,1311,1765,1143,1243,925,1092,882,508,547,344,724,870,1271,1162,951,674,518,696,623,660,413,528,506,606,1026,771,587,931,566,706,865,1549,1481,1559,1259,1469,1732,1426,1522,783,804,1035,1086,911,871,1069,1370,991,984,857,1857,1303,2040,1892,3580,8562,1522,3003,3371,1923,1860,2969,1828,2007,1822,2581,2495,4713,4878,1637,2638,1902,3877,3164,2193,2390,4102,10523,3782,2156,3887,3091,3995,10027,9436,5442,2961,2311,2336,3403,2577,2511,3158,1716,1902,2055,1468,1267,2406,1456,916,2067,1979,2013,1839,2926,3058,1444,6402,6527,1712,1944,1122,1612,1204,1150,2513,844,1799,1976,830,1131,958,1353,710,652,583,479,390,2269,1645,652,659,605,498,982,1329,875,1791,1857,1316,1414,440,459,5258,4021,813,590,460,806,465,538,519,499,1294,750,726,1453,654,663,1609,691,613,376,288,346,403,639,525,454,583,358,482,511,1638,353,914]},\"selected\":{\"id\":\"1173\"},\"selection_policy\":{\"id\":\"1174\"}},\"id\":\"1054\",\"type\":\"ColumnDataSource\"},{\"attributes\":{\"source\":{\"id\":\"1099\"}},\"id\":\"1103\",\"type\":\"CDSView\"},{\"attributes\":{\"data_source\":{\"id\":\"1099\"},\"glyph\":{\"id\":\"1100\"},\"hover_glyph\":null,\"muted_glyph\":null,\"nonselection_glyph\":{\"id\":\"1101\"},\"view\":{\"id\":\"1103\"}},\"id\":\"1102\",\"type\":\"GlyphRenderer\"},{\"attributes\":{\"axis\":{\"id\":\"1035\"},\"dimension\":1,\"ticker\":null},\"id\":\"1038\",\"type\":\"Grid\"},{\"attributes\":{\"line_color\":\"#1f77b4\",\"x\":{\"field\":\"x\"},\"y\":{\"field\":\"y\"}},\"id\":\"1055\",\"type\":\"Line\"},{\"attributes\":{\"callback\":null,\"formatters\":{\"$y\":\"printf\"},\"tooltips\":[[\"Total Events\",\"@y{0,0}\"],[\"Hour\",\"@x\"]]},\"id\":\"1005\",\"type\":\"HoverTool\"},{\"attributes\":{},\"id\":\"1108\",\"type\":\"ResetTool\"},{\"attributes\":{\"format\":\"0,\"},\"id\":\"1105\",\"type\":\"NumeralTickFormatter\"},{\"attributes\":{\"axis\":{\"id\":\"1080\"},\"dimension\":1,\"ticker\":null},\"id\":\"1083\",\"type\":\"Grid\"},{\"attributes\":{\"fill_alpha\":{\"value\":0.1},\"fill_color\":{\"value\":\"#1f77b4\"},\"line_alpha\":{\"value\":0.1},\"line_color\":{\"value\":\"red\"},\"size\":{\"value\":10},\"x\":{\"value\":1574985600000.0},\"y\":{\"value\":1}},\"id\":\"1050\",\"type\":\"Circle\"},{\"attributes\":{\"data_source\":{\"id\":\"1054\"},\"glyph\":{\"id\":\"1055\"},\"hover_glyph\":null,\"muted_glyph\":null,\"nonselection_glyph\":{\"id\":\"1056\"},\"view\":{\"id\":\"1058\"}},\"id\":\"1057\",\"type\":\"GlyphRenderer\"},{\"attributes\":{\"line_alpha\":0.1,\"line_color\":\"#1f77b4\",\"x\":{\"field\":\"x\"},\"y\":{\"field\":\"y\"}},\"id\":\"1101\",\"type\":\"Line\"},{\"attributes\":{\"axis\":{\"id\":\"1076\"},\"ticker\":null},\"id\":\"1079\",\"type\":\"Grid\"},{\"attributes\":{\"overlay\":{\"id\":\"1129\"}},\"id\":\"1109\",\"type\":\"BoxZoomTool\"},{\"attributes\":{\"axis_label\":\"Total Events\",\"formatter\":{\"id\":\"1060\"},\"major_label_policy\":{\"id\":\"1158\"},\"ticker\":{\"id\":\"1036\"}},\"id\":\"1035\",\"type\":\"LinearAxis\"},{\"attributes\":{},\"id\":\"1068\",\"type\":\"DataRange1d\"},{\"attributes\":{},\"id\":\"1166\",\"type\":\"AllLabels\"},{\"attributes\":{},\"id\":\"1169\",\"type\":\"Selection\"},{\"attributes\":{},\"id\":\"1160\",\"type\":\"AllLabels\"},{\"attributes\":{\"active_multi\":null,\"tools\":[{\"id\":\"1018\"},{\"id\":\"1019\"},{\"id\":\"1002\"}]},\"id\":\"1040\",\"type\":\"Toolbar\"},{\"attributes\":{\"active_multi\":null,\"tools\":[{\"id\":\"1063\"},{\"id\":\"1064\"},{\"id\":\"1005\"}]},\"id\":\"1085\",\"type\":\"Toolbar\"},{\"attributes\":{\"below\":[{\"id\":\"1121\"}],\"center\":[{\"id\":\"1124\"},{\"id\":\"1128\"}],\"height\":300,\"left\":[{\"id\":\"1125\"}],\"renderers\":[{\"id\":\"1136\"},{\"id\":\"1141\"},{\"id\":\"1147\"}],\"title\":{\"id\":\"1111\"},\"toolbar\":{\"id\":\"1130\"},\"width\":330,\"x_range\":{\"id\":\"1113\"},\"x_scale\":{\"id\":\"1117\"},\"y_range\":{\"id\":\"1115\"},\"y_scale\":{\"id\":\"1119\"}},\"id\":\"1110\",\"subtype\":\"Figure\",\"type\":\"Plot\"},{\"attributes\":{\"align\":\"center\",\"text\":\"Year vs Total Events\"},\"id\":\"1111\",\"type\":\"Title\"},{\"attributes\":{},\"id\":\"1168\",\"type\":\"AllLabels\"},{\"attributes\":{},\"id\":\"1113\",\"type\":\"DataRange1d\"},{\"attributes\":{\"line_alpha\":0.1,\"line_color\":\"#1f77b4\",\"x\":{\"field\":\"x\"},\"y\":{\"field\":\"y\"}},\"id\":\"1056\",\"type\":\"Line\"},{\"attributes\":{},\"id\":\"1023\",\"type\":\"DataRange1d\"},{\"attributes\":{},\"id\":\"1164\",\"type\":\"AllLabels\"},{\"attributes\":{\"axis_label\":\"Hour\",\"formatter\":{\"id\":\"1015\"},\"major_label_policy\":{\"id\":\"1164\"},\"ticker\":{\"id\":\"1077\"}},\"id\":\"1076\",\"type\":\"LinearAxis\"},{\"attributes\":{},\"id\":\"1072\",\"type\":\"LinearScale\"},{\"attributes\":{\"overlay\":{\"id\":\"1039\"}},\"id\":\"1019\",\"type\":\"BoxZoomTool\"},{\"attributes\":{},\"id\":\"1162\",\"type\":\"AllLabels\"},{\"attributes\":{},\"id\":\"1074\",\"type\":\"LinearScale\"},{\"attributes\":{\"axis_label\":\"Year\",\"formatter\":{\"id\":\"1016\"},\"major_label_policy\":{\"id\":\"1168\"},\"ticker\":{\"id\":\"1122\"}},\"id\":\"1121\",\"type\":\"LinearAxis\"},{\"attributes\":{},\"id\":\"1115\",\"type\":\"DataRange1d\"},{\"attributes\":{\"callback\":null,\"formatters\":{\"$x\":\"datetime\",\"$y\":\"printf\"},\"tooltips\":[[\"Total Events\",\"@y{0,0}\"],[\"Date\",\"$x{%F}\"]]},\"id\":\"1002\",\"type\":\"HoverTool\"},{\"attributes\":{\"formatter\":{\"id\":\"1105\"},\"major_label_policy\":{\"id\":\"1162\"},\"ticker\":{\"id\":\"1081\"}},\"id\":\"1080\",\"type\":\"LinearAxis\"},{\"attributes\":{},\"id\":\"1158\",\"type\":\"AllLabels\"},{\"attributes\":{},\"id\":\"1036\",\"type\":\"BasicTicker\"},{\"attributes\":{},\"id\":\"1117\",\"type\":\"LinearScale\"},{\"attributes\":{},\"id\":\"1119\",\"type\":\"LinearScale\"},{\"attributes\":{\"bottom_units\":\"screen\",\"fill_alpha\":0.5,\"fill_color\":\"lightgrey\",\"left_units\":\"screen\",\"level\":\"overlay\",\"line_alpha\":1.0,\"line_color\":\"black\",\"line_dash\":[4,4],\"line_width\":2,\"right_units\":\"screen\",\"syncable\":false,\"top_units\":\"screen\"},\"id\":\"1084\",\"type\":\"BoxAnnotation\"},{\"attributes\":{\"axis\":{\"id\":\"1125\"},\"dimension\":1,\"ticker\":null},\"id\":\"1128\",\"type\":\"Grid\"},{\"attributes\":{\"desired_num_ticks\":3},\"id\":\"1122\",\"type\":\"BasicTicker\"},{\"attributes\":{},\"id\":\"1027\",\"type\":\"LinearScale\"},{\"attributes\":{\"axis\":{\"id\":\"1121\"},\"ticker\":null},\"id\":\"1124\",\"type\":\"Grid\"},{\"attributes\":{},\"id\":\"1126\",\"type\":\"BasicTicker\"},{\"attributes\":{\"formatter\":{\"id\":\"1150\"},\"major_label_policy\":{\"id\":\"1166\"},\"ticker\":{\"id\":\"1126\"}},\"id\":\"1125\",\"type\":\"LinearAxis\"},{\"attributes\":{\"line_alpha\":0.1,\"line_color\":\"#1f77b4\",\"x\":{\"field\":\"x\"},\"y\":{\"field\":\"y\"}},\"id\":\"1146\",\"type\":\"Line\"},{\"attributes\":{\"data_source\":{\"id\":\"1144\"},\"glyph\":{\"id\":\"1145\"},\"hover_glyph\":null,\"muted_glyph\":null,\"nonselection_glyph\":{\"id\":\"1146\"},\"view\":{\"id\":\"1148\"}},\"id\":\"1147\",\"type\":\"GlyphRenderer\"},{\"attributes\":{\"format\":\"0,\"},\"id\":\"1150\",\"type\":\"NumeralTickFormatter\"},{\"attributes\":{\"source\":{\"id\":\"1144\"}},\"id\":\"1148\",\"type\":\"CDSView\"},{\"attributes\":{\"data\":{\"x\":[2019,2020,2021],\"y\":[10131,315466,283520]},\"selected\":{\"id\":\"1187\"},\"selection_policy\":{\"id\":\"1188\"}},\"id\":\"1144\",\"type\":\"ColumnDataSource\"},{\"attributes\":{\"source\":{\"id\":\"1138\"}},\"id\":\"1142\",\"type\":\"CDSView\"},{\"attributes\":{},\"id\":\"1025\",\"type\":\"DataRange1d\"},{\"attributes\":{\"data_source\":{\"id\":\"1043\"},\"glyph\":{\"id\":\"1044\"},\"hover_glyph\":null,\"muted_glyph\":null,\"nonselection_glyph\":{\"id\":\"1045\"},\"view\":{\"id\":\"1047\"}},\"id\":\"1046\",\"type\":\"GlyphRenderer\"},{\"attributes\":{\"bottom_units\":\"screen\",\"fill_alpha\":0.5,\"fill_color\":\"lightgrey\",\"left_units\":\"screen\",\"level\":\"overlay\",\"line_alpha\":1.0,\"line_color\":\"black\",\"line_dash\":[4,4],\"line_width\":2,\"right_units\":\"screen\",\"syncable\":false,\"top_units\":\"screen\"},\"id\":\"1129\",\"type\":\"BoxAnnotation\"},{\"attributes\":{\"active_multi\":null,\"tools\":[{\"id\":\"1108\"},{\"id\":\"1109\"},{\"id\":\"1008\"}]},\"id\":\"1130\",\"type\":\"Toolbar\"},{\"attributes\":{\"data\":{},\"selected\":{\"id\":\"1169\"},\"selection_policy\":{\"id\":\"1170\"}},\"id\":\"1043\",\"type\":\"ColumnDataSource\"},{\"attributes\":{\"desired_num_ticks\":3},\"id\":\"1032\",\"type\":\"BasicTicker\"},{\"attributes\":{\"months\":[\"%Y-%m-%d\"]},\"id\":\"1014\",\"type\":\"DatetimeTickFormatter\"},{\"attributes\":{\"data\":{},\"selected\":{\"id\":\"1183\"},\"selection_policy\":{\"id\":\"1184\"}},\"id\":\"1133\",\"type\":\"ColumnDataSource\"},{\"attributes\":{\"data\":{},\"selected\":{\"id\":\"1171\"},\"selection_policy\":{\"id\":\"1172\"}},\"id\":\"1048\",\"type\":\"ColumnDataSource\"},{\"attributes\":{\"format\":\"0\"},\"id\":\"1015\",\"type\":\"NumeralTickFormatter\"},{\"attributes\":{\"data\":{},\"selected\":{\"id\":\"1185\"},\"selection_policy\":{\"id\":\"1186\"}},\"id\":\"1138\",\"type\":\"ColumnDataSource\"},{\"attributes\":{\"fill_alpha\":{\"value\":0.1},\"fill_color\":{\"value\":\"#1f77b4\"},\"line_alpha\":{\"value\":0.1},\"line_color\":{\"value\":\"green\"},\"size\":{\"value\":10},\"x\":{\"value\":2020},\"y\":{\"value\":315466}},\"id\":\"1135\",\"type\":\"Circle\"},{\"attributes\":{\"fill_alpha\":{\"value\":0.0},\"fill_color\":{\"value\":\"#1f77b4\"},\"line_color\":{\"value\":\"green\"},\"size\":{\"value\":10},\"x\":{\"value\":2020},\"y\":{\"value\":315466}},\"id\":\"1134\",\"type\":\"Circle\"},{\"attributes\":{},\"id\":\"1029\",\"type\":\"LinearScale\"},{\"attributes\":{\"data_source\":{\"id\":\"1133\"},\"glyph\":{\"id\":\"1134\"},\"hover_glyph\":null,\"muted_glyph\":null,\"nonselection_glyph\":{\"id\":\"1135\"},\"view\":{\"id\":\"1137\"}},\"id\":\"1136\",\"type\":\"GlyphRenderer\"},{\"attributes\":{\"source\":{\"id\":\"1133\"}},\"id\":\"1137\",\"type\":\"CDSView\"},{\"attributes\":{\"align\":\"center\",\"text\":\"Date vs Total Events\"},\"id\":\"1021\",\"type\":\"Title\"},{\"attributes\":{\"fill_alpha\":{\"value\":0.0},\"fill_color\":{\"value\":\"#1f77b4\"},\"line_color\":{\"value\":\"red\"},\"size\":{\"value\":10},\"x\":{\"value\":2019},\"y\":{\"value\":10131}},\"id\":\"1139\",\"type\":\"Circle\"},{\"attributes\":{\"data_source\":{\"id\":\"1138\"},\"glyph\":{\"id\":\"1139\"},\"hover_glyph\":null,\"muted_glyph\":null,\"nonselection_glyph\":{\"id\":\"1140\"},\"view\":{\"id\":\"1142\"}},\"id\":\"1141\",\"type\":\"GlyphRenderer\"},{\"attributes\":{\"source\":{\"id\":\"1043\"}},\"id\":\"1047\",\"type\":\"CDSView\"},{\"attributes\":{\"fill_alpha\":{\"value\":0.1},\"fill_color\":{\"value\":\"#1f77b4\"},\"line_alpha\":{\"value\":0.1},\"line_color\":{\"value\":\"green\"},\"size\":{\"value\":10},\"x\":{\"value\":1598140800000.0},\"y\":{\"value\":103155}},\"id\":\"1045\",\"type\":\"Circle\"},{\"attributes\":{\"fill_alpha\":{\"value\":0.0},\"fill_color\":{\"value\":\"#1f77b4\"},\"line_color\":{\"value\":\"green\"},\"size\":{\"value\":10},\"x\":{\"value\":1598140800000.0},\"y\":{\"value\":103155}},\"id\":\"1044\",\"type\":\"Circle\"},{\"attributes\":{\"below\":[{\"id\":\"1031\"}],\"center\":[{\"id\":\"1034\"},{\"id\":\"1038\"}],\"height\":300,\"left\":[{\"id\":\"1035\"}],\"renderers\":[{\"id\":\"1046\"},{\"id\":\"1051\"},{\"id\":\"1057\"}],\"title\":{\"id\":\"1021\"},\"toolbar\":{\"id\":\"1040\"},\"width\":330,\"x_range\":{\"id\":\"1023\"},\"x_scale\":{\"id\":\"1027\"},\"y_range\":{\"id\":\"1025\"},\"y_scale\":{\"id\":\"1029\"}},\"id\":\"1020\",\"subtype\":\"Figure\",\"type\":\"Plot\"},{\"attributes\":{\"fill_alpha\":{\"value\":0.1},\"fill_color\":{\"value\":\"#1f77b4\"},\"line_alpha\":{\"value\":0.1},\"line_color\":{\"value\":\"red\"},\"size\":{\"value\":10},\"x\":{\"value\":2019},\"y\":{\"value\":10131}},\"id\":\"1140\",\"type\":\"Circle\"}],\"root_ids\":[\"1153\"]},\"title\":\"Bokeh Application\",\"version\":\"2.3.2\"}};\n",
       "  var render_items = [{\"docid\":\"6090fba9-d6a0-404a-ab33-d0f3040424a6\",\"root_ids\":[\"1153\"],\"roots\":{\"1153\":\"6c190126-a3d7-45fc-a1a0-371314d50bd2\"}}];\n",
       "  root.Bokeh.embed.embed_items_notebook(docs_json, render_items);\n",
       "\n",
       "  }\n",
       "  if (root.Bokeh !== undefined) {\n",
       "    embed_document(root);\n",
       "  } else {\n",
       "    var attempts = 0;\n",
       "    var timer = setInterval(function(root) {\n",
       "      if (root.Bokeh !== undefined) {\n",
       "        clearInterval(timer);\n",
       "        embed_document(root);\n",
       "      } else {\n",
       "        attempts++;\n",
       "        if (attempts > 100) {\n",
       "          clearInterval(timer);\n",
       "          console.log(\"Bokeh: ERROR: Unable to run BokehJS code because BokehJS library is missing\");\n",
       "        }\n",
       "      }\n",
       "    }, 10, root)\n",
       "  }\n",
       "})(window);"
      ],
      "application/vnd.bokehjs_exec.v0+json": ""
     },
     "metadata": {
      "application/vnd.bokehjs_exec.v0+json": {
       "id": "1153"
      }
     },
     "output_type": "display_data"
    }
   ],
   "source": [
    "time_dims = [\"date\",\"hour\", \"year\"]\n",
    "dfs = [df.groupby(x, as_index=False).size().rename(columns={\"size\": \"total_events\"}) for x in time_dims]\n",
    "show(row([generae_fig_to_plot(df, ticks=3) for df in dfs]))"
   ]
  },
  {
   "cell_type": "markdown",
   "metadata": {},
   "source": [
    "**Notice the following:**\n",
    "1. **August 23rd, 2020** had 103,155 events. This could be due to a few things such as: an event or a raffle, a huge rush of sign-ups on the platform, or a few big time influencers joined and folks flocked to be the first to follow them.\n",
    "2. The 4pm hour is the prime time hour for follower activity. Although, the **August 23rd, 2020** boost could cause this to be a lot more misleading than the norm.\n",
    "3. The 7am hour is the least active time for followers.\n",
    "4. 2020 saw the largest jump in follower activity. However, we're less than halfway-through 2021 and follower activity for this year looks to surpass 2020s numbers, indicating growth on the platform.\n",
    "\n",
    "Now, let's go ahead and take a look at what's going down year over year."
   ]
  },
  {
   "cell_type": "code",
   "execution_count": 4,
   "metadata": {
    "ExecuteTime": {
     "end_time": "2021-06-01T14:41:44.636206Z",
     "start_time": "2021-06-01T14:41:44.417996Z"
    }
   },
   "outputs": [
    {
     "data": {
      "text/html": [
       "\n",
       "\n",
       "\n",
       "\n",
       "\n",
       "\n",
       "  <div class=\"bk-root\" id=\"350d2359-8d67-476e-ba57-77a19a88e175\" data-root-id=\"1373\"></div>\n"
      ]
     },
     "metadata": {},
     "output_type": "display_data"
    },
    {
     "data": {
      "application/javascript": [
       "(function(root) {\n",
       "  function embed_document(root) {\n",
       "    \n",
       "  var docs_json = {\"b60e837c-e970-4f2e-9f3e-851657466dda\":{\"defs\":[],\"roots\":{\"references\":[{\"attributes\":{\"below\":[{\"id\":\"1384\"}],\"center\":[{\"id\":\"1386\"},{\"id\":\"1390\"},{\"id\":\"1413\"}],\"left\":[{\"id\":\"1387\"}],\"renderers\":[{\"id\":\"1402\"},{\"id\":\"1418\"},{\"id\":\"1435\"}],\"title\":{\"id\":\"1374\"},\"toolbar\":{\"id\":\"1392\"},\"width\":850,\"x_range\":{\"id\":\"1376\"},\"x_scale\":{\"id\":\"1380\"},\"y_range\":{\"id\":\"1378\"},\"y_scale\":{\"id\":\"1382\"}},\"id\":\"1373\",\"subtype\":\"Figure\",\"type\":\"Plot\"},{\"attributes\":{\"axis\":{\"id\":\"1387\"},\"dimension\":1,\"ticker\":null},\"id\":\"1390\",\"type\":\"Grid\"},{\"attributes\":{},\"id\":\"1408\",\"type\":\"AllLabels\"},{\"attributes\":{\"axis_label\":\"Total Events\",\"formatter\":{\"id\":\"1396\"},\"major_label_policy\":{\"id\":\"1406\"},\"ticker\":{\"id\":\"1388\"}},\"id\":\"1387\",\"type\":\"LinearAxis\"},{\"attributes\":{\"items\":[{\"id\":\"1414\"},{\"id\":\"1431\"},{\"id\":\"1450\"}]},\"id\":\"1413\",\"type\":\"Legend\"},{\"attributes\":{\"overlay\":{\"id\":\"1391\"}},\"id\":\"1371\",\"type\":\"BoxZoomTool\"},{\"attributes\":{},\"id\":\"1385\",\"type\":\"CategoricalTicker\"},{\"attributes\":{},\"id\":\"1388\",\"type\":\"BasicTicker\"},{\"attributes\":{\"data_source\":{\"id\":\"1399\"},\"glyph\":{\"id\":\"1400\"},\"hover_glyph\":null,\"muted_glyph\":null,\"nonselection_glyph\":{\"id\":\"1401\"},\"view\":{\"id\":\"1403\"}},\"id\":\"1402\",\"type\":\"GlyphRenderer\"},{\"attributes\":{\"active_multi\":null,\"tools\":[{\"id\":\"1370\"},{\"id\":\"1371\"},{\"id\":\"1372\"},{\"id\":\"1011\"}]},\"id\":\"1392\",\"type\":\"Toolbar\"},{\"attributes\":{\"data\":{\"x\":[\"Jan\",\"Feb\",\"Mar\",\"Apr\",\"May\",\"Jun\",\"Jul\",\"Aug\",\"Sep\",\"Oct\",\"Nov\",\"Dec\"],\"y\":[10001,5517,9862,4851,17466,16722,20188,126558,15939,32125,28928,27309]},\"selected\":{\"id\":\"1428\"},\"selection_policy\":{\"id\":\"1429\"}},\"id\":\"1415\",\"type\":\"ColumnDataSource\"},{\"attributes\":{\"bottom_units\":\"screen\",\"fill_alpha\":0.5,\"fill_color\":\"lightgrey\",\"left_units\":\"screen\",\"level\":\"overlay\",\"line_alpha\":1.0,\"line_color\":\"black\",\"line_dash\":[4,4],\"line_width\":2,\"right_units\":\"screen\",\"syncable\":false,\"top_units\":\"screen\"},\"id\":\"1391\",\"type\":\"BoxAnnotation\"},{\"attributes\":{},\"id\":\"1406\",\"type\":\"AllLabels\"},{\"attributes\":{\"data\":{\"x\":[\"Jan\",\"Feb\",\"Mar\",\"Apr\",\"May\",\"Jun\",\"Jul\",\"Aug\",\"Sep\",\"Oct\",\"Nov\",\"Dec\"],\"y\":{\"__ndarray__\":\"AAAAAAAA+H8AAAAAAAD4fwAAAAAAAPh/AAAAAAAA+H8AAAAAAAD4fwAAAAAAAPh/AAAAAAAA+H8AAAAAAAD4fwAAAAAAAPh/AAAAAAAA+H8AAAAAAAAoQAAAAACAw8NA\",\"dtype\":\"float64\",\"order\":\"little\",\"shape\":[12]}},\"selected\":{\"id\":\"1410\"},\"selection_policy\":{\"id\":\"1411\"}},\"id\":\"1399\",\"type\":\"ColumnDataSource\"},{\"attributes\":{\"line_color\":\"#3182bd\",\"line_width\":2,\"x\":{\"field\":\"x\"},\"y\":{\"field\":\"y\"}},\"id\":\"1400\",\"type\":\"Line\"},{\"attributes\":{},\"id\":\"1448\",\"type\":\"UnionRenderers\"},{\"attributes\":{\"line_alpha\":0.1,\"line_color\":\"#756bb1\",\"line_width\":2,\"x\":{\"field\":\"x\"},\"y\":{\"field\":\"y\"}},\"id\":\"1417\",\"type\":\"Line\"},{\"attributes\":{},\"id\":\"1429\",\"type\":\"UnionRenderers\"},{\"attributes\":{\"source\":{\"id\":\"1399\"}},\"id\":\"1403\",\"type\":\"CDSView\"},{\"attributes\":{\"line_alpha\":0.1,\"line_color\":\"#31a354\",\"line_width\":2,\"x\":{\"field\":\"x\"},\"y\":{\"field\":\"y\"}},\"id\":\"1434\",\"type\":\"Line\"},{\"attributes\":{},\"id\":\"1409\",\"type\":\"CategoricalTickFormatter\"},{\"attributes\":{\"axis\":{\"id\":\"1384\"},\"ticker\":null},\"id\":\"1386\",\"type\":\"Grid\"},{\"attributes\":{\"label\":{\"value\":\"2020\"},\"renderers\":[{\"id\":\"1418\"}]},\"id\":\"1431\",\"type\":\"LegendItem\"},{\"attributes\":{\"data_source\":{\"id\":\"1415\"},\"glyph\":{\"id\":\"1416\"},\"hover_glyph\":null,\"muted_glyph\":null,\"nonselection_glyph\":{\"id\":\"1417\"},\"view\":{\"id\":\"1419\"}},\"id\":\"1418\",\"type\":\"GlyphRenderer\"},{\"attributes\":{\"data_source\":{\"id\":\"1432\"},\"glyph\":{\"id\":\"1433\"},\"hover_glyph\":null,\"muted_glyph\":null,\"nonselection_glyph\":{\"id\":\"1434\"},\"view\":{\"id\":\"1436\"}},\"id\":\"1435\",\"type\":\"GlyphRenderer\"},{\"attributes\":{\"line_color\":\"#756bb1\",\"line_width\":2,\"x\":{\"field\":\"x\"},\"y\":{\"field\":\"y\"}},\"id\":\"1416\",\"type\":\"Line\"},{\"attributes\":{\"data\":{\"x\":[\"Jan\",\"Feb\",\"Mar\",\"Apr\",\"May\",\"Jun\",\"Jul\",\"Aug\",\"Sep\",\"Oct\",\"Nov\",\"Dec\"],\"y\":{\"__ndarray__\":\"AAAAAMAQ6kAAAAAAsI35QAAAAADg7PBAAAAAAGAQ4kAAAAAAgLPSQAAAAAAAAPh/AAAAAAAA+H8AAAAAAAD4fwAAAAAAAPh/AAAAAAAA+H8AAAAAAAD4fwAAAAAAAPh/\",\"dtype\":\"float64\",\"order\":\"little\",\"shape\":[12]}},\"selected\":{\"id\":\"1447\"},\"selection_policy\":{\"id\":\"1448\"}},\"id\":\"1432\",\"type\":\"ColumnDataSource\"},{\"attributes\":{\"axis_label\":\"Month\",\"formatter\":{\"id\":\"1409\"},\"major_label_policy\":{\"id\":\"1408\"},\"ticker\":{\"id\":\"1385\"}},\"id\":\"1384\",\"type\":\"CategoricalAxis\"},{\"attributes\":{\"align\":\"center\",\"text\":\"Examining Follower Events over the Months\"},\"id\":\"1374\",\"type\":\"Title\"},{\"attributes\":{},\"id\":\"1378\",\"type\":\"DataRange1d\"},{\"attributes\":{\"format\":\"0,\"},\"id\":\"1396\",\"type\":\"NumeralTickFormatter\"},{\"attributes\":{\"source\":{\"id\":\"1432\"}},\"id\":\"1436\",\"type\":\"CDSView\"},{\"attributes\":{\"label\":{\"value\":\"2021\"},\"renderers\":[{\"id\":\"1435\"}]},\"id\":\"1450\",\"type\":\"LegendItem\"},{\"attributes\":{},\"id\":\"1411\",\"type\":\"UnionRenderers\"},{\"attributes\":{},\"id\":\"1380\",\"type\":\"CategoricalScale\"},{\"attributes\":{},\"id\":\"1428\",\"type\":\"Selection\"},{\"attributes\":{\"source\":{\"id\":\"1415\"}},\"id\":\"1419\",\"type\":\"CDSView\"},{\"attributes\":{},\"id\":\"1410\",\"type\":\"Selection\"},{\"attributes\":{\"factors\":[\"Jan\",\"Feb\",\"Mar\",\"Apr\",\"May\",\"Jun\",\"Jul\",\"Aug\",\"Sep\",\"Oct\",\"Nov\",\"Dec\"]},\"id\":\"1376\",\"type\":\"FactorRange\"},{\"attributes\":{\"line_alpha\":0.1,\"line_color\":\"#3182bd\",\"line_width\":2,\"x\":{\"field\":\"x\"},\"y\":{\"field\":\"y\"}},\"id\":\"1401\",\"type\":\"Line\"},{\"attributes\":{\"label\":{\"value\":\"2019\"},\"renderers\":[{\"id\":\"1402\"}]},\"id\":\"1414\",\"type\":\"LegendItem\"},{\"attributes\":{\"callback\":null,\"formatters\":{\"$y\":\"printf\"},\"tooltips\":[[\"Total Events\",\"@y{0,0}\"],[\"Month\",\"@x\"]]},\"id\":\"1011\",\"type\":\"HoverTool\"},{\"attributes\":{},\"id\":\"1382\",\"type\":\"LinearScale\"},{\"attributes\":{\"line_color\":\"#31a354\",\"line_width\":2,\"x\":{\"field\":\"x\"},\"y\":{\"field\":\"y\"}},\"id\":\"1433\",\"type\":\"Line\"},{\"attributes\":{},\"id\":\"1372\",\"type\":\"PanTool\"},{\"attributes\":{},\"id\":\"1447\",\"type\":\"Selection\"},{\"attributes\":{},\"id\":\"1370\",\"type\":\"ResetTool\"}],\"root_ids\":[\"1373\"]},\"title\":\"Bokeh Application\",\"version\":\"2.3.2\"}};\n",
       "  var render_items = [{\"docid\":\"b60e837c-e970-4f2e-9f3e-851657466dda\",\"root_ids\":[\"1373\"],\"roots\":{\"1373\":\"350d2359-8d67-476e-ba57-77a19a88e175\"}}];\n",
       "  root.Bokeh.embed.embed_items_notebook(docs_json, render_items);\n",
       "\n",
       "  }\n",
       "  if (root.Bokeh !== undefined) {\n",
       "    embed_document(root);\n",
       "  } else {\n",
       "    var attempts = 0;\n",
       "    var timer = setInterval(function(root) {\n",
       "      if (root.Bokeh !== undefined) {\n",
       "        clearInterval(timer);\n",
       "        embed_document(root);\n",
       "      } else {\n",
       "        attempts++;\n",
       "        if (attempts > 100) {\n",
       "          clearInterval(timer);\n",
       "          console.log(\"Bokeh: ERROR: Unable to run BokehJS code because BokehJS library is missing\");\n",
       "        }\n",
       "      }\n",
       "    }, 10, root)\n",
       "  }\n",
       "})(window);"
      ],
      "application/vnd.bokehjs_exec.v0+json": ""
     },
     "metadata": {
      "application/vnd.bokehjs_exec.v0+json": {
       "id": "1373"
      }
     },
     "output_type": "display_data"
    }
   ],
   "source": [
    "mo_event_count = get_monthly_event_count(df)\n",
    "df_to_plot = create_time_series_df(mo_event_count)\n",
    "plot_multi_lines(df_to_plot)"
   ]
  },
  {
   "cell_type": "markdown",
   "metadata": {},
   "source": [
    "Some descriptive statistics to go with the above graph!"
   ]
  },
  {
   "cell_type": "code",
   "execution_count": 5,
   "metadata": {
    "ExecuteTime": {
     "end_time": "2021-06-01T14:41:44.676824Z",
     "start_time": "2021-06-01T14:41:44.639966Z"
    }
   },
   "outputs": [
    {
     "data": {
      "text/html": [
       "<div>\n",
       "<style scoped>\n",
       "    .dataframe tbody tr th:only-of-type {\n",
       "        vertical-align: middle;\n",
       "    }\n",
       "\n",
       "    .dataframe tbody tr th {\n",
       "        vertical-align: top;\n",
       "    }\n",
       "\n",
       "    .dataframe thead th {\n",
       "        text-align: right;\n",
       "    }\n",
       "</style>\n",
       "<table border=\"1\" class=\"dataframe\">\n",
       "  <thead>\n",
       "    <tr style=\"text-align: right;\">\n",
       "      <th></th>\n",
       "      <th>count</th>\n",
       "      <th>mean</th>\n",
       "      <th>std</th>\n",
       "      <th>min</th>\n",
       "      <th>25%</th>\n",
       "      <th>50%</th>\n",
       "      <th>75%</th>\n",
       "      <th>max</th>\n",
       "    </tr>\n",
       "  </thead>\n",
       "  <tbody>\n",
       "    <tr>\n",
       "      <th>y_2019</th>\n",
       "      <td>2.0</td>\n",
       "      <td>5065.50</td>\n",
       "      <td>7146.73</td>\n",
       "      <td>12.0</td>\n",
       "      <td>2538.75</td>\n",
       "      <td>5065.5</td>\n",
       "      <td>7592.25</td>\n",
       "      <td>10119.0</td>\n",
       "    </tr>\n",
       "    <tr>\n",
       "      <th>y_2020</th>\n",
       "      <td>12.0</td>\n",
       "      <td>26288.83</td>\n",
       "      <td>32802.25</td>\n",
       "      <td>4851.0</td>\n",
       "      <td>9966.25</td>\n",
       "      <td>17094.0</td>\n",
       "      <td>27713.75</td>\n",
       "      <td>126558.0</td>\n",
       "    </tr>\n",
       "    <tr>\n",
       "      <th>y_2021</th>\n",
       "      <td>5.0</td>\n",
       "      <td>56704.00</td>\n",
       "      <td>32670.89</td>\n",
       "      <td>19150.0</td>\n",
       "      <td>36995.00</td>\n",
       "      <td>53382.0</td>\n",
       "      <td>69326.00</td>\n",
       "      <td>104667.0</td>\n",
       "    </tr>\n",
       "  </tbody>\n",
       "</table>\n",
       "</div>"
      ],
      "text/plain": [
       "        count      mean       std      min       25%      50%       75%  \\\n",
       "y_2019    2.0   5065.50   7146.73     12.0   2538.75   5065.5   7592.25   \n",
       "y_2020   12.0  26288.83  32802.25   4851.0   9966.25  17094.0  27713.75   \n",
       "y_2021    5.0  56704.00  32670.89  19150.0  36995.00  53382.0  69326.00   \n",
       "\n",
       "             max  \n",
       "y_2019   10119.0  \n",
       "y_2020  126558.0  \n",
       "y_2021  104667.0  "
      ]
     },
     "execution_count": 5,
     "metadata": {},
     "output_type": "execute_result"
    }
   ],
   "source": [
    "round(df_to_plot.describe().T, 2)"
   ]
  },
  {
   "cell_type": "markdown",
   "metadata": {},
   "source": [
    "2020 is the only full-year of data we have. Indicating the platform launched in 2019, and we're still barely halfway through 2021. This makes it challenging to do more complex time-based analysis, but there's still a lot this data can tell us.\n",
    "\n",
    "**Notice the following:**\n",
    "1. August 2020 and February 2021 have large spikes in follower activity, nodding at some sort of campaign or event.\n",
    "2. Q1 of 2021 has seen a 795.88% increase in follower activity compared to Q1 of 2020. But note the influence of the spike in February 2021.\n",
    "3. After 795.88% increase in follower activity in Q1 2021, Q2 2021 nods at follower activity leveling off, with a 151.58% increase in April and May.\n",
    "4. The standard deviation being so high indicates inconsistent follower activity each month. \n",
    "\n",
    "Let's take a look go ahead and take a look at the standard deviation across each month."
   ]
  },
  {
   "cell_type": "code",
   "execution_count": 6,
   "metadata": {
    "ExecuteTime": {
     "end_time": "2021-06-01T14:41:44.844336Z",
     "start_time": "2021-06-01T14:41:44.679754Z"
    }
   },
   "outputs": [
    {
     "data": {
      "text/html": [
       "\n",
       "\n",
       "\n",
       "\n",
       "\n",
       "\n",
       "  <div class=\"bk-root\" id=\"0e077b9c-3259-4775-a2a7-5a6344929b0c\" data-root-id=\"1697\"></div>\n"
      ]
     },
     "metadata": {},
     "output_type": "display_data"
    },
    {
     "data": {
      "application/javascript": [
       "(function(root) {\n",
       "  function embed_document(root) {\n",
       "    \n",
       "  var docs_json = {\"fe0f9dbd-e6be-4b5e-aa67-11626e594148\":{\"defs\":[],\"roots\":{\"references\":[{\"attributes\":{\"children\":[{\"id\":\"1568\"},{\"id\":\"1612\"},{\"id\":\"1656\"}]},\"id\":\"1697\",\"type\":\"Row\"},{\"attributes\":{\"source\":{\"id\":\"1599\"}},\"id\":\"1603\",\"type\":\"CDSView\"},{\"attributes\":{\"factors\":[\"Jan\",\"Feb\",\"Mar\",\"Apr\",\"May\",\"Jun\",\"Jul\",\"Aug\",\"Sep\",\"Oct\",\"Nov\",\"Dec\"]},\"id\":\"1659\",\"type\":\"FactorRange\"},{\"attributes\":{\"align\":\"center\",\"text\":\"Follower Events vs STD and Mean\"},\"id\":\"1657\",\"type\":\"Title\"},{\"attributes\":{\"source\":{\"id\":\"1604\"}},\"id\":\"1608\",\"type\":\"CDSView\"},{\"attributes\":{\"source\":{\"id\":\"1687\"}},\"id\":\"1691\",\"type\":\"CDSView\"},{\"attributes\":{\"data\":{\"x\":[\"Jan\",\"Feb\",\"Mar\",\"Apr\",\"May\",\"Jun\",\"Jul\",\"Aug\",\"Sep\",\"Oct\",\"Nov\",\"Dec\"],\"y\":[56704.0,56704.0,56704.0,56704.0,56704.0,56704.0,56704.0,56704.0,56704.0,56704.0,56704.0,56704.0]},\"selected\":{\"id\":\"1774\"},\"selection_policy\":{\"id\":\"1775\"}},\"id\":\"1692\",\"type\":\"ColumnDataSource\"},{\"attributes\":{\"line_color\":\"#31a354\",\"line_dash\":[2,4],\"line_width\":2,\"x\":{\"field\":\"x\"},\"y\":{\"field\":\"y\"}},\"id\":\"1605\",\"type\":\"Line\"},{\"attributes\":{\"line_color\":\"#31a354\",\"line_dash\":[2,4],\"line_width\":2,\"x\":{\"field\":\"x\"},\"y\":{\"field\":\"y\"}},\"id\":\"1693\",\"type\":\"Line\"},{\"attributes\":{},\"id\":\"1663\",\"type\":\"CategoricalScale\"},{\"attributes\":{\"data_source\":{\"id\":\"1604\"},\"glyph\":{\"id\":\"1605\"},\"hover_glyph\":null,\"muted_glyph\":null,\"nonselection_glyph\":{\"id\":\"1606\"},\"view\":{\"id\":\"1608\"}},\"id\":\"1607\",\"type\":\"GlyphRenderer\"},{\"attributes\":{},\"id\":\"1609\",\"type\":\"ResetTool\"},{\"attributes\":{},\"id\":\"1665\",\"type\":\"LinearScale\"},{\"attributes\":{\"data\":{\"x\":[\"Jan\",\"Feb\",\"Mar\",\"Apr\",\"May\",\"Jun\",\"Jul\",\"Aug\",\"Sep\",\"Oct\",\"Nov\",\"Dec\"],\"y\":[5065.5,5065.5,5065.5,5065.5,5065.5,5065.5,5065.5,5065.5,5065.5,5065.5,5065.5,5065.5]},\"selected\":{\"id\":\"1764\"},\"selection_policy\":{\"id\":\"1765\"}},\"id\":\"1604\",\"type\":\"ColumnDataSource\"},{\"attributes\":{\"below\":[{\"id\":\"1667\"}],\"center\":[{\"id\":\"1669\"},{\"id\":\"1673\"},{\"id\":\"1683\"},{\"id\":\"1684\"},{\"id\":\"1685\"}],\"height\":300,\"left\":[{\"id\":\"1670\"}],\"renderers\":[{\"id\":\"1690\"},{\"id\":\"1695\"}],\"title\":{\"id\":\"1657\"},\"toolbar\":{\"id\":\"1675\"},\"width\":330,\"x_range\":{\"id\":\"1659\"},\"x_scale\":{\"id\":\"1663\"},\"y_range\":{\"id\":\"1661\"},\"y_scale\":{\"id\":\"1665\"}},\"id\":\"1656\",\"subtype\":\"Figure\",\"type\":\"Plot\"},{\"attributes\":{},\"id\":\"1661\",\"type\":\"DataRange1d\"},{\"attributes\":{\"data_source\":{\"id\":\"1599\"},\"glyph\":{\"id\":\"1600\"},\"hover_glyph\":null,\"muted_glyph\":null,\"nonselection_glyph\":{\"id\":\"1601\"},\"view\":{\"id\":\"1603\"}},\"id\":\"1602\",\"type\":\"GlyphRenderer\"},{\"attributes\":{\"axis_label\":\"Month\",\"formatter\":{\"id\":\"1681\"},\"major_label_policy\":{\"id\":\"1761\"},\"ticker\":{\"id\":\"1668\"}},\"id\":\"1667\",\"type\":\"CategoricalAxis\"},{\"attributes\":{\"axis\":{\"id\":\"1670\"},\"dimension\":1,\"ticker\":null},\"id\":\"1673\",\"type\":\"Grid\"},{\"attributes\":{},\"id\":\"1611\",\"type\":\"PanTool\"},{\"attributes\":{\"line_alpha\":0.1,\"line_color\":\"#31a354\",\"line_dash\":[2,4],\"line_width\":2,\"x\":{\"field\":\"x\"},\"y\":{\"field\":\"y\"}},\"id\":\"1606\",\"type\":\"Line\"},{\"attributes\":{\"data_source\":{\"id\":\"1687\"},\"glyph\":{\"id\":\"1688\"},\"hover_glyph\":null,\"muted_glyph\":null,\"nonselection_glyph\":{\"id\":\"1689\"},\"view\":{\"id\":\"1691\"}},\"id\":\"1690\",\"type\":\"GlyphRenderer\"},{\"attributes\":{\"formatter\":{\"id\":\"1681\"},\"major_label_policy\":{\"id\":\"1759\"},\"ticker\":{\"id\":\"1671\"}},\"id\":\"1670\",\"type\":\"LinearAxis\"},{\"attributes\":{\"data_source\":{\"id\":\"1692\"},\"glyph\":{\"id\":\"1693\"},\"hover_glyph\":null,\"muted_glyph\":null,\"nonselection_glyph\":{\"id\":\"1694\"},\"view\":{\"id\":\"1696\"}},\"id\":\"1695\",\"type\":\"GlyphRenderer\"},{\"attributes\":{\"active_multi\":null,\"tools\":[{\"id\":\"1653\"},{\"id\":\"1654\"},{\"id\":\"1655\"},{\"id\":\"1011\"}]},\"id\":\"1675\",\"type\":\"Toolbar\"},{\"attributes\":{},\"id\":\"1671\",\"type\":\"BasicTicker\"},{\"attributes\":{\"axis\":{\"id\":\"1667\"},\"ticker\":null},\"id\":\"1669\",\"type\":\"Grid\"},{\"attributes\":{},\"id\":\"1567\",\"type\":\"PanTool\"},{\"attributes\":{\"overlay\":{\"id\":\"1630\"}},\"id\":\"1610\",\"type\":\"BoxZoomTool\"},{\"attributes\":{\"align\":\"center\",\"text\":\"Follower Events vs STD and Mean\"},\"id\":\"1613\",\"type\":\"Title\"},{\"attributes\":{},\"id\":\"1757\",\"type\":\"AllLabels\"},{\"attributes\":{\"bottom\":59091.081867218745,\"fill_alpha\":0.1,\"fill_color\":\"red\"},\"id\":\"1641\",\"type\":\"BoxAnnotation\"},{\"attributes\":{\"line_alpha\":0.1,\"line_color\":\"#31a354\",\"line_dash\":[2,4],\"line_width\":2,\"x\":{\"field\":\"x\"},\"y\":{\"field\":\"y\"}},\"id\":\"1694\",\"type\":\"Line\"},{\"attributes\":{},\"id\":\"1751\",\"type\":\"AllLabels\"},{\"attributes\":{},\"id\":\"1668\",\"type\":\"CategoricalTicker\"},{\"attributes\":{\"below\":[{\"id\":\"1623\"}],\"center\":[{\"id\":\"1625\"},{\"id\":\"1629\"},{\"id\":\"1639\"},{\"id\":\"1640\"},{\"id\":\"1641\"}],\"height\":300,\"left\":[{\"id\":\"1626\"}],\"renderers\":[{\"id\":\"1646\"},{\"id\":\"1651\"}],\"title\":{\"id\":\"1613\"},\"toolbar\":{\"id\":\"1631\"},\"width\":330,\"x_range\":{\"id\":\"1615\"},\"x_scale\":{\"id\":\"1619\"},\"y_range\":{\"id\":\"1617\"},\"y_scale\":{\"id\":\"1621\"}},\"id\":\"1612\",\"subtype\":\"Figure\",\"type\":\"Plot\"},{\"attributes\":{},\"id\":\"1763\",\"type\":\"UnionRenderers\"},{\"attributes\":{\"factors\":[\"Jan\",\"Feb\",\"Mar\",\"Apr\",\"May\",\"Jun\",\"Jul\",\"Aug\",\"Sep\",\"Oct\",\"Nov\",\"Dec\"]},\"id\":\"1615\",\"type\":\"FactorRange\"},{\"attributes\":{},\"id\":\"1775\",\"type\":\"UnionRenderers\"},{\"attributes\":{\"bottom_units\":\"screen\",\"fill_alpha\":0.5,\"fill_color\":\"lightgrey\",\"left_units\":\"screen\",\"level\":\"overlay\",\"line_alpha\":1.0,\"line_color\":\"black\",\"line_dash\":[4,4],\"line_width\":2,\"right_units\":\"screen\",\"syncable\":false,\"top_units\":\"screen\"},\"id\":\"1674\",\"type\":\"BoxAnnotation\"},{\"attributes\":{},\"id\":\"1753\",\"type\":\"AllLabels\"},{\"attributes\":{},\"id\":\"1759\",\"type\":\"AllLabels\"},{\"attributes\":{},\"id\":\"1619\",\"type\":\"CategoricalScale\"},{\"attributes\":{},\"id\":\"1762\",\"type\":\"Selection\"},{\"attributes\":{},\"id\":\"1617\",\"type\":\"DataRange1d\"},{\"attributes\":{\"source\":{\"id\":\"1692\"}},\"id\":\"1696\",\"type\":\"CDSView\"},{\"attributes\":{},\"id\":\"1621\",\"type\":\"LinearScale\"},{\"attributes\":{},\"id\":\"1761\",\"type\":\"AllLabels\"},{\"attributes\":{},\"id\":\"1755\",\"type\":\"AllLabels\"},{\"attributes\":{\"below\":[{\"id\":\"1579\"}],\"center\":[{\"id\":\"1581\"},{\"id\":\"1585\"},{\"id\":\"1595\"},{\"id\":\"1596\"},{\"id\":\"1597\"}],\"height\":300,\"left\":[{\"id\":\"1582\"}],\"renderers\":[{\"id\":\"1602\"},{\"id\":\"1607\"}],\"title\":{\"id\":\"1569\"},\"toolbar\":{\"id\":\"1587\"},\"width\":330,\"x_range\":{\"id\":\"1571\"},\"x_scale\":{\"id\":\"1575\"},\"y_range\":{\"id\":\"1573\"},\"y_scale\":{\"id\":\"1577\"}},\"id\":\"1568\",\"subtype\":\"Figure\",\"type\":\"Plot\"},{\"attributes\":{\"data\":{\"x\":[\"Jan\",\"Feb\",\"Mar\",\"Apr\",\"May\",\"Jun\",\"Jul\",\"Aug\",\"Sep\",\"Oct\",\"Nov\",\"Dec\"],\"y\":[10001,5517,9862,4851,17466,16722,20188,126558,15939,32125,28928,27309]},\"selected\":{\"id\":\"1767\"},\"selection_policy\":{\"id\":\"1768\"}},\"id\":\"1643\",\"type\":\"ColumnDataSource\"},{\"attributes\":{},\"id\":\"1764\",\"type\":\"Selection\"},{\"attributes\":{\"axis_label\":\"Month\",\"formatter\":{\"id\":\"1637\"},\"major_label_policy\":{\"id\":\"1757\"},\"ticker\":{\"id\":\"1624\"}},\"id\":\"1623\",\"type\":\"CategoricalAxis\"},{\"attributes\":{},\"id\":\"1565\",\"type\":\"ResetTool\"},{\"attributes\":{},\"id\":\"1624\",\"type\":\"CategoricalTicker\"},{\"attributes\":{},\"id\":\"1774\",\"type\":\"Selection\"},{\"attributes\":{\"axis\":{\"id\":\"1623\"},\"ticker\":null},\"id\":\"1625\",\"type\":\"Grid\"},{\"attributes\":{\"code\":\"\\n    if (index % 2 == 0)\\n    {\\n    return tick;\\n    }\\n    else\\n    {\\n    return \\\"\\\";\\n    }\\n    \"},\"id\":\"1681\",\"type\":\"FuncTickFormatter\"},{\"attributes\":{\"line_color\":\"#31a354\",\"line_dash\":[2,4],\"line_width\":2,\"x\":{\"field\":\"x\"},\"y\":{\"field\":\"y\"}},\"id\":\"1649\",\"type\":\"Line\"},{\"attributes\":{\"formatter\":{\"id\":\"1637\"},\"major_label_policy\":{\"id\":\"1755\"},\"ticker\":{\"id\":\"1627\"}},\"id\":\"1626\",\"type\":\"LinearAxis\"},{\"attributes\":{\"bottom\":32670.88739994676,\"fill_alpha\":0.1,\"fill_color\":\"green\",\"top\":89374.88739994676},\"id\":\"1684\",\"type\":\"BoxAnnotation\"},{\"attributes\":{\"line_alpha\":0.1,\"line_color\":\"#756bb1\",\"line_width\":2,\"x\":{\"field\":\"x\"},\"y\":{\"field\":\"y\"}},\"id\":\"1689\",\"type\":\"Line\"},{\"attributes\":{},\"id\":\"1627\",\"type\":\"BasicTicker\"},{\"attributes\":{\"line_color\":\"#756bb1\",\"line_width\":2,\"x\":{\"field\":\"x\"},\"y\":{\"field\":\"y\"}},\"id\":\"1644\",\"type\":\"Line\"},{\"attributes\":{\"source\":{\"id\":\"1643\"}},\"id\":\"1647\",\"type\":\"CDSView\"},{\"attributes\":{\"line_alpha\":0.1,\"line_color\":\"#756bb1\",\"line_width\":2,\"x\":{\"field\":\"x\"},\"y\":{\"field\":\"y\"}},\"id\":\"1645\",\"type\":\"Line\"},{\"attributes\":{\"align\":\"center\",\"text\":\"Follower Events vs STD and Mean\"},\"id\":\"1569\",\"type\":\"Title\"},{\"attributes\":{\"data_source\":{\"id\":\"1643\"},\"glyph\":{\"id\":\"1644\"},\"hover_glyph\":null,\"muted_glyph\":null,\"nonselection_glyph\":{\"id\":\"1645\"},\"view\":{\"id\":\"1647\"}},\"id\":\"1646\",\"type\":\"GlyphRenderer\"},{\"attributes\":{\"line_color\":\"#756bb1\",\"line_width\":2,\"x\":{\"field\":\"x\"},\"y\":{\"field\":\"y\"}},\"id\":\"1688\",\"type\":\"Line\"},{\"attributes\":{\"bottom\":89374.88739994676,\"fill_alpha\":0.1,\"fill_color\":\"red\"},\"id\":\"1685\",\"type\":\"BoxAnnotation\"},{\"attributes\":{\"overlay\":{\"id\":\"1586\"}},\"id\":\"1566\",\"type\":\"BoxZoomTool\"},{\"attributes\":{\"factors\":[\"Jan\",\"Feb\",\"Mar\",\"Apr\",\"May\",\"Jun\",\"Jul\",\"Aug\",\"Sep\",\"Oct\",\"Nov\",\"Dec\"]},\"id\":\"1571\",\"type\":\"FactorRange\"},{\"attributes\":{\"data\":{\"x\":[\"Jan\",\"Feb\",\"Mar\",\"Apr\",\"May\",\"Jun\",\"Jul\",\"Aug\",\"Sep\",\"Oct\",\"Nov\",\"Dec\"],\"y\":{\"__ndarray__\":\"AAAAAMAQ6kAAAAAAsI35QAAAAADg7PBAAAAAAGAQ4kAAAAAAgLPSQAAAAAAAAPh/AAAAAAAA+H8AAAAAAAD4fwAAAAAAAPh/AAAAAAAA+H8AAAAAAAD4fwAAAAAAAPh/\",\"dtype\":\"float64\",\"order\":\"little\",\"shape\":[12]}},\"selected\":{\"id\":\"1772\"},\"selection_policy\":{\"id\":\"1773\"}},\"id\":\"1687\",\"type\":\"ColumnDataSource\"},{\"attributes\":{\"data\":{\"x\":[\"Jan\",\"Feb\",\"Mar\",\"Apr\",\"May\",\"Jun\",\"Jul\",\"Aug\",\"Sep\",\"Oct\",\"Nov\",\"Dec\"],\"y\":[26288.833333333332,26288.833333333332,26288.833333333332,26288.833333333332,26288.833333333332,26288.833333333332,26288.833333333332,26288.833333333332,26288.833333333332,26288.833333333332,26288.833333333332,26288.833333333332]},\"selected\":{\"id\":\"1769\"},\"selection_policy\":{\"id\":\"1770\"}},\"id\":\"1648\",\"type\":\"ColumnDataSource\"},{\"attributes\":{\"fill_alpha\":0.1,\"fill_color\":\"red\",\"top\":32670.88739994676},\"id\":\"1683\",\"type\":\"BoxAnnotation\"},{\"attributes\":{},\"id\":\"1583\",\"type\":\"BasicTicker\"},{\"attributes\":{},\"id\":\"1573\",\"type\":\"DataRange1d\"},{\"attributes\":{\"fill_alpha\":0.1,\"fill_color\":\"red\",\"top\":32802.24853388542},\"id\":\"1639\",\"type\":\"BoxAnnotation\"},{\"attributes\":{},\"id\":\"1575\",\"type\":\"CategoricalScale\"},{\"attributes\":{},\"id\":\"1765\",\"type\":\"UnionRenderers\"},{\"attributes\":{\"line_alpha\":0.1,\"line_color\":\"#31a354\",\"line_dash\":[2,4],\"line_width\":2,\"x\":{\"field\":\"x\"},\"y\":{\"field\":\"y\"}},\"id\":\"1650\",\"type\":\"Line\"},{\"attributes\":{},\"id\":\"1577\",\"type\":\"LinearScale\"},{\"attributes\":{},\"id\":\"1772\",\"type\":\"Selection\"},{\"attributes\":{\"bottom_units\":\"screen\",\"fill_alpha\":0.5,\"fill_color\":\"lightgrey\",\"left_units\":\"screen\",\"level\":\"overlay\",\"line_alpha\":1.0,\"line_color\":\"black\",\"line_dash\":[4,4],\"line_width\":2,\"right_units\":\"screen\",\"syncable\":false,\"top_units\":\"screen\"},\"id\":\"1630\",\"type\":\"BoxAnnotation\"},{\"attributes\":{\"axis_label\":\"Month\",\"formatter\":{\"id\":\"1593\"},\"major_label_policy\":{\"id\":\"1753\"},\"ticker\":{\"id\":\"1580\"}},\"id\":\"1579\",\"type\":\"CategoricalAxis\"},{\"attributes\":{\"bottom\":32802.24853388542,\"fill_alpha\":0.1,\"fill_color\":\"green\",\"top\":59091.081867218745},\"id\":\"1640\",\"type\":\"BoxAnnotation\"},{\"attributes\":{\"code\":\"\\n    if (index % 2 == 0)\\n    {\\n    return tick;\\n    }\\n    else\\n    {\\n    return \\\"\\\";\\n    }\\n    \"},\"id\":\"1637\",\"type\":\"FuncTickFormatter\"},{\"attributes\":{},\"id\":\"1580\",\"type\":\"CategoricalTicker\"},{\"attributes\":{},\"id\":\"1767\",\"type\":\"Selection\"},{\"attributes\":{\"axis\":{\"id\":\"1579\"},\"ticker\":null},\"id\":\"1581\",\"type\":\"Grid\"},{\"attributes\":{},\"id\":\"1769\",\"type\":\"Selection\"},{\"attributes\":{\"callback\":null,\"formatters\":{\"$y\":\"printf\"},\"tooltips\":[[\"Total Events\",\"@y{0,0}\"],[\"Month\",\"@x\"]]},\"id\":\"1011\",\"type\":\"HoverTool\"},{\"attributes\":{\"axis\":{\"id\":\"1582\"},\"dimension\":1,\"ticker\":null},\"id\":\"1585\",\"type\":\"Grid\"},{\"attributes\":{\"axis\":{\"id\":\"1626\"},\"dimension\":1,\"ticker\":null},\"id\":\"1629\",\"type\":\"Grid\"},{\"attributes\":{\"active_multi\":null,\"tools\":[{\"id\":\"1609\"},{\"id\":\"1610\"},{\"id\":\"1611\"},{\"id\":\"1011\"}]},\"id\":\"1631\",\"type\":\"Toolbar\"},{\"attributes\":{},\"id\":\"1655\",\"type\":\"PanTool\"},{\"attributes\":{},\"id\":\"1768\",\"type\":\"UnionRenderers\"},{\"attributes\":{},\"id\":\"1770\",\"type\":\"UnionRenderers\"},{\"attributes\":{\"bottom_units\":\"screen\",\"fill_alpha\":0.5,\"fill_color\":\"lightgrey\",\"left_units\":\"screen\",\"level\":\"overlay\",\"line_alpha\":1.0,\"line_color\":\"black\",\"line_dash\":[4,4],\"line_width\":2,\"right_units\":\"screen\",\"syncable\":false,\"top_units\":\"screen\"},\"id\":\"1586\",\"type\":\"BoxAnnotation\"},{\"attributes\":{\"axis_label\":\"Total Events\",\"formatter\":{\"id\":\"1593\"},\"major_label_policy\":{\"id\":\"1751\"},\"ticker\":{\"id\":\"1583\"}},\"id\":\"1582\",\"type\":\"LinearAxis\"},{\"attributes\":{},\"id\":\"1773\",\"type\":\"UnionRenderers\"},{\"attributes\":{\"bottom\":7146.728237452436,\"fill_alpha\":0.1,\"fill_color\":\"green\",\"top\":12212.228237452437},\"id\":\"1596\",\"type\":\"BoxAnnotation\"},{\"attributes\":{\"code\":\"\\n    if (index % 2 == 0)\\n    {\\n    return tick;\\n    }\\n    else\\n    {\\n    return \\\"\\\";\\n    }\\n    \"},\"id\":\"1593\",\"type\":\"FuncTickFormatter\"},{\"attributes\":{\"line_alpha\":0.1,\"line_color\":\"#756bb1\",\"line_width\":2,\"x\":{\"field\":\"x\"},\"y\":{\"field\":\"y\"}},\"id\":\"1601\",\"type\":\"Line\"},{\"attributes\":{\"line_color\":\"#756bb1\",\"line_width\":2,\"x\":{\"field\":\"x\"},\"y\":{\"field\":\"y\"}},\"id\":\"1600\",\"type\":\"Line\"},{\"attributes\":{\"source\":{\"id\":\"1648\"}},\"id\":\"1652\",\"type\":\"CDSView\"},{\"attributes\":{\"active_multi\":null,\"tools\":[{\"id\":\"1565\"},{\"id\":\"1566\"},{\"id\":\"1567\"},{\"id\":\"1011\"}]},\"id\":\"1587\",\"type\":\"Toolbar\"},{\"attributes\":{\"data_source\":{\"id\":\"1648\"},\"glyph\":{\"id\":\"1649\"},\"hover_glyph\":null,\"muted_glyph\":null,\"nonselection_glyph\":{\"id\":\"1650\"},\"view\":{\"id\":\"1652\"}},\"id\":\"1651\",\"type\":\"GlyphRenderer\"},{\"attributes\":{\"overlay\":{\"id\":\"1674\"}},\"id\":\"1654\",\"type\":\"BoxZoomTool\"},{\"attributes\":{},\"id\":\"1653\",\"type\":\"ResetTool\"},{\"attributes\":{\"bottom\":12212.228237452437,\"fill_alpha\":0.1,\"fill_color\":\"red\"},\"id\":\"1597\",\"type\":\"BoxAnnotation\"},{\"attributes\":{\"fill_alpha\":0.1,\"fill_color\":\"red\",\"top\":7146.728237452436},\"id\":\"1595\",\"type\":\"BoxAnnotation\"},{\"attributes\":{\"data\":{\"x\":[\"Jan\",\"Feb\",\"Mar\",\"Apr\",\"May\",\"Jun\",\"Jul\",\"Aug\",\"Sep\",\"Oct\",\"Nov\",\"Dec\"],\"y\":{\"__ndarray__\":\"AAAAAAAA+H8AAAAAAAD4fwAAAAAAAPh/AAAAAAAA+H8AAAAAAAD4fwAAAAAAAPh/AAAAAAAA+H8AAAAAAAD4fwAAAAAAAPh/AAAAAAAA+H8AAAAAAAAoQAAAAACAw8NA\",\"dtype\":\"float64\",\"order\":\"little\",\"shape\":[12]}},\"selected\":{\"id\":\"1762\"},\"selection_policy\":{\"id\":\"1763\"}},\"id\":\"1599\",\"type\":\"ColumnDataSource\"}],\"root_ids\":[\"1697\"]},\"title\":\"Bokeh Application\",\"version\":\"2.3.2\"}};\n",
       "  var render_items = [{\"docid\":\"fe0f9dbd-e6be-4b5e-aa67-11626e594148\",\"root_ids\":[\"1697\"],\"roots\":{\"1697\":\"0e077b9c-3259-4775-a2a7-5a6344929b0c\"}}];\n",
       "  root.Bokeh.embed.embed_items_notebook(docs_json, render_items);\n",
       "\n",
       "  }\n",
       "  if (root.Bokeh !== undefined) {\n",
       "    embed_document(root);\n",
       "  } else {\n",
       "    var attempts = 0;\n",
       "    var timer = setInterval(function(root) {\n",
       "      if (root.Bokeh !== undefined) {\n",
       "        clearInterval(timer);\n",
       "        embed_document(root);\n",
       "      } else {\n",
       "        attempts++;\n",
       "        if (attempts > 100) {\n",
       "          clearInterval(timer);\n",
       "          console.log(\"Bokeh: ERROR: Unable to run BokehJS code because BokehJS library is missing\");\n",
       "        }\n",
       "      }\n",
       "    }, 10, root)\n",
       "  }\n",
       "})(window);"
      ],
      "application/vnd.bokehjs_exec.v0+json": ""
     },
     "metadata": {
      "application/vnd.bokehjs_exec.v0+json": {
       "id": "1697"
      }
     },
     "output_type": "display_data"
    }
   ],
   "source": [
    "show(row([generae_fig_to_plot_std(df_to_plot, year) for year in df_to_plot.columns]))"
   ]
  },
  {
   "cell_type": "markdown",
   "metadata": {},
   "source": [
    "**Explaining The Visuals** Here we've plotted the upper and lower standard deviation (red shaded area) across the area of consistency (green area). Months that fall within the red area indicate inconsistent or unexpected follower activity in relation to the average, whereas months that land in the green area represent consistency or what you could expect for activity during that month. The green dashed line represents the average follower events for that year. With that being said, notice the following.\n",
    "\n",
    "**Notice the following:**\n",
    "- August 2020 and February 2021 have a huge spike which causes the remainder of the months to fall below average or to fall within the zone of inconsistency.\n",
    "- Only 4 months out of every month in our dataset falls at or above the average.\n",
    "\n",
    "I will say, don't be alarmed by these observations. First and foremost, the more data we acquire with platform longevity and normality across the industry, the more these numbers will level out in due time, even with the spikes. However, let's **remove these spikes with the mean** and see how our data looks."
   ]
  },
  {
   "cell_type": "code",
   "execution_count": 7,
   "metadata": {
    "ExecuteTime": {
     "end_time": "2021-06-01T14:41:44.854480Z",
     "start_time": "2021-06-01T14:41:44.847454Z"
    }
   },
   "outputs": [],
   "source": [
    "df_to_plot[\"y_2020\"] = df_to_plot[\"y_2020\"].replace(df_to_plot[\"y_2020\"].loc[\"Aug\"], df_to_plot[\"y_2020\"].mean())\n",
    "df_to_plot[\"y_2021\"] = df_to_plot[\"y_2021\"].replace(df_to_plot[\"y_2021\"].loc[\"Feb\"], df_to_plot[\"y_2021\"].mean())"
   ]
  },
  {
   "cell_type": "code",
   "execution_count": 8,
   "metadata": {
    "ExecuteTime": {
     "end_time": "2021-06-01T14:41:44.895913Z",
     "start_time": "2021-06-01T14:41:44.860348Z"
    },
    "scrolled": true
   },
   "outputs": [
    {
     "data": {
      "text/html": [
       "<div>\n",
       "<style scoped>\n",
       "    .dataframe tbody tr th:only-of-type {\n",
       "        vertical-align: middle;\n",
       "    }\n",
       "\n",
       "    .dataframe tbody tr th {\n",
       "        vertical-align: top;\n",
       "    }\n",
       "\n",
       "    .dataframe thead th {\n",
       "        text-align: right;\n",
       "    }\n",
       "</style>\n",
       "<table border=\"1\" class=\"dataframe\">\n",
       "  <thead>\n",
       "    <tr style=\"text-align: right;\">\n",
       "      <th></th>\n",
       "      <th>count</th>\n",
       "      <th>mean</th>\n",
       "      <th>std</th>\n",
       "      <th>min</th>\n",
       "      <th>25%</th>\n",
       "      <th>50%</th>\n",
       "      <th>75%</th>\n",
       "      <th>max</th>\n",
       "    </tr>\n",
       "  </thead>\n",
       "  <tbody>\n",
       "    <tr>\n",
       "      <th>y_2019</th>\n",
       "      <td>2.0</td>\n",
       "      <td>5065.50</td>\n",
       "      <td>7146.73</td>\n",
       "      <td>12.0</td>\n",
       "      <td>2538.75</td>\n",
       "      <td>5065.5</td>\n",
       "      <td>7592.25</td>\n",
       "      <td>10119.0</td>\n",
       "    </tr>\n",
       "    <tr>\n",
       "      <th>y_2020</th>\n",
       "      <td>12.0</td>\n",
       "      <td>17933.07</td>\n",
       "      <td>9264.45</td>\n",
       "      <td>4851.0</td>\n",
       "      <td>9966.25</td>\n",
       "      <td>17094.0</td>\n",
       "      <td>26543.88</td>\n",
       "      <td>32125.0</td>\n",
       "    </tr>\n",
       "    <tr>\n",
       "      <th>y_2021</th>\n",
       "      <td>5.0</td>\n",
       "      <td>47111.40</td>\n",
       "      <td>19422.98</td>\n",
       "      <td>19150.0</td>\n",
       "      <td>36995.00</td>\n",
       "      <td>53382.0</td>\n",
       "      <td>56704.00</td>\n",
       "      <td>69326.0</td>\n",
       "    </tr>\n",
       "  </tbody>\n",
       "</table>\n",
       "</div>"
      ],
      "text/plain": [
       "        count      mean       std      min       25%      50%       75%  \\\n",
       "y_2019    2.0   5065.50   7146.73     12.0   2538.75   5065.5   7592.25   \n",
       "y_2020   12.0  17933.07   9264.45   4851.0   9966.25  17094.0  26543.88   \n",
       "y_2021    5.0  47111.40  19422.98  19150.0  36995.00  53382.0  56704.00   \n",
       "\n",
       "            max  \n",
       "y_2019  10119.0  \n",
       "y_2020  32125.0  \n",
       "y_2021  69326.0  "
      ]
     },
     "execution_count": 8,
     "metadata": {},
     "output_type": "execute_result"
    }
   ],
   "source": [
    "round(df_to_plot.describe().T, 2)"
   ]
  },
  {
   "cell_type": "markdown",
   "metadata": {},
   "source": [
    "Great, now that we've replaced those spikes with the mean, let's go ahead and re-plot this to how it looks."
   ]
  },
  {
   "cell_type": "code",
   "execution_count": 9,
   "metadata": {
    "ExecuteTime": {
     "end_time": "2021-06-01T14:41:45.128643Z",
     "start_time": "2021-06-01T14:41:44.900873Z"
    }
   },
   "outputs": [
    {
     "data": {
      "text/html": [
       "\n",
       "\n",
       "\n",
       "\n",
       "\n",
       "\n",
       "  <div class=\"bk-root\" id=\"f69235f4-5c35-4d73-a493-01b1ec90cdba\" data-root-id=\"2059\"></div>\n"
      ]
     },
     "metadata": {},
     "output_type": "display_data"
    },
    {
     "data": {
      "application/javascript": [
       "(function(root) {\n",
       "  function embed_document(root) {\n",
       "    \n",
       "  var docs_json = {\"0331e4d1-357f-4434-b71a-6ae183cc2490\":{\"defs\":[],\"roots\":{\"references\":[{\"attributes\":{\"children\":[{\"id\":\"1930\"},{\"id\":\"1974\"},{\"id\":\"2018\"}]},\"id\":\"2059\",\"type\":\"Row\"},{\"attributes\":{},\"id\":\"2015\",\"type\":\"ResetTool\"},{\"attributes\":{\"overlay\":{\"id\":\"2036\"}},\"id\":\"2016\",\"type\":\"BoxZoomTool\"},{\"attributes\":{},\"id\":\"2023\",\"type\":\"DataRange1d\"},{\"attributes\":{\"align\":\"center\",\"text\":\"Follower Events vs STD and Mean\"},\"id\":\"2019\",\"type\":\"Title\"},{\"attributes\":{},\"id\":\"2149\",\"type\":\"AllLabels\"},{\"attributes\":{\"bottom_units\":\"screen\",\"fill_alpha\":0.5,\"fill_color\":\"lightgrey\",\"left_units\":\"screen\",\"level\":\"overlay\",\"line_alpha\":1.0,\"line_color\":\"black\",\"line_dash\":[4,4],\"line_width\":2,\"right_units\":\"screen\",\"syncable\":false,\"top_units\":\"screen\"},\"id\":\"1948\",\"type\":\"BoxAnnotation\"},{\"attributes\":{},\"id\":\"2030\",\"type\":\"CategoricalTicker\"},{\"attributes\":{},\"id\":\"2025\",\"type\":\"CategoricalScale\"},{\"attributes\":{\"line_color\":\"#756bb1\",\"line_width\":2,\"x\":{\"field\":\"x\"},\"y\":{\"field\":\"y\"}},\"id\":\"1962\",\"type\":\"Line\"},{\"attributes\":{\"data_source\":{\"id\":\"2049\"},\"glyph\":{\"id\":\"2050\"},\"hover_glyph\":null,\"muted_glyph\":null,\"nonselection_glyph\":{\"id\":\"2051\"},\"view\":{\"id\":\"2053\"}},\"id\":\"2052\",\"type\":\"GlyphRenderer\"},{\"attributes\":{\"axis_label\":\"Month\",\"formatter\":{\"id\":\"2043\"},\"major_label_policy\":{\"id\":\"2153\"},\"ticker\":{\"id\":\"2030\"}},\"id\":\"2029\",\"type\":\"CategoricalAxis\"},{\"attributes\":{\"below\":[{\"id\":\"2029\"}],\"center\":[{\"id\":\"2031\"},{\"id\":\"2035\"},{\"id\":\"2045\"},{\"id\":\"2046\"},{\"id\":\"2047\"}],\"height\":300,\"left\":[{\"id\":\"2032\"}],\"renderers\":[{\"id\":\"2052\"},{\"id\":\"2057\"}],\"title\":{\"id\":\"2019\"},\"toolbar\":{\"id\":\"2037\"},\"width\":330,\"x_range\":{\"id\":\"2021\"},\"x_scale\":{\"id\":\"2025\"},\"y_range\":{\"id\":\"2023\"},\"y_scale\":{\"id\":\"2027\"}},\"id\":\"2018\",\"subtype\":\"Figure\",\"type\":\"Plot\"},{\"attributes\":{\"data\":{\"x\":[\"Jan\",\"Feb\",\"Mar\",\"Apr\",\"May\",\"Jun\",\"Jul\",\"Aug\",\"Sep\",\"Oct\",\"Nov\",\"Dec\"],\"y\":{\"__ndarray__\":\"AAAAAAAA+H8AAAAAAAD4fwAAAAAAAPh/AAAAAAAA+H8AAAAAAAD4fwAAAAAAAPh/AAAAAAAA+H8AAAAAAAD4fwAAAAAAAPh/AAAAAAAA+H8AAAAAAAAoQAAAAACAw8NA\",\"dtype\":\"float64\",\"order\":\"little\",\"shape\":[12]}},\"selected\":{\"id\":\"2154\"},\"selection_policy\":{\"id\":\"2155\"}},\"id\":\"1961\",\"type\":\"ColumnDataSource\"},{\"attributes\":{},\"id\":\"2151\",\"type\":\"AllLabels\"},{\"attributes\":{\"active_multi\":null,\"tools\":[{\"id\":\"2015\"},{\"id\":\"2016\"},{\"id\":\"2017\"},{\"id\":\"1011\"}]},\"id\":\"2037\",\"type\":\"Toolbar\"},{\"attributes\":{\"line_color\":\"#31a354\",\"line_dash\":[2,4],\"line_width\":2,\"x\":{\"field\":\"x\"},\"y\":{\"field\":\"y\"}},\"id\":\"1967\",\"type\":\"Line\"},{\"attributes\":{\"line_color\":\"#756bb1\",\"line_width\":2,\"x\":{\"field\":\"x\"},\"y\":{\"field\":\"y\"}},\"id\":\"2050\",\"type\":\"Line\"},{\"attributes\":{\"bottom\":7146.728237452436,\"fill_alpha\":0.1,\"fill_color\":\"green\",\"top\":12212.228237452437},\"id\":\"1958\",\"type\":\"BoxAnnotation\"},{\"attributes\":{},\"id\":\"1927\",\"type\":\"ResetTool\"},{\"attributes\":{},\"id\":\"2155\",\"type\":\"UnionRenderers\"},{\"attributes\":{},\"id\":\"2154\",\"type\":\"Selection\"},{\"attributes\":{},\"id\":\"2159\",\"type\":\"Selection\"},{\"attributes\":{\"axis\":{\"id\":\"2029\"},\"ticker\":null},\"id\":\"2031\",\"type\":\"Grid\"},{\"attributes\":{},\"id\":\"2156\",\"type\":\"Selection\"},{\"attributes\":{},\"id\":\"2017\",\"type\":\"PanTool\"},{\"attributes\":{},\"id\":\"2157\",\"type\":\"UnionRenderers\"},{\"attributes\":{\"source\":{\"id\":\"1961\"}},\"id\":\"1965\",\"type\":\"CDSView\"},{\"attributes\":{\"bottom\":12212.228237452437,\"fill_alpha\":0.1,\"fill_color\":\"red\"},\"id\":\"1959\",\"type\":\"BoxAnnotation\"},{\"attributes\":{},\"id\":\"2153\",\"type\":\"AllLabels\"},{\"attributes\":{\"fill_alpha\":0.1,\"fill_color\":\"red\",\"top\":9264.454709148853},\"id\":\"2001\",\"type\":\"BoxAnnotation\"},{\"attributes\":{},\"id\":\"2027\",\"type\":\"LinearScale\"},{\"attributes\":{\"code\":\"\\n    if (index % 2 == 0)\\n    {\\n    return tick;\\n    }\\n    else\\n    {\\n    return \\\"\\\";\\n    }\\n    \"},\"id\":\"1955\",\"type\":\"FuncTickFormatter\"},{\"attributes\":{\"overlay\":{\"id\":\"1992\"}},\"id\":\"1972\",\"type\":\"BoxZoomTool\"},{\"attributes\":{\"data_source\":{\"id\":\"1961\"},\"glyph\":{\"id\":\"1962\"},\"hover_glyph\":null,\"muted_glyph\":null,\"nonselection_glyph\":{\"id\":\"1963\"},\"view\":{\"id\":\"1965\"}},\"id\":\"1964\",\"type\":\"GlyphRenderer\"},{\"attributes\":{\"fill_alpha\":0.1,\"fill_color\":\"red\",\"top\":7146.728237452436},\"id\":\"1957\",\"type\":\"BoxAnnotation\"},{\"attributes\":{\"bottom\":66534.37795910813,\"fill_alpha\":0.1,\"fill_color\":\"red\"},\"id\":\"2047\",\"type\":\"BoxAnnotation\"},{\"attributes\":{\"data\":{\"x\":[\"Jan\",\"Feb\",\"Mar\",\"Apr\",\"May\",\"Jun\",\"Jul\",\"Aug\",\"Sep\",\"Oct\",\"Nov\",\"Dec\"],\"y\":{\"__ndarray__\":\"AAAAAMAQ6kAAAAAAALDrQAAAAADg7PBAAAAAAGAQ4kAAAAAAgLPSQAAAAAAAAPh/AAAAAAAA+H8AAAAAAAD4fwAAAAAAAPh/AAAAAAAA+H8AAAAAAAD4fwAAAAAAAPh/\",\"dtype\":\"float64\",\"order\":\"little\",\"shape\":[12]}},\"selected\":{\"id\":\"2164\"},\"selection_policy\":{\"id\":\"2165\"}},\"id\":\"2049\",\"type\":\"ColumnDataSource\"},{\"attributes\":{\"overlay\":{\"id\":\"1948\"}},\"id\":\"1928\",\"type\":\"BoxZoomTool\"},{\"attributes\":{\"formatter\":{\"id\":\"2043\"},\"major_label_policy\":{\"id\":\"2151\"},\"ticker\":{\"id\":\"2033\"}},\"id\":\"2032\",\"type\":\"LinearAxis\"},{\"attributes\":{\"line_alpha\":0.1,\"line_color\":\"#756bb1\",\"line_width\":2,\"x\":{\"field\":\"x\"},\"y\":{\"field\":\"y\"}},\"id\":\"1963\",\"type\":\"Line\"},{\"attributes\":{\"axis\":{\"id\":\"2032\"},\"dimension\":1,\"ticker\":null},\"id\":\"2035\",\"type\":\"Grid\"},{\"attributes\":{\"data\":{\"x\":[\"Jan\",\"Feb\",\"Mar\",\"Apr\",\"May\",\"Jun\",\"Jul\",\"Aug\",\"Sep\",\"Oct\",\"Nov\",\"Dec\"],\"y\":[5065.5,5065.5,5065.5,5065.5,5065.5,5065.5,5065.5,5065.5,5065.5,5065.5,5065.5,5065.5]},\"selected\":{\"id\":\"2156\"},\"selection_policy\":{\"id\":\"2157\"}},\"id\":\"1966\",\"type\":\"ColumnDataSource\"},{\"attributes\":{},\"id\":\"2033\",\"type\":\"BasicTicker\"},{\"attributes\":{},\"id\":\"1971\",\"type\":\"ResetTool\"},{\"attributes\":{\"data_source\":{\"id\":\"1966\"},\"glyph\":{\"id\":\"1967\"},\"hover_glyph\":null,\"muted_glyph\":null,\"nonselection_glyph\":{\"id\":\"1968\"},\"view\":{\"id\":\"1970\"}},\"id\":\"1969\",\"type\":\"GlyphRenderer\"},{\"attributes\":{\"bottom\":19422.977959108124,\"fill_alpha\":0.1,\"fill_color\":\"green\",\"top\":66534.37795910813},\"id\":\"2046\",\"type\":\"BoxAnnotation\"},{\"attributes\":{\"source\":{\"id\":\"1966\"}},\"id\":\"1970\",\"type\":\"CDSView\"},{\"attributes\":{\"line_alpha\":0.1,\"line_color\":\"#756bb1\",\"line_width\":2,\"x\":{\"field\":\"x\"},\"y\":{\"field\":\"y\"}},\"id\":\"2051\",\"type\":\"Line\"},{\"attributes\":{},\"id\":\"1973\",\"type\":\"PanTool\"},{\"attributes\":{\"code\":\"\\n    if (index % 2 == 0)\\n    {\\n    return tick;\\n    }\\n    else\\n    {\\n    return \\\"\\\";\\n    }\\n    \"},\"id\":\"2043\",\"type\":\"FuncTickFormatter\"},{\"attributes\":{\"line_alpha\":0.1,\"line_color\":\"#31a354\",\"line_dash\":[2,4],\"line_width\":2,\"x\":{\"field\":\"x\"},\"y\":{\"field\":\"y\"}},\"id\":\"1968\",\"type\":\"Line\"},{\"attributes\":{\"factors\":[\"Jan\",\"Feb\",\"Mar\",\"Apr\",\"May\",\"Jun\",\"Jul\",\"Aug\",\"Sep\",\"Oct\",\"Nov\",\"Dec\"]},\"id\":\"2021\",\"type\":\"FactorRange\"},{\"attributes\":{\"bottom_units\":\"screen\",\"fill_alpha\":0.5,\"fill_color\":\"lightgrey\",\"left_units\":\"screen\",\"level\":\"overlay\",\"line_alpha\":1.0,\"line_color\":\"black\",\"line_dash\":[4,4],\"line_width\":2,\"right_units\":\"screen\",\"syncable\":false,\"top_units\":\"screen\"},\"id\":\"2036\",\"type\":\"BoxAnnotation\"},{\"attributes\":{\"active_multi\":null,\"tools\":[{\"id\":\"1927\"},{\"id\":\"1928\"},{\"id\":\"1929\"},{\"id\":\"1011\"}]},\"id\":\"1949\",\"type\":\"Toolbar\"},{\"attributes\":{},\"id\":\"2143\",\"type\":\"AllLabels\"},{\"attributes\":{\"below\":[{\"id\":\"1985\"}],\"center\":[{\"id\":\"1987\"},{\"id\":\"1991\"},{\"id\":\"2001\"},{\"id\":\"2002\"},{\"id\":\"2003\"}],\"height\":300,\"left\":[{\"id\":\"1988\"}],\"renderers\":[{\"id\":\"2008\"},{\"id\":\"2013\"}],\"title\":{\"id\":\"1975\"},\"toolbar\":{\"id\":\"1993\"},\"width\":330,\"x_range\":{\"id\":\"1977\"},\"x_scale\":{\"id\":\"1981\"},\"y_range\":{\"id\":\"1979\"},\"y_scale\":{\"id\":\"1983\"}},\"id\":\"1974\",\"subtype\":\"Figure\",\"type\":\"Plot\"},{\"attributes\":{\"factors\":[\"Jan\",\"Feb\",\"Mar\",\"Apr\",\"May\",\"Jun\",\"Jul\",\"Aug\",\"Sep\",\"Oct\",\"Nov\",\"Dec\"]},\"id\":\"1977\",\"type\":\"FactorRange\"},{\"attributes\":{},\"id\":\"2160\",\"type\":\"UnionRenderers\"},{\"attributes\":{\"factors\":[\"Jan\",\"Feb\",\"Mar\",\"Apr\",\"May\",\"Jun\",\"Jul\",\"Aug\",\"Sep\",\"Oct\",\"Nov\",\"Dec\"]},\"id\":\"1933\",\"type\":\"FactorRange\"},{\"attributes\":{\"axis\":{\"id\":\"1941\"},\"ticker\":null},\"id\":\"1943\",\"type\":\"Grid\"},{\"attributes\":{\"below\":[{\"id\":\"1941\"}],\"center\":[{\"id\":\"1943\"},{\"id\":\"1947\"},{\"id\":\"1957\"},{\"id\":\"1958\"},{\"id\":\"1959\"}],\"height\":300,\"left\":[{\"id\":\"1944\"}],\"renderers\":[{\"id\":\"1964\"},{\"id\":\"1969\"}],\"title\":{\"id\":\"1931\"},\"toolbar\":{\"id\":\"1949\"},\"width\":330,\"x_range\":{\"id\":\"1933\"},\"x_scale\":{\"id\":\"1937\"},\"y_range\":{\"id\":\"1935\"},\"y_scale\":{\"id\":\"1939\"}},\"id\":\"1930\",\"subtype\":\"Figure\",\"type\":\"Plot\"},{\"attributes\":{},\"id\":\"1979\",\"type\":\"DataRange1d\"},{\"attributes\":{},\"id\":\"1983\",\"type\":\"LinearScale\"},{\"attributes\":{},\"id\":\"1981\",\"type\":\"CategoricalScale\"},{\"attributes\":{\"formatter\":{\"id\":\"1999\"},\"major_label_policy\":{\"id\":\"2147\"},\"ticker\":{\"id\":\"1989\"}},\"id\":\"1988\",\"type\":\"LinearAxis\"},{\"attributes\":{},\"id\":\"2147\",\"type\":\"AllLabels\"},{\"attributes\":{\"data\":{\"x\":[\"Jan\",\"Feb\",\"Mar\",\"Apr\",\"May\",\"Jun\",\"Jul\",\"Aug\",\"Sep\",\"Oct\",\"Nov\",\"Dec\"],\"y\":[17933.06944444444,17933.06944444444,17933.06944444444,17933.06944444444,17933.06944444444,17933.06944444444,17933.06944444444,17933.06944444444,17933.06944444444,17933.06944444444,17933.06944444444,17933.06944444444]},\"selected\":{\"id\":\"2161\"},\"selection_policy\":{\"id\":\"2162\"}},\"id\":\"2010\",\"type\":\"ColumnDataSource\"},{\"attributes\":{\"axis\":{\"id\":\"1944\"},\"dimension\":1,\"ticker\":null},\"id\":\"1947\",\"type\":\"Grid\"},{\"attributes\":{\"active_multi\":null,\"tools\":[{\"id\":\"1971\"},{\"id\":\"1972\"},{\"id\":\"1973\"},{\"id\":\"1011\"}]},\"id\":\"1993\",\"type\":\"Toolbar\"},{\"attributes\":{},\"id\":\"1942\",\"type\":\"CategoricalTicker\"},{\"attributes\":{\"axis_label\":\"Month\",\"formatter\":{\"id\":\"1999\"},\"major_label_policy\":{\"id\":\"2149\"},\"ticker\":{\"id\":\"1986\"}},\"id\":\"1985\",\"type\":\"CategoricalAxis\"},{\"attributes\":{\"axis\":{\"id\":\"1985\"},\"ticker\":null},\"id\":\"1987\",\"type\":\"Grid\"},{\"attributes\":{\"axis_label\":\"Month\",\"formatter\":{\"id\":\"1955\"},\"major_label_policy\":{\"id\":\"2145\"},\"ticker\":{\"id\":\"1942\"}},\"id\":\"1941\",\"type\":\"CategoricalAxis\"},{\"attributes\":{\"axis\":{\"id\":\"1988\"},\"dimension\":1,\"ticker\":null},\"id\":\"1991\",\"type\":\"Grid\"},{\"attributes\":{},\"id\":\"1986\",\"type\":\"CategoricalTicker\"},{\"attributes\":{},\"id\":\"2145\",\"type\":\"AllLabels\"},{\"attributes\":{\"line_alpha\":0.1,\"line_color\":\"#31a354\",\"line_dash\":[2,4],\"line_width\":2,\"x\":{\"field\":\"x\"},\"y\":{\"field\":\"y\"}},\"id\":\"2056\",\"type\":\"Line\"},{\"attributes\":{\"callback\":null,\"formatters\":{\"$y\":\"printf\"},\"tooltips\":[[\"Total Events\",\"@y{0,0}\"],[\"Month\",\"@x\"]]},\"id\":\"1011\",\"type\":\"HoverTool\"},{\"attributes\":{},\"id\":\"1989\",\"type\":\"BasicTicker\"},{\"attributes\":{\"data_source\":{\"id\":\"2010\"},\"glyph\":{\"id\":\"2011\"},\"hover_glyph\":null,\"muted_glyph\":null,\"nonselection_glyph\":{\"id\":\"2012\"},\"view\":{\"id\":\"2014\"}},\"id\":\"2013\",\"type\":\"GlyphRenderer\"},{\"attributes\":{},\"id\":\"2162\",\"type\":\"UnionRenderers\"},{\"attributes\":{},\"id\":\"1929\",\"type\":\"PanTool\"},{\"attributes\":{},\"id\":\"2166\",\"type\":\"Selection\"},{\"attributes\":{\"align\":\"center\",\"text\":\"Follower Events vs STD and Mean\"},\"id\":\"1975\",\"type\":\"Title\"},{\"attributes\":{\"source\":{\"id\":\"2054\"}},\"id\":\"2058\",\"type\":\"CDSView\"},{\"attributes\":{\"line_color\":\"#31a354\",\"line_dash\":[2,4],\"line_width\":2,\"x\":{\"field\":\"x\"},\"y\":{\"field\":\"y\"}},\"id\":\"2055\",\"type\":\"Line\"},{\"attributes\":{\"data_source\":{\"id\":\"2054\"},\"glyph\":{\"id\":\"2055\"},\"hover_glyph\":null,\"muted_glyph\":null,\"nonselection_glyph\":{\"id\":\"2056\"},\"view\":{\"id\":\"2058\"}},\"id\":\"2057\",\"type\":\"GlyphRenderer\"},{\"attributes\":{},\"id\":\"1945\",\"type\":\"BasicTicker\"},{\"attributes\":{\"fill_alpha\":0.1,\"fill_color\":\"red\",\"top\":19422.977959108124},\"id\":\"2045\",\"type\":\"BoxAnnotation\"},{\"attributes\":{\"data\":{\"x\":[\"Jan\",\"Feb\",\"Mar\",\"Apr\",\"May\",\"Jun\",\"Jul\",\"Aug\",\"Sep\",\"Oct\",\"Nov\",\"Dec\"],\"y\":{\"__ndarray__\":\"AAAAAICIw0AAAAAAAI21QAAAAAAAQ8NAAAAAAADzskAAAAAAgA7RQAAAAACAVNBAAAAAAAC300BVVVVVNazZQAAAAACAIc9AAAAAAEBf30AAAAAAAEDcQAAAAABAq9pA\",\"dtype\":\"float64\",\"order\":\"little\",\"shape\":[12]}},\"selected\":{\"id\":\"2159\"},\"selection_policy\":{\"id\":\"2160\"}},\"id\":\"2005\",\"type\":\"ColumnDataSource\"},{\"attributes\":{\"bottom\":9264.454709148853,\"fill_alpha\":0.1,\"fill_color\":\"green\",\"top\":27197.524153593295},\"id\":\"2002\",\"type\":\"BoxAnnotation\"},{\"attributes\":{},\"id\":\"2165\",\"type\":\"UnionRenderers\"},{\"attributes\":{},\"id\":\"2167\",\"type\":\"UnionRenderers\"},{\"attributes\":{},\"id\":\"1939\",\"type\":\"LinearScale\"},{\"attributes\":{\"source\":{\"id\":\"2005\"}},\"id\":\"2009\",\"type\":\"CDSView\"},{\"attributes\":{},\"id\":\"1937\",\"type\":\"CategoricalScale\"},{\"attributes\":{\"bottom\":27197.524153593295,\"fill_alpha\":0.1,\"fill_color\":\"red\"},\"id\":\"2003\",\"type\":\"BoxAnnotation\"},{\"attributes\":{\"source\":{\"id\":\"2010\"}},\"id\":\"2014\",\"type\":\"CDSView\"},{\"attributes\":{\"line_alpha\":0.1,\"line_color\":\"#31a354\",\"line_dash\":[2,4],\"line_width\":2,\"x\":{\"field\":\"x\"},\"y\":{\"field\":\"y\"}},\"id\":\"2012\",\"type\":\"Line\"},{\"attributes\":{\"line_color\":\"#756bb1\",\"line_width\":2,\"x\":{\"field\":\"x\"},\"y\":{\"field\":\"y\"}},\"id\":\"2006\",\"type\":\"Line\"},{\"attributes\":{\"source\":{\"id\":\"2049\"}},\"id\":\"2053\",\"type\":\"CDSView\"},{\"attributes\":{},\"id\":\"2164\",\"type\":\"Selection\"},{\"attributes\":{\"code\":\"\\n    if (index % 2 == 0)\\n    {\\n    return tick;\\n    }\\n    else\\n    {\\n    return \\\"\\\";\\n    }\\n    \"},\"id\":\"1999\",\"type\":\"FuncTickFormatter\"},{\"attributes\":{},\"id\":\"2161\",\"type\":\"Selection\"},{\"attributes\":{},\"id\":\"1935\",\"type\":\"DataRange1d\"},{\"attributes\":{\"bottom_units\":\"screen\",\"fill_alpha\":0.5,\"fill_color\":\"lightgrey\",\"left_units\":\"screen\",\"level\":\"overlay\",\"line_alpha\":1.0,\"line_color\":\"black\",\"line_dash\":[4,4],\"line_width\":2,\"right_units\":\"screen\",\"syncable\":false,\"top_units\":\"screen\"},\"id\":\"1992\",\"type\":\"BoxAnnotation\"},{\"attributes\":{\"align\":\"center\",\"text\":\"Follower Events vs STD and Mean\"},\"id\":\"1931\",\"type\":\"Title\"},{\"attributes\":{\"axis_label\":\"Total Events\",\"formatter\":{\"id\":\"1955\"},\"major_label_policy\":{\"id\":\"2143\"},\"ticker\":{\"id\":\"1945\"}},\"id\":\"1944\",\"type\":\"LinearAxis\"},{\"attributes\":{\"data\":{\"x\":[\"Jan\",\"Feb\",\"Mar\",\"Apr\",\"May\",\"Jun\",\"Jul\",\"Aug\",\"Sep\",\"Oct\",\"Nov\",\"Dec\"],\"y\":[47111.4,47111.4,47111.4,47111.4,47111.4,47111.4,47111.4,47111.4,47111.4,47111.4,47111.4,47111.4]},\"selected\":{\"id\":\"2166\"},\"selection_policy\":{\"id\":\"2167\"}},\"id\":\"2054\",\"type\":\"ColumnDataSource\"},{\"attributes\":{\"line_alpha\":0.1,\"line_color\":\"#756bb1\",\"line_width\":2,\"x\":{\"field\":\"x\"},\"y\":{\"field\":\"y\"}},\"id\":\"2007\",\"type\":\"Line\"},{\"attributes\":{\"data_source\":{\"id\":\"2005\"},\"glyph\":{\"id\":\"2006\"},\"hover_glyph\":null,\"muted_glyph\":null,\"nonselection_glyph\":{\"id\":\"2007\"},\"view\":{\"id\":\"2009\"}},\"id\":\"2008\",\"type\":\"GlyphRenderer\"},{\"attributes\":{\"line_color\":\"#31a354\",\"line_dash\":[2,4],\"line_width\":2,\"x\":{\"field\":\"x\"},\"y\":{\"field\":\"y\"}},\"id\":\"2011\",\"type\":\"Line\"}],\"root_ids\":[\"2059\"]},\"title\":\"Bokeh Application\",\"version\":\"2.3.2\"}};\n",
       "  var render_items = [{\"docid\":\"0331e4d1-357f-4434-b71a-6ae183cc2490\",\"root_ids\":[\"2059\"],\"roots\":{\"2059\":\"f69235f4-5c35-4d73-a493-01b1ec90cdba\"}}];\n",
       "  root.Bokeh.embed.embed_items_notebook(docs_json, render_items);\n",
       "\n",
       "  }\n",
       "  if (root.Bokeh !== undefined) {\n",
       "    embed_document(root);\n",
       "  } else {\n",
       "    var attempts = 0;\n",
       "    var timer = setInterval(function(root) {\n",
       "      if (root.Bokeh !== undefined) {\n",
       "        clearInterval(timer);\n",
       "        embed_document(root);\n",
       "      } else {\n",
       "        attempts++;\n",
       "        if (attempts > 100) {\n",
       "          clearInterval(timer);\n",
       "          console.log(\"Bokeh: ERROR: Unable to run BokehJS code because BokehJS library is missing\");\n",
       "        }\n",
       "      }\n",
       "    }, 10, root)\n",
       "  }\n",
       "})(window);"
      ],
      "application/vnd.bokehjs_exec.v0+json": ""
     },
     "metadata": {
      "application/vnd.bokehjs_exec.v0+json": {
       "id": "2059"
      }
     },
     "output_type": "display_data"
    }
   ],
   "source": [
    "show(row([generae_fig_to_plot_std(df_to_plot, year) for year in df_to_plot.columns]))"
   ]
  },
  {
   "cell_type": "markdown",
   "metadata": {},
   "source": [
    "Replacing the huge spikes with the mean results in more consistency in follower activity across the months. However, there's still somethings to note.\n",
    "\n",
    "**Notice the following:**\n",
    "- While the inconsistency of follower activity dropped in 2020 and 2021 when removing the huge spike, there are still period of low follower activity.\n",
    "- 2021 still has a large standard deviation, indicating more unknowns, but again, this is due to it being an incomplete year. However, it's something that should be watched for to get a sense of consistency throughout each month.\n",
    "\n",
    "Alright, now that we've viewed our time-based dimensions, let's go ahead and learn a thing or two about our followers and followees!"
   ]
  },
  {
   "cell_type": "markdown",
   "metadata": {},
   "source": [
    "### Follower and Followee EDA\n",
    "Who is following who and who is being followed can tell us a lot about who our influencers are on the platform. Additionally, it can show us the networks and various communities within our platform based on follower and followee networks. Before diving deep into this, let's take a quick look at what we're working with!"
   ]
  },
  {
   "cell_type": "code",
   "execution_count": 10,
   "metadata": {
    "ExecuteTime": {
     "end_time": "2021-06-01T14:41:45.551209Z",
     "start_time": "2021-06-01T14:41:45.136721Z"
    }
   },
   "outputs": [
    {
     "name": "stdout",
     "output_type": "stream",
     "text": [
      "Displaying some quick stats on our followers...\n"
     ]
    },
    {
     "data": {
      "text/html": [
       "<div>\n",
       "<style scoped>\n",
       "    .dataframe tbody tr th:only-of-type {\n",
       "        vertical-align: middle;\n",
       "    }\n",
       "\n",
       "    .dataframe tbody tr th {\n",
       "        vertical-align: top;\n",
       "    }\n",
       "\n",
       "    .dataframe thead th {\n",
       "        text-align: right;\n",
       "    }\n",
       "</style>\n",
       "<table border=\"1\" class=\"dataframe\">\n",
       "  <thead>\n",
       "    <tr style=\"text-align: right;\">\n",
       "      <th></th>\n",
       "      <th>follower</th>\n",
       "      <th>followee</th>\n",
       "    </tr>\n",
       "  </thead>\n",
       "  <tbody>\n",
       "    <tr>\n",
       "      <th>count</th>\n",
       "      <td>609117</td>\n",
       "      <td>609117</td>\n",
       "    </tr>\n",
       "    <tr>\n",
       "      <th>unique</th>\n",
       "      <td>97765</td>\n",
       "      <td>39956</td>\n",
       "    </tr>\n",
       "    <tr>\n",
       "      <th>top</th>\n",
       "      <td>5e1ab920b988fb71f5ae532db2fc449e</td>\n",
       "      <td>bbc4a5710e40e0c9fe61a6793297db55</td>\n",
       "    </tr>\n",
       "    <tr>\n",
       "      <th>freq</th>\n",
       "      <td>12652</td>\n",
       "      <td>51753</td>\n",
       "    </tr>\n",
       "  </tbody>\n",
       "</table>\n",
       "</div>"
      ],
      "text/plain": [
       "                                follower                          followee\n",
       "count                             609117                            609117\n",
       "unique                             97765                             39956\n",
       "top     5e1ab920b988fb71f5ae532db2fc449e  bbc4a5710e40e0c9fe61a6793297db55\n",
       "freq                               12652                             51753"
      ]
     },
     "execution_count": 10,
     "metadata": {},
     "output_type": "execute_result"
    }
   ],
   "source": [
    "print(\"Displaying some quick stats on our followers...\")\n",
    "df[[\"follower\", \"followee\"]].describe()"
   ]
  },
  {
   "cell_type": "markdown",
   "metadata": {},
   "source": [
    "As mentioned before, `5e1ab920b988fb71f5ae532db2fc449e` has given 12,652 follows as the platforms top follower and `bbc4a5710e40e0c9fe61a6793297db55` has been followed 51,753 users as our top followee.\n",
    "\n",
    "Let's take a look at some other follower statistics."
   ]
  },
  {
   "cell_type": "code",
   "execution_count": 11,
   "metadata": {
    "ExecuteTime": {
     "end_time": "2021-06-01T14:41:46.782234Z",
     "start_time": "2021-06-01T14:41:45.554236Z"
    }
   },
   "outputs": [
    {
     "name": "stdout",
     "output_type": "stream",
     "text": [
      "\n",
      "Data on how many times a follower followed the followee...\n"
     ]
    },
    {
     "data": {
      "text/html": [
       "<div>\n",
       "<style scoped>\n",
       "    .dataframe tbody tr th:only-of-type {\n",
       "        vertical-align: middle;\n",
       "    }\n",
       "\n",
       "    .dataframe tbody tr th {\n",
       "        vertical-align: top;\n",
       "    }\n",
       "\n",
       "    .dataframe thead th {\n",
       "        text-align: right;\n",
       "    }\n",
       "</style>\n",
       "<table border=\"1\" class=\"dataframe\">\n",
       "  <thead>\n",
       "    <tr style=\"text-align: right;\">\n",
       "      <th></th>\n",
       "      <th>follower</th>\n",
       "      <th>followee</th>\n",
       "      <th>total_follows</th>\n",
       "    </tr>\n",
       "  </thead>\n",
       "  <tbody>\n",
       "    <tr>\n",
       "      <th>0</th>\n",
       "      <td>dbbc26201cba155406a789727d5dd5c8</td>\n",
       "      <td>086f435f286cae790ff84dcebf26b106</td>\n",
       "      <td>4</td>\n",
       "    </tr>\n",
       "    <tr>\n",
       "      <th>1</th>\n",
       "      <td>6f4538135f8a067aadeed3936d213908</td>\n",
       "      <td>c32b5699821fbff77bc8d5e156f04ec9</td>\n",
       "      <td>4</td>\n",
       "    </tr>\n",
       "    <tr>\n",
       "      <th>2</th>\n",
       "      <td>2cde2cfd19378d4c8397c2a7ca54fe72</td>\n",
       "      <td>83f507a6429017b08a5413e2387cf92a</td>\n",
       "      <td>2</td>\n",
       "    </tr>\n",
       "    <tr>\n",
       "      <th>3</th>\n",
       "      <td>9527c8b77b84926ae73eb9c119553a19</td>\n",
       "      <td>ee15dedd6d93b0bed849526310f8b19d</td>\n",
       "      <td>2</td>\n",
       "    </tr>\n",
       "    <tr>\n",
       "      <th>4</th>\n",
       "      <td>072b12123838edd30b7a1574813b2235</td>\n",
       "      <td>a92ce72df353ed57fe47913f357a5299</td>\n",
       "      <td>2</td>\n",
       "    </tr>\n",
       "  </tbody>\n",
       "</table>\n",
       "</div>"
      ],
      "text/plain": [
       "                           follower                          followee  \\\n",
       "0  dbbc26201cba155406a789727d5dd5c8  086f435f286cae790ff84dcebf26b106   \n",
       "1  6f4538135f8a067aadeed3936d213908  c32b5699821fbff77bc8d5e156f04ec9   \n",
       "2  2cde2cfd19378d4c8397c2a7ca54fe72  83f507a6429017b08a5413e2387cf92a   \n",
       "3  9527c8b77b84926ae73eb9c119553a19  ee15dedd6d93b0bed849526310f8b19d   \n",
       "4  072b12123838edd30b7a1574813b2235  a92ce72df353ed57fe47913f357a5299   \n",
       "\n",
       "   total_follows  \n",
       "0              4  \n",
       "1              4  \n",
       "2              2  \n",
       "3              2  \n",
       "4              2  "
      ]
     },
     "metadata": {},
     "output_type": "display_data"
    },
    {
     "name": "stdout",
     "output_type": "stream",
     "text": [
      "\n",
      "Quick stats on how many times a follower followed the followee...\n"
     ]
    },
    {
     "data": {
      "text/html": [
       "<div>\n",
       "<style scoped>\n",
       "    .dataframe tbody tr th:only-of-type {\n",
       "        vertical-align: middle;\n",
       "    }\n",
       "\n",
       "    .dataframe tbody tr th {\n",
       "        vertical-align: top;\n",
       "    }\n",
       "\n",
       "    .dataframe thead th {\n",
       "        text-align: right;\n",
       "    }\n",
       "</style>\n",
       "<table border=\"1\" class=\"dataframe\">\n",
       "  <thead>\n",
       "    <tr style=\"text-align: right;\">\n",
       "      <th></th>\n",
       "      <th>count</th>\n",
       "      <th>mean</th>\n",
       "      <th>std</th>\n",
       "      <th>min</th>\n",
       "      <th>25%</th>\n",
       "      <th>50%</th>\n",
       "      <th>75%</th>\n",
       "      <th>max</th>\n",
       "    </tr>\n",
       "  </thead>\n",
       "  <tbody>\n",
       "    <tr>\n",
       "      <th>total_follows</th>\n",
       "      <td>609080.0</td>\n",
       "      <td>1.000061</td>\n",
       "      <td>0.008969</td>\n",
       "      <td>1.0</td>\n",
       "      <td>1.0</td>\n",
       "      <td>1.0</td>\n",
       "      <td>1.0</td>\n",
       "      <td>4.0</td>\n",
       "    </tr>\n",
       "  </tbody>\n",
       "</table>\n",
       "</div>"
      ],
      "text/plain": [
       "                  count      mean       std  min  25%  50%  75%  max\n",
       "total_follows  609080.0  1.000061  0.008969  1.0  1.0  1.0  1.0  4.0"
      ]
     },
     "metadata": {},
     "output_type": "display_data"
    },
    {
     "name": "stdout",
     "output_type": "stream",
     "text": [
      "Number of times a follower has followed a followee:\n",
      " ===> 4\n",
      " ===> 2\n",
      " ===> 1\n",
      "Number of folks on the platform engaging in follower activity: 137721\n"
     ]
    }
   ],
   "source": [
    "df_followers = pd.DataFrame(\n",
    "    df[[\"follower\", \"followee\"]].value_counts()\n",
    ").reset_index().rename(columns={0:\"total_follows\"})\n",
    "print(\"\\nData on how many times a follower followed the followee...\")\n",
    "display(df_followers.head())\n",
    "print(\"\\nQuick stats on how many times a follower followed the followee...\")\n",
    "display(df_followers.describe().T)\n",
    "print(\"Number of times a follower has followed a followee:\", \n",
    "      *df_followers.total_follows.unique(), sep=\"\\n ===> \")\n",
    "print(\"Number of folks on the platform engaging in follower activity:\", \n",
    "      df[[\"follower\", \"followee\"]].describe().loc[\"unique\"].sum())"
   ]
  },
  {
   "cell_type": "markdown",
   "metadata": {},
   "source": [
    "**Notice the following:**\n",
    "1. There are more followers (97,765) than followee's (39,956) indicating that the folks being followed aren't really following anyone back, but a lot of people are following specific accounts, this could be for a variety of reasons.\n",
    "2. A few followers have followed the same account 2 or 4 times. This could indicate that they were followed and then unfollowed, for whatever reason. But we'll explore that more later.\n",
    "3. User `bbc4a5710e40e0c9fe61a6793297db55` has been followed 51,753 times. This could be an influencer, top user, or whatever.\n",
    "4. User `5e1ab920b988fb71f5ae532db2fc449e` has been followed 12,652 other users, indicating a very active member of the platform.\n",
    "5. There are 137,721 users engaging in follower activity.\n",
    "\n",
    "There's some basic info here, but the item to explore relates to followers giving more than one follow to the same account. Let's dive deeper to see what's going on there."
   ]
  },
  {
   "cell_type": "code",
   "execution_count": 12,
   "metadata": {
    "ExecuteTime": {
     "end_time": "2021-06-01T14:41:46.821915Z",
     "start_time": "2021-06-01T14:41:46.785691Z"
    }
   },
   "outputs": [
    {
     "name": "stdout",
     "output_type": "stream",
     "text": [
      "Followers initiating with more than 1 follower for the same followee\n"
     ]
    },
    {
     "data": {
      "text/html": [
       "<div>\n",
       "<style scoped>\n",
       "    .dataframe tbody tr th:only-of-type {\n",
       "        vertical-align: middle;\n",
       "    }\n",
       "\n",
       "    .dataframe tbody tr th {\n",
       "        vertical-align: top;\n",
       "    }\n",
       "\n",
       "    .dataframe thead th {\n",
       "        text-align: right;\n",
       "    }\n",
       "</style>\n",
       "<table border=\"1\" class=\"dataframe\">\n",
       "  <thead>\n",
       "    <tr style=\"text-align: right;\">\n",
       "      <th></th>\n",
       "      <th>follower</th>\n",
       "      <th>followee</th>\n",
       "      <th>total_follows</th>\n",
       "    </tr>\n",
       "  </thead>\n",
       "  <tbody>\n",
       "    <tr>\n",
       "      <th>0</th>\n",
       "      <td>dbbc26201cba155406a789727d5dd5c8</td>\n",
       "      <td>086f435f286cae790ff84dcebf26b106</td>\n",
       "      <td>4</td>\n",
       "    </tr>\n",
       "    <tr>\n",
       "      <th>1</th>\n",
       "      <td>6f4538135f8a067aadeed3936d213908</td>\n",
       "      <td>c32b5699821fbff77bc8d5e156f04ec9</td>\n",
       "      <td>4</td>\n",
       "    </tr>\n",
       "    <tr>\n",
       "      <th>2</th>\n",
       "      <td>2cde2cfd19378d4c8397c2a7ca54fe72</td>\n",
       "      <td>83f507a6429017b08a5413e2387cf92a</td>\n",
       "      <td>2</td>\n",
       "    </tr>\n",
       "    <tr>\n",
       "      <th>3</th>\n",
       "      <td>9527c8b77b84926ae73eb9c119553a19</td>\n",
       "      <td>ee15dedd6d93b0bed849526310f8b19d</td>\n",
       "      <td>2</td>\n",
       "    </tr>\n",
       "    <tr>\n",
       "      <th>4</th>\n",
       "      <td>072b12123838edd30b7a1574813b2235</td>\n",
       "      <td>a92ce72df353ed57fe47913f357a5299</td>\n",
       "      <td>2</td>\n",
       "    </tr>\n",
       "  </tbody>\n",
       "</table>\n",
       "</div>"
      ],
      "text/plain": [
       "                           follower                          followee  \\\n",
       "0  dbbc26201cba155406a789727d5dd5c8  086f435f286cae790ff84dcebf26b106   \n",
       "1  6f4538135f8a067aadeed3936d213908  c32b5699821fbff77bc8d5e156f04ec9   \n",
       "2  2cde2cfd19378d4c8397c2a7ca54fe72  83f507a6429017b08a5413e2387cf92a   \n",
       "3  9527c8b77b84926ae73eb9c119553a19  ee15dedd6d93b0bed849526310f8b19d   \n",
       "4  072b12123838edd30b7a1574813b2235  a92ce72df353ed57fe47913f357a5299   \n",
       "\n",
       "   total_follows  \n",
       "0              4  \n",
       "1              4  \n",
       "2              2  \n",
       "3              2  \n",
       "4              2  "
      ]
     },
     "metadata": {},
     "output_type": "display_data"
    },
    {
     "name": "stdout",
     "output_type": "stream",
     "text": [
      "Total number of follower events with more than 1 follow to same account\n",
      " ===> 33\n",
      "Total number of followers with more than 1 follow to same account:\n",
      " ===> 22\n"
     ]
    }
   ],
   "source": [
    "more_than_1_follow = df_followers.query(\"total_follows not in [1]\")\n",
    "print(\"Followers initiating with more than 1 follower for the same followee\")\n",
    "display(more_than_1_follow.head())\n",
    "print(\"Total number of follower events with more than 1 follow to same account\",\n",
    "            more_than_1_follow[\"follower\"].count(), sep=\"\\n ===> \")\n",
    "more_than_1_follow.head()\n",
    "print(\"Total number of followers with more than 1 follow to same account:\", \n",
    "      more_than_1_follow[\"follower\"].nunique(), sep=\"\\n ===> \")"
   ]
  },
  {
   "cell_type": "markdown",
   "metadata": {},
   "source": [
    "Here we see that there are 33 follower events across 22 followers who have followed a user more than once. Let's take a specific look at those accounts"
   ]
  },
  {
   "cell_type": "code",
   "execution_count": 13,
   "metadata": {
    "ExecuteTime": {
     "end_time": "2021-06-01T14:41:47.640543Z",
     "start_time": "2021-06-01T14:41:46.827284Z"
    }
   },
   "outputs": [
    {
     "name": "stdout",
     "output_type": "stream",
     "text": [
      "Here are the first 10 rows:\n"
     ]
    },
    {
     "data": {
      "text/html": [
       "<div>\n",
       "<style scoped>\n",
       "    .dataframe tbody tr th:only-of-type {\n",
       "        vertical-align: middle;\n",
       "    }\n",
       "\n",
       "    .dataframe tbody tr th {\n",
       "        vertical-align: top;\n",
       "    }\n",
       "\n",
       "    .dataframe thead th {\n",
       "        text-align: right;\n",
       "    }\n",
       "</style>\n",
       "<table border=\"1\" class=\"dataframe\">\n",
       "  <thead>\n",
       "    <tr style=\"text-align: right;\">\n",
       "      <th></th>\n",
       "      <th>follower</th>\n",
       "      <th>followee</th>\n",
       "      <th>date</th>\n",
       "      <th>year</th>\n",
       "      <th>timestamp</th>\n",
       "      <th>hour</th>\n",
       "    </tr>\n",
       "  </thead>\n",
       "  <tbody>\n",
       "    <tr>\n",
       "      <th>0</th>\n",
       "      <td>072b12123838edd30b7a1574813b2235</td>\n",
       "      <td>a92ce72df353ed57fe47913f357a5299</td>\n",
       "      <td>2021-03-10</td>\n",
       "      <td>2021</td>\n",
       "      <td>0 days 20:29:32.426000</td>\n",
       "      <td>20</td>\n",
       "    </tr>\n",
       "    <tr>\n",
       "      <th>1</th>\n",
       "      <td>072b12123838edd30b7a1574813b2235</td>\n",
       "      <td>a92ce72df353ed57fe47913f357a5299</td>\n",
       "      <td>2021-03-10</td>\n",
       "      <td>2021</td>\n",
       "      <td>0 days 20:29:32.548000</td>\n",
       "      <td>20</td>\n",
       "    </tr>\n",
       "    <tr>\n",
       "      <th>2</th>\n",
       "      <td>11fb46c7654a17a517a3e66c24133b41</td>\n",
       "      <td>4f789ca00a491a274f8e6d311e89cead</td>\n",
       "      <td>2020-05-03</td>\n",
       "      <td>2020</td>\n",
       "      <td>0 days 17:13:53.272000</td>\n",
       "      <td>17</td>\n",
       "    </tr>\n",
       "    <tr>\n",
       "      <th>3</th>\n",
       "      <td>11fb46c7654a17a517a3e66c24133b41</td>\n",
       "      <td>4f789ca00a491a274f8e6d311e89cead</td>\n",
       "      <td>2020-05-03</td>\n",
       "      <td>2020</td>\n",
       "      <td>0 days 17:13:53.273000</td>\n",
       "      <td>17</td>\n",
       "    </tr>\n",
       "    <tr>\n",
       "      <th>4</th>\n",
       "      <td>11fb46c7654a17a517a3e66c24133b41</td>\n",
       "      <td>8796a5ebad1c45f0927cec031e95bbc8</td>\n",
       "      <td>2020-05-03</td>\n",
       "      <td>2020</td>\n",
       "      <td>0 days 17:13:53.270000</td>\n",
       "      <td>17</td>\n",
       "    </tr>\n",
       "    <tr>\n",
       "      <th>5</th>\n",
       "      <td>11fb46c7654a17a517a3e66c24133b41</td>\n",
       "      <td>8796a5ebad1c45f0927cec031e95bbc8</td>\n",
       "      <td>2020-05-03</td>\n",
       "      <td>2020</td>\n",
       "      <td>0 days 17:13:53.272000</td>\n",
       "      <td>17</td>\n",
       "    </tr>\n",
       "    <tr>\n",
       "      <th>6</th>\n",
       "      <td>11fb46c7654a17a517a3e66c24133b41</td>\n",
       "      <td>c7c0bcf29a3e254d99dcb413d07f0d49</td>\n",
       "      <td>2020-05-03</td>\n",
       "      <td>2020</td>\n",
       "      <td>0 days 17:11:04.673000</td>\n",
       "      <td>17</td>\n",
       "    </tr>\n",
       "    <tr>\n",
       "      <th>7</th>\n",
       "      <td>11fb46c7654a17a517a3e66c24133b41</td>\n",
       "      <td>c7c0bcf29a3e254d99dcb413d07f0d49</td>\n",
       "      <td>2020-05-03</td>\n",
       "      <td>2020</td>\n",
       "      <td>0 days 17:11:04.674000</td>\n",
       "      <td>17</td>\n",
       "    </tr>\n",
       "    <tr>\n",
       "      <th>8</th>\n",
       "      <td>17152d75ffd165d4323dd93e10871a1d</td>\n",
       "      <td>0468c8a42373b28a837b3ffca9ae0e7a</td>\n",
       "      <td>2021-01-31</td>\n",
       "      <td>2021</td>\n",
       "      <td>0 days 21:30:27.843000</td>\n",
       "      <td>21</td>\n",
       "    </tr>\n",
       "    <tr>\n",
       "      <th>9</th>\n",
       "      <td>17152d75ffd165d4323dd93e10871a1d</td>\n",
       "      <td>0468c8a42373b28a837b3ffca9ae0e7a</td>\n",
       "      <td>2021-01-31</td>\n",
       "      <td>2021</td>\n",
       "      <td>0 days 21:30:27.851000</td>\n",
       "      <td>21</td>\n",
       "    </tr>\n",
       "  </tbody>\n",
       "</table>\n",
       "</div>"
      ],
      "text/plain": [
       "                           follower                          followee  \\\n",
       "0  072b12123838edd30b7a1574813b2235  a92ce72df353ed57fe47913f357a5299   \n",
       "1  072b12123838edd30b7a1574813b2235  a92ce72df353ed57fe47913f357a5299   \n",
       "2  11fb46c7654a17a517a3e66c24133b41  4f789ca00a491a274f8e6d311e89cead   \n",
       "3  11fb46c7654a17a517a3e66c24133b41  4f789ca00a491a274f8e6d311e89cead   \n",
       "4  11fb46c7654a17a517a3e66c24133b41  8796a5ebad1c45f0927cec031e95bbc8   \n",
       "5  11fb46c7654a17a517a3e66c24133b41  8796a5ebad1c45f0927cec031e95bbc8   \n",
       "6  11fb46c7654a17a517a3e66c24133b41  c7c0bcf29a3e254d99dcb413d07f0d49   \n",
       "7  11fb46c7654a17a517a3e66c24133b41  c7c0bcf29a3e254d99dcb413d07f0d49   \n",
       "8  17152d75ffd165d4323dd93e10871a1d  0468c8a42373b28a837b3ffca9ae0e7a   \n",
       "9  17152d75ffd165d4323dd93e10871a1d  0468c8a42373b28a837b3ffca9ae0e7a   \n",
       "\n",
       "        date  year              timestamp  hour  \n",
       "0 2021-03-10  2021 0 days 20:29:32.426000    20  \n",
       "1 2021-03-10  2021 0 days 20:29:32.548000    20  \n",
       "2 2020-05-03  2020 0 days 17:13:53.272000    17  \n",
       "3 2020-05-03  2020 0 days 17:13:53.273000    17  \n",
       "4 2020-05-03  2020 0 days 17:13:53.270000    17  \n",
       "5 2020-05-03  2020 0 days 17:13:53.272000    17  \n",
       "6 2020-05-03  2020 0 days 17:11:04.673000    17  \n",
       "7 2020-05-03  2020 0 days 17:11:04.674000    17  \n",
       "8 2021-01-31  2021 0 days 21:30:27.843000    21  \n",
       "9 2021-01-31  2021 0 days 21:30:27.851000    21  "
      ]
     },
     "metadata": {},
     "output_type": "display_data"
    }
   ],
   "source": [
    "events = more_than_1_follow.set_index([\"follower\", \"followee\"]).index\n",
    "multi_follows = pd.DataFrame(index = events)\n",
    "multi_follow_events = multi_follows.join(df.set_index(\n",
    "    [\"follower\", \"followee\"]\n",
    "), how=\"inner\", on=[\"follower\", \"followee\"])\n",
    "multi_follow_events.reset_index(inplace=True)\n",
    "multi_follow_events.timestamp = pd.to_timedelta(multi_follow_events.timestamp)\n",
    "multi_follow_events.sort_values(by=[\"follower\", \"followee\", \"date\", \"year\", \"timestamp\"], inplace=True)\n",
    "multi_follow_events.reset_index(inplace=True, drop=True)\n",
    "print(\"Here are the first 10 rows:\")\n",
    "display(multi_follow_events.head(10))"
   ]
  },
  {
   "cell_type": "markdown",
   "metadata": {},
   "source": [
    "**Notice the following:**\n",
    "1. Look specifically at the `timestamp` column. Notice how the times before follows are microseconds apart.\n",
    "\n",
    "Let's simplify this view some."
   ]
  },
  {
   "cell_type": "code",
   "execution_count": 14,
   "metadata": {
    "ExecuteTime": {
     "end_time": "2021-06-01T14:41:47.658144Z",
     "start_time": "2021-06-01T14:41:47.643727Z"
    }
   },
   "outputs": [
    {
     "name": "stdout",
     "output_type": "stream",
     "text": [
      "Here are the first 2 rows:\n"
     ]
    },
    {
     "data": {
      "text/html": [
       "<div>\n",
       "<style scoped>\n",
       "    .dataframe tbody tr th:only-of-type {\n",
       "        vertical-align: middle;\n",
       "    }\n",
       "\n",
       "    .dataframe tbody tr th {\n",
       "        vertical-align: top;\n",
       "    }\n",
       "\n",
       "    .dataframe thead th {\n",
       "        text-align: right;\n",
       "    }\n",
       "</style>\n",
       "<table border=\"1\" class=\"dataframe\">\n",
       "  <thead>\n",
       "    <tr style=\"text-align: right;\">\n",
       "      <th></th>\n",
       "      <th>follower</th>\n",
       "      <th>followee</th>\n",
       "      <th>date</th>\n",
       "      <th>timestamp</th>\n",
       "    </tr>\n",
       "  </thead>\n",
       "  <tbody>\n",
       "    <tr>\n",
       "      <th>0</th>\n",
       "      <td>072b12123838edd30b7a1574813b2235</td>\n",
       "      <td>a92ce72df353ed57fe47913f357a5299</td>\n",
       "      <td>2021-03-10</td>\n",
       "      <td>0 days 20:29:32.426000</td>\n",
       "    </tr>\n",
       "    <tr>\n",
       "      <th>1</th>\n",
       "      <td>072b12123838edd30b7a1574813b2235</td>\n",
       "      <td>a92ce72df353ed57fe47913f357a5299</td>\n",
       "      <td>2021-03-10</td>\n",
       "      <td>0 days 20:29:32.548000</td>\n",
       "    </tr>\n",
       "  </tbody>\n",
       "</table>\n",
       "</div>"
      ],
      "text/plain": [
       "                           follower                          followee  \\\n",
       "0  072b12123838edd30b7a1574813b2235  a92ce72df353ed57fe47913f357a5299   \n",
       "1  072b12123838edd30b7a1574813b2235  a92ce72df353ed57fe47913f357a5299   \n",
       "\n",
       "        date              timestamp  \n",
       "0 2021-03-10 0 days 20:29:32.426000  \n",
       "1 2021-03-10 0 days 20:29:32.548000  "
      ]
     },
     "metadata": {},
     "output_type": "display_data"
    }
   ],
   "source": [
    "print(\"Here are the first 2 rows:\")\n",
    "display(multi_follow_events[[\"follower\", \"followee\", \"date\", \"timestamp\"]].head(2))"
   ]
  },
  {
   "cell_type": "markdown",
   "metadata": {},
   "source": [
    "Follower `072b12123838edd30b7a1574813b2235` has two follower events logged within microseconds of one another. This could indicate a quick \"follow-unfollow-follow\" of it could indicate a minor hiccup in how we're logging these events.\n",
    "\n",
    "Before figuring out what to do with these events, let's find the duration between each of them to make there weren't days between follows."
   ]
  },
  {
   "cell_type": "code",
   "execution_count": 15,
   "metadata": {
    "ExecuteTime": {
     "end_time": "2021-06-01T14:41:47.732209Z",
     "start_time": "2021-06-01T14:41:47.661034Z"
    }
   },
   "outputs": [
    {
     "data": {
      "text/html": [
       "<div>\n",
       "<style scoped>\n",
       "    .dataframe tbody tr th:only-of-type {\n",
       "        vertical-align: middle;\n",
       "    }\n",
       "\n",
       "    .dataframe tbody tr th {\n",
       "        vertical-align: top;\n",
       "    }\n",
       "\n",
       "    .dataframe thead th {\n",
       "        text-align: right;\n",
       "    }\n",
       "</style>\n",
       "<table border=\"1\" class=\"dataframe\">\n",
       "  <thead>\n",
       "    <tr style=\"text-align: right;\">\n",
       "      <th></th>\n",
       "      <th>count</th>\n",
       "      <th>mean</th>\n",
       "      <th>std</th>\n",
       "      <th>min</th>\n",
       "      <th>25%</th>\n",
       "      <th>50%</th>\n",
       "      <th>75%</th>\n",
       "      <th>max</th>\n",
       "    </tr>\n",
       "  </thead>\n",
       "  <tbody>\n",
       "    <tr>\n",
       "      <th>time_btwn_event</th>\n",
       "      <td>37.0</td>\n",
       "      <td>8837.837838</td>\n",
       "      <td>21860.051735</td>\n",
       "      <td>0.0</td>\n",
       "      <td>1000.0</td>\n",
       "      <td>2000.0</td>\n",
       "      <td>4000.0</td>\n",
       "      <td>122000.0</td>\n",
       "    </tr>\n",
       "  </tbody>\n",
       "</table>\n",
       "</div>"
      ],
      "text/plain": [
       "                 count         mean           std  min     25%     50%  \\\n",
       "time_btwn_event   37.0  8837.837838  21860.051735  0.0  1000.0  2000.0   \n",
       "\n",
       "                    75%       max  \n",
       "time_btwn_event  4000.0  122000.0  "
      ]
     },
     "execution_count": 15,
     "metadata": {},
     "output_type": "execute_result"
    }
   ],
   "source": [
    "durations = multi_follow_events.groupby(\n",
    "    [\"follower\", \"followee\", \"date\", \"year\", \"hour\"], as_index=False\n",
    ").timestamp.diff().rename(columns={\"timestamp\":\"time_btwn_event\"})\n",
    "durations.time_btwn_event = durations.time_btwn_event.dt.microseconds\n",
    "multi_follow_events = multi_follow_events.join(durations, how=\"inner\")\n",
    "multi_follow_events[[\"time_btwn_event\"]].describe().T"
   ]
  },
  {
   "cell_type": "markdown",
   "metadata": {},
   "source": [
    "Wow! Our duration is in microseconds, indicating that the time between follows for multi-follower events is so small that there could be a lag or some sort of double tapping of tracking these events. \n",
    "\n",
    "Let's treat these as duplicate events and remove them."
   ]
  },
  {
   "cell_type": "code",
   "execution_count": 16,
   "metadata": {
    "ExecuteTime": {
     "end_time": "2021-06-01T14:41:48.902189Z",
     "start_time": "2021-06-01T14:41:47.735179Z"
    }
   },
   "outputs": [
    {
     "name": "stdout",
     "output_type": "stream",
     "text": [
      "\n",
      "Quick stats on how many times a follower followed the followee...\n"
     ]
    },
    {
     "data": {
      "text/html": [
       "<div>\n",
       "<style scoped>\n",
       "    .dataframe tbody tr th:only-of-type {\n",
       "        vertical-align: middle;\n",
       "    }\n",
       "\n",
       "    .dataframe tbody tr th {\n",
       "        vertical-align: top;\n",
       "    }\n",
       "\n",
       "    .dataframe thead th {\n",
       "        text-align: right;\n",
       "    }\n",
       "</style>\n",
       "<table border=\"1\" class=\"dataframe\">\n",
       "  <thead>\n",
       "    <tr style=\"text-align: right;\">\n",
       "      <th></th>\n",
       "      <th>count</th>\n",
       "      <th>mean</th>\n",
       "      <th>std</th>\n",
       "      <th>min</th>\n",
       "      <th>25%</th>\n",
       "      <th>50%</th>\n",
       "      <th>75%</th>\n",
       "      <th>max</th>\n",
       "    </tr>\n",
       "  </thead>\n",
       "  <tbody>\n",
       "    <tr>\n",
       "      <th>total_follows</th>\n",
       "      <td>609080.0</td>\n",
       "      <td>1.0</td>\n",
       "      <td>0.0</td>\n",
       "      <td>1.0</td>\n",
       "      <td>1.0</td>\n",
       "      <td>1.0</td>\n",
       "      <td>1.0</td>\n",
       "      <td>1.0</td>\n",
       "    </tr>\n",
       "  </tbody>\n",
       "</table>\n",
       "</div>"
      ],
      "text/plain": [
       "                  count  mean  std  min  25%  50%  75%  max\n",
       "total_follows  609080.0   1.0  0.0  1.0  1.0  1.0  1.0  1.0"
      ]
     },
     "metadata": {},
     "output_type": "display_data"
    },
    {
     "name": "stdout",
     "output_type": "stream",
     "text": [
      "Number of times a follower has followed a followee:\n",
      " ===> 1\n"
     ]
    }
   ],
   "source": [
    "df.drop_duplicates(\n",
    "    subset=[\"follower\", \"followee\", \"date\", \"year\", \"hour\"], keep='first', inplace=True\n",
    ")\n",
    "\n",
    "df_followers = pd.DataFrame(\n",
    "    df[[\"follower\", \"followee\"]].value_counts()\n",
    ").reset_index().rename(columns={0:\"total_follows\"})\n",
    "print(\"\\nQuick stats on how many times a follower followed the followee...\")\n",
    "display(df_followers.describe().T)\n",
    "print(\"Number of times a follower has followed a followee:\", \n",
    "      *df_followers.total_follows.unique(), sep=\"\\n ===> \")"
   ]
  },
  {
   "cell_type": "markdown",
   "metadata": {},
   "source": [
    "Great! Now that that's resolved, let's go ahead and continue exploring our followers and followees!"
   ]
  },
  {
   "cell_type": "code",
   "execution_count": 17,
   "metadata": {
    "ExecuteTime": {
     "end_time": "2021-06-01T14:41:49.251143Z",
     "start_time": "2021-06-01T14:41:48.905966Z"
    }
   },
   "outputs": [
    {
     "name": "stdout",
     "output_type": "stream",
     "text": [
      "\n",
      "Some stats about who is doing the following!\n"
     ]
    },
    {
     "data": {
      "text/html": [
       "<div>\n",
       "<style scoped>\n",
       "    .dataframe tbody tr th:only-of-type {\n",
       "        vertical-align: middle;\n",
       "    }\n",
       "\n",
       "    .dataframe tbody tr th {\n",
       "        vertical-align: top;\n",
       "    }\n",
       "\n",
       "    .dataframe thead th {\n",
       "        text-align: right;\n",
       "    }\n",
       "</style>\n",
       "<table border=\"1\" class=\"dataframe\">\n",
       "  <thead>\n",
       "    <tr style=\"text-align: right;\">\n",
       "      <th></th>\n",
       "      <th>count</th>\n",
       "      <th>mean</th>\n",
       "      <th>std</th>\n",
       "      <th>min</th>\n",
       "      <th>25%</th>\n",
       "      <th>50%</th>\n",
       "      <th>75%</th>\n",
       "      <th>max</th>\n",
       "    </tr>\n",
       "  </thead>\n",
       "  <tbody>\n",
       "    <tr>\n",
       "      <th>num_following</th>\n",
       "      <td>97765</td>\n",
       "      <td>6</td>\n",
       "      <td>102</td>\n",
       "      <td>1</td>\n",
       "      <td>2</td>\n",
       "      <td>2</td>\n",
       "      <td>3</td>\n",
       "      <td>12649</td>\n",
       "    </tr>\n",
       "  </tbody>\n",
       "</table>\n",
       "</div>"
      ],
      "text/plain": [
       "               count  mean  std  min  25%  50%  75%    max\n",
       "num_following  97765     6  102    1    2    2    3  12649"
      ]
     },
     "metadata": {},
     "output_type": "display_data"
    },
    {
     "name": "stdout",
     "output_type": "stream",
     "text": [
      "\n",
      "Top 10 users following the most users:\n",
      "                            follower  num_following\n",
      "0  5e1ab920b988fb71f5ae532db2fc449e          12649\n",
      "1  4627a06c99dde3d167166eaab32e947d          11767\n",
      "2  a2902fb04be2e55118937cb7e3ecb84d           8792\n",
      "3  0559f44be415ed2db1936906744f22e6           8742\n",
      "4  91d48a3b5bb53adbfb9150f996d4a6ad           8527\n",
      "5  ac27c266cf4edaf9a16f3d78db318c18           7593\n",
      "6  4bf5a1c9cc9874feb7d2948783d3e0b9           7577\n",
      "7  0468c8a42373b28a837b3ffca9ae0e7a           6805\n",
      "8  a6c26024c466c7df983b3d0fa23f94eb           6671\n",
      "9  1977229aff9c172eea93e65ce9f688be           5680\n"
     ]
    }
   ],
   "source": [
    "follower_stats = df.groupby(\"follower\", as_index=False).size().rename(columns={\"size\":\"num_following\"})\n",
    "print(\"\\nSome stats about who is doing the following!\")\n",
    "display(pd.DataFrame(follower_stats.describe().astype(int)).T)\n",
    "print(\"\\nTop 10 users following the most users:\\n\", \n",
    "      follower_stats.nlargest(10, columns=\"num_following\").reset_index(drop=True))"
   ]
  },
  {
   "cell_type": "markdown",
   "metadata": {},
   "source": [
    "**Notice the following:**\n",
    "1. 75% of users follow 3 others on the platform.\n",
    "2. The average user follows 6 others on the platform, however, this could be due to the top 2 being potential outliers.\n",
    "3. The top two users following others have follow more than 11,500 others!\n",
    "\n",
    "Let's check out our followees!"
   ]
  },
  {
   "cell_type": "code",
   "execution_count": 18,
   "metadata": {
    "ExecuteTime": {
     "end_time": "2021-06-01T14:41:49.475009Z",
     "start_time": "2021-06-01T14:41:49.254776Z"
    }
   },
   "outputs": [
    {
     "name": "stdout",
     "output_type": "stream",
     "text": [
      "\n",
      "Some stats about the folks being followed on the platform!\n"
     ]
    },
    {
     "data": {
      "text/html": [
       "<div>\n",
       "<style scoped>\n",
       "    .dataframe tbody tr th:only-of-type {\n",
       "        vertical-align: middle;\n",
       "    }\n",
       "\n",
       "    .dataframe tbody tr th {\n",
       "        vertical-align: top;\n",
       "    }\n",
       "\n",
       "    .dataframe thead th {\n",
       "        text-align: right;\n",
       "    }\n",
       "</style>\n",
       "<table border=\"1\" class=\"dataframe\">\n",
       "  <thead>\n",
       "    <tr style=\"text-align: right;\">\n",
       "      <th></th>\n",
       "      <th>count</th>\n",
       "      <th>mean</th>\n",
       "      <th>std</th>\n",
       "      <th>min</th>\n",
       "      <th>25%</th>\n",
       "      <th>50%</th>\n",
       "      <th>75%</th>\n",
       "      <th>max</th>\n",
       "    </tr>\n",
       "  </thead>\n",
       "  <tbody>\n",
       "    <tr>\n",
       "      <th>num_followers</th>\n",
       "      <td>39956</td>\n",
       "      <td>15</td>\n",
       "      <td>373</td>\n",
       "      <td>1</td>\n",
       "      <td>1</td>\n",
       "      <td>2</td>\n",
       "      <td>10</td>\n",
       "      <td>51753</td>\n",
       "    </tr>\n",
       "  </tbody>\n",
       "</table>\n",
       "</div>"
      ],
      "text/plain": [
       "               count  mean  std  min  25%  50%  75%    max\n",
       "num_followers  39956    15  373    1    1    2   10  51753"
      ]
     },
     "metadata": {},
     "output_type": "display_data"
    },
    {
     "name": "stdout",
     "output_type": "stream",
     "text": [
      "\n",
      "Top 10 gamers with the most followers:\n",
      "                            followee  num_followers\n",
      "0  bbc4a5710e40e0c9fe61a6793297db55          51753\n",
      "1  ff0d35ecf1f3b20e1bf08292d12b7966          50861\n",
      "2  49b76015d44936cb2c2184fc805e88a6           5463\n",
      "3  ce5e4a49602ff3fe1084228b60092ae0           5359\n",
      "4  fb61b286f0c18d6a7f4ea7bea11a6299           4567\n",
      "5  1ca9e8d41d676b1255055bef3ed0c008           4417\n",
      "6  7da3095ae5f27161b3a0421d14a56193           4367\n",
      "7  521a56d52b9c3f40930a4f38192dca7e           3815\n",
      "8  aad82f104ba33c96ce48386cc51ea43b           3744\n",
      "9  4627a06c99dde3d167166eaab32e947d           3468\n"
     ]
    }
   ],
   "source": [
    "followee_stats = df.groupby(\"followee\", as_index=False).size().rename(columns={\"size\":\"num_followers\"})\n",
    "print(\"\\nSome stats about the folks being followed on the platform!\")\n",
    "display(pd.DataFrame(followee_stats.describe().astype(int)).T)\n",
    "print(\"\\nTop 10 gamers with the most followers:\\n\", \n",
    "      followee_stats.nlargest(10, columns=\"num_followers\").reset_index(drop=True))"
   ]
  },
  {
   "cell_type": "markdown",
   "metadata": {},
   "source": [
    "**Notice the following:**\n",
    "1. Half of the folks being followed have 2 or less followers.\n",
    "2. The top two users being followed have more than 50,000 followers!\n",
    "3. 25% of users being followed have more than 10 followers.\n",
    "\n",
    "Let's explore the dynamic between followers (97,765) and followees (39,956) to paint a better picture of our users."
   ]
  },
  {
   "cell_type": "code",
   "execution_count": 19,
   "metadata": {
    "ExecuteTime": {
     "end_time": "2021-06-01T14:41:49.586730Z",
     "start_time": "2021-06-01T14:41:49.477999Z"
    }
   },
   "outputs": [
    {
     "name": "stdout",
     "output_type": "stream",
     "text": [
      "\n",
      "Checking out our user stats\n"
     ]
    },
    {
     "data": {
      "text/html": [
       "<div>\n",
       "<style scoped>\n",
       "    .dataframe tbody tr th:only-of-type {\n",
       "        vertical-align: middle;\n",
       "    }\n",
       "\n",
       "    .dataframe tbody tr th {\n",
       "        vertical-align: top;\n",
       "    }\n",
       "\n",
       "    .dataframe thead th {\n",
       "        text-align: right;\n",
       "    }\n",
       "</style>\n",
       "<table border=\"1\" class=\"dataframe\">\n",
       "  <thead>\n",
       "    <tr style=\"text-align: right;\">\n",
       "      <th></th>\n",
       "      <th>user</th>\n",
       "      <th>friends</th>\n",
       "      <th>followers</th>\n",
       "    </tr>\n",
       "  </thead>\n",
       "  <tbody>\n",
       "    <tr>\n",
       "      <th>0</th>\n",
       "      <td>00015559b9fd9bb87a510726e667515d</td>\n",
       "      <td>2</td>\n",
       "      <td>NaN</td>\n",
       "    </tr>\n",
       "    <tr>\n",
       "      <th>1</th>\n",
       "      <td>0002c4cbeb6e13c76243d4e410081466</td>\n",
       "      <td>1</td>\n",
       "      <td>NaN</td>\n",
       "    </tr>\n",
       "    <tr>\n",
       "      <th>2</th>\n",
       "      <td>0002e671d27f14cc96969bb7816490de</td>\n",
       "      <td>4</td>\n",
       "      <td>8.0</td>\n",
       "    </tr>\n",
       "    <tr>\n",
       "      <th>3</th>\n",
       "      <td>0004541e3a5fcf800bba2171bbec0938</td>\n",
       "      <td>2</td>\n",
       "      <td>NaN</td>\n",
       "    </tr>\n",
       "    <tr>\n",
       "      <th>4</th>\n",
       "      <td>0005271d95d68ac34968b91764ac6a5a</td>\n",
       "      <td>2</td>\n",
       "      <td>NaN</td>\n",
       "    </tr>\n",
       "  </tbody>\n",
       "</table>\n",
       "</div>"
      ],
      "text/plain": [
       "                               user  friends  followers\n",
       "0  00015559b9fd9bb87a510726e667515d        2        NaN\n",
       "1  0002c4cbeb6e13c76243d4e410081466        1        NaN\n",
       "2  0002e671d27f14cc96969bb7816490de        4        8.0\n",
       "3  0004541e3a5fcf800bba2171bbec0938        2        NaN\n",
       "4  0005271d95d68ac34968b91764ac6a5a        2        NaN"
      ]
     },
     "metadata": {},
     "output_type": "display_data"
    }
   ],
   "source": [
    "user_stats_followers = follower_stats.set_index(\"follower\").join(\n",
    "    followee_stats.set_index(\"followee\")\n",
    ").reset_index()\n",
    "user_stats_followers.columns = [\"user\", \"friends\", \"followers\"]\n",
    "print(\"\\nChecking out our user stats\")\n",
    "display(user_stats_followers.head())"
   ]
  },
  {
   "cell_type": "markdown",
   "metadata": {},
   "source": [
    "**An important note** The above represents user stats for users who are followers. Meaning, they themselves may or may not have any followers, but they are doing the following. Not having followers indicates they won't be in the `folloee_stats` dataset that we'll peak at later.\n",
    "\n",
    "Let's make note of the following dimensions:\n",
    "- `user` - the Id of our platform users\n",
    "- `friends` - the number of users being followed\n",
    "- `followers` - the number of users following this user\n",
    "\n",
    "Also note the `NaN`. This indicates that the specific user has 0 followers. Let's replace these with `0`"
   ]
  },
  {
   "cell_type": "code",
   "execution_count": 20,
   "metadata": {
    "ExecuteTime": {
     "end_time": "2021-06-01T14:41:49.640794Z",
     "start_time": "2021-06-01T14:41:49.589791Z"
    }
   },
   "outputs": [
    {
     "name": "stdout",
     "output_type": "stream",
     "text": [
      "\n",
      "Checking out the first 5 users\n"
     ]
    },
    {
     "data": {
      "text/html": [
       "<div>\n",
       "<style scoped>\n",
       "    .dataframe tbody tr th:only-of-type {\n",
       "        vertical-align: middle;\n",
       "    }\n",
       "\n",
       "    .dataframe tbody tr th {\n",
       "        vertical-align: top;\n",
       "    }\n",
       "\n",
       "    .dataframe thead th {\n",
       "        text-align: right;\n",
       "    }\n",
       "</style>\n",
       "<table border=\"1\" class=\"dataframe\">\n",
       "  <thead>\n",
       "    <tr style=\"text-align: right;\">\n",
       "      <th></th>\n",
       "      <th>user</th>\n",
       "      <th>friends</th>\n",
       "      <th>followers</th>\n",
       "    </tr>\n",
       "  </thead>\n",
       "  <tbody>\n",
       "    <tr>\n",
       "      <th>0</th>\n",
       "      <td>00015559b9fd9bb87a510726e667515d</td>\n",
       "      <td>2</td>\n",
       "      <td>0</td>\n",
       "    </tr>\n",
       "    <tr>\n",
       "      <th>1</th>\n",
       "      <td>0002c4cbeb6e13c76243d4e410081466</td>\n",
       "      <td>1</td>\n",
       "      <td>0</td>\n",
       "    </tr>\n",
       "    <tr>\n",
       "      <th>2</th>\n",
       "      <td>0002e671d27f14cc96969bb7816490de</td>\n",
       "      <td>4</td>\n",
       "      <td>8</td>\n",
       "    </tr>\n",
       "    <tr>\n",
       "      <th>3</th>\n",
       "      <td>0004541e3a5fcf800bba2171bbec0938</td>\n",
       "      <td>2</td>\n",
       "      <td>0</td>\n",
       "    </tr>\n",
       "    <tr>\n",
       "      <th>4</th>\n",
       "      <td>0005271d95d68ac34968b91764ac6a5a</td>\n",
       "      <td>2</td>\n",
       "      <td>0</td>\n",
       "    </tr>\n",
       "  </tbody>\n",
       "</table>\n",
       "</div>"
      ],
      "text/plain": [
       "                               user  friends  followers\n",
       "0  00015559b9fd9bb87a510726e667515d        2          0\n",
       "1  0002c4cbeb6e13c76243d4e410081466        1          0\n",
       "2  0002e671d27f14cc96969bb7816490de        4          8\n",
       "3  0004541e3a5fcf800bba2171bbec0938        2          0\n",
       "4  0005271d95d68ac34968b91764ac6a5a        2          0"
      ]
     },
     "metadata": {},
     "output_type": "display_data"
    },
    {
     "name": "stdout",
     "output_type": "stream",
     "text": [
      "\n",
      "Some stats!\n"
     ]
    },
    {
     "data": {
      "text/html": [
       "<div>\n",
       "<style scoped>\n",
       "    .dataframe tbody tr th:only-of-type {\n",
       "        vertical-align: middle;\n",
       "    }\n",
       "\n",
       "    .dataframe tbody tr th {\n",
       "        vertical-align: top;\n",
       "    }\n",
       "\n",
       "    .dataframe thead th {\n",
       "        text-align: right;\n",
       "    }\n",
       "</style>\n",
       "<table border=\"1\" class=\"dataframe\">\n",
       "  <thead>\n",
       "    <tr style=\"text-align: right;\">\n",
       "      <th></th>\n",
       "      <th>count</th>\n",
       "      <th>mean</th>\n",
       "      <th>std</th>\n",
       "      <th>min</th>\n",
       "      <th>25%</th>\n",
       "      <th>50%</th>\n",
       "      <th>75%</th>\n",
       "      <th>max</th>\n",
       "    </tr>\n",
       "  </thead>\n",
       "  <tbody>\n",
       "    <tr>\n",
       "      <th>friends</th>\n",
       "      <td>97765</td>\n",
       "      <td>6</td>\n",
       "      <td>102</td>\n",
       "      <td>1</td>\n",
       "      <td>2</td>\n",
       "      <td>2</td>\n",
       "      <td>3</td>\n",
       "      <td>12649</td>\n",
       "    </tr>\n",
       "    <tr>\n",
       "      <th>followers</th>\n",
       "      <td>97765</td>\n",
       "      <td>4</td>\n",
       "      <td>170</td>\n",
       "      <td>0</td>\n",
       "      <td>0</td>\n",
       "      <td>0</td>\n",
       "      <td>1</td>\n",
       "      <td>50861</td>\n",
       "    </tr>\n",
       "  </tbody>\n",
       "</table>\n",
       "</div>"
      ],
      "text/plain": [
       "           count  mean  std  min  25%  50%  75%    max\n",
       "friends    97765     6  102    1    2    2    3  12649\n",
       "followers  97765     4  170    0    0    0    1  50861"
      ]
     },
     "metadata": {},
     "output_type": "display_data"
    }
   ],
   "source": [
    "user_stats_followers.fillna(0, inplace=True)\n",
    "user_stats_followers.followers = user_stats_followers.followers.astype(int)\n",
    "print(\"\\nChecking out the first 5 users\")\n",
    "display(user_stats_followers.head())\n",
    "print(\"\\nSome stats!\")\n",
    "display(pd.DataFrame(user_stats_followers.describe().astype(int)).T)"
   ]
  },
  {
   "cell_type": "code",
   "execution_count": 21,
   "metadata": {
    "ExecuteTime": {
     "end_time": "2021-06-01T14:41:49.677329Z",
     "start_time": "2021-06-01T14:41:49.644152Z"
    }
   },
   "outputs": [
    {
     "name": "stdout",
     "output_type": "stream",
     "text": [
      "\n",
      "Stats on followers who also have followers\n"
     ]
    },
    {
     "data": {
      "text/html": [
       "<div>\n",
       "<style scoped>\n",
       "    .dataframe tbody tr th:only-of-type {\n",
       "        vertical-align: middle;\n",
       "    }\n",
       "\n",
       "    .dataframe tbody tr th {\n",
       "        vertical-align: top;\n",
       "    }\n",
       "\n",
       "    .dataframe thead th {\n",
       "        text-align: right;\n",
       "    }\n",
       "</style>\n",
       "<table border=\"1\" class=\"dataframe\">\n",
       "  <thead>\n",
       "    <tr style=\"text-align: right;\">\n",
       "      <th></th>\n",
       "      <th>count</th>\n",
       "      <th>mean</th>\n",
       "      <th>std</th>\n",
       "      <th>min</th>\n",
       "      <th>25%</th>\n",
       "      <th>50%</th>\n",
       "      <th>75%</th>\n",
       "      <th>max</th>\n",
       "    </tr>\n",
       "  </thead>\n",
       "  <tbody>\n",
       "    <tr>\n",
       "      <th>friends</th>\n",
       "      <td>25307</td>\n",
       "      <td>17</td>\n",
       "      <td>200</td>\n",
       "      <td>1</td>\n",
       "      <td>1</td>\n",
       "      <td>5</td>\n",
       "      <td>7</td>\n",
       "      <td>12649</td>\n",
       "    </tr>\n",
       "    <tr>\n",
       "      <th>followers</th>\n",
       "      <td>25307</td>\n",
       "      <td>17</td>\n",
       "      <td>335</td>\n",
       "      <td>1</td>\n",
       "      <td>1</td>\n",
       "      <td>3</td>\n",
       "      <td>12</td>\n",
       "      <td>50861</td>\n",
       "    </tr>\n",
       "  </tbody>\n",
       "</table>\n",
       "</div>"
      ],
      "text/plain": [
       "           count  mean  std  min  25%  50%  75%    max\n",
       "friends    25307    17  200    1    1    5    7  12649\n",
       "followers  25307    17  335    1    1    3   12  50861"
      ]
     },
     "execution_count": 21,
     "metadata": {},
     "output_type": "execute_result"
    }
   ],
   "source": [
    "print(\"\\nStats on followers who also have followers\")\n",
    "user_stats_followers.query(\"followers > 0\").describe().T.astype(int)"
   ]
  },
  {
   "cell_type": "markdown",
   "metadata": {},
   "source": [
    "**Notice the following:**\n",
    "1. 75% of the users following others, have 0 followers themselves.\n",
    "2. 25,307 of 97,765 followees have followers.\n",
    "3. Of the followers who also have followers, 50% of them have 3 or less.\n",
    "4. 25,307 of the 39,956 (63.34%) **followees** also follow others.\n",
    "5. There are 14,649 followees, not following anyone.\n",
    "\n",
    "Let's explore the dynamic between followee (39,956) and followers (97,765) to paint a better picture of this relationship."
   ]
  },
  {
   "cell_type": "code",
   "execution_count": 22,
   "metadata": {
    "ExecuteTime": {
     "end_time": "2021-06-01T14:41:49.779306Z",
     "start_time": "2021-06-01T14:41:49.681833Z"
    }
   },
   "outputs": [
    {
     "name": "stdout",
     "output_type": "stream",
     "text": [
      "\n",
      "Checking out our user stats\n"
     ]
    },
    {
     "data": {
      "text/html": [
       "<div>\n",
       "<style scoped>\n",
       "    .dataframe tbody tr th:only-of-type {\n",
       "        vertical-align: middle;\n",
       "    }\n",
       "\n",
       "    .dataframe tbody tr th {\n",
       "        vertical-align: top;\n",
       "    }\n",
       "\n",
       "    .dataframe thead th {\n",
       "        text-align: right;\n",
       "    }\n",
       "</style>\n",
       "<table border=\"1\" class=\"dataframe\">\n",
       "  <thead>\n",
       "    <tr style=\"text-align: right;\">\n",
       "      <th></th>\n",
       "      <th>user</th>\n",
       "      <th>followers</th>\n",
       "      <th>friends</th>\n",
       "    </tr>\n",
       "  </thead>\n",
       "  <tbody>\n",
       "    <tr>\n",
       "      <th>0</th>\n",
       "      <td>0002e671d27f14cc96969bb7816490de</td>\n",
       "      <td>8</td>\n",
       "      <td>4.0</td>\n",
       "    </tr>\n",
       "    <tr>\n",
       "      <th>1</th>\n",
       "      <td>0005c17c32267aaaee6556abd76a5209</td>\n",
       "      <td>29</td>\n",
       "      <td>NaN</td>\n",
       "    </tr>\n",
       "    <tr>\n",
       "      <th>2</th>\n",
       "      <td>00067463e2e33891e363092a5a82d469</td>\n",
       "      <td>46</td>\n",
       "      <td>10.0</td>\n",
       "    </tr>\n",
       "    <tr>\n",
       "      <th>3</th>\n",
       "      <td>00070928a4162930be27149f06456589</td>\n",
       "      <td>1</td>\n",
       "      <td>1.0</td>\n",
       "    </tr>\n",
       "    <tr>\n",
       "      <th>4</th>\n",
       "      <td>00075e9f6e308daa29735d445ab33e8d</td>\n",
       "      <td>1</td>\n",
       "      <td>1.0</td>\n",
       "    </tr>\n",
       "  </tbody>\n",
       "</table>\n",
       "</div>"
      ],
      "text/plain": [
       "                               user  followers  friends\n",
       "0  0002e671d27f14cc96969bb7816490de          8      4.0\n",
       "1  0005c17c32267aaaee6556abd76a5209         29      NaN\n",
       "2  00067463e2e33891e363092a5a82d469         46     10.0\n",
       "3  00070928a4162930be27149f06456589          1      1.0\n",
       "4  00075e9f6e308daa29735d445ab33e8d          1      1.0"
      ]
     },
     "metadata": {},
     "output_type": "display_data"
    }
   ],
   "source": [
    "user_stats_followees = followee_stats.set_index(\"followee\").join(\n",
    "    follower_stats.set_index(\"follower\")\n",
    ").reset_index()\n",
    "user_stats_followees.columns = [\"user\", \"followers\", \"friends\"]\n",
    "print(\"\\nChecking out our user stats\")\n",
    "display(user_stats_followees.head())"
   ]
  },
  {
   "cell_type": "markdown",
   "metadata": {},
   "source": [
    "Same thing as before!"
   ]
  },
  {
   "cell_type": "code",
   "execution_count": 23,
   "metadata": {
    "ExecuteTime": {
     "end_time": "2021-06-01T14:41:49.832144Z",
     "start_time": "2021-06-01T14:41:49.788854Z"
    }
   },
   "outputs": [
    {
     "name": "stdout",
     "output_type": "stream",
     "text": [
      "\n",
      "Checking out the first 5 users\n"
     ]
    },
    {
     "data": {
      "text/html": [
       "<div>\n",
       "<style scoped>\n",
       "    .dataframe tbody tr th:only-of-type {\n",
       "        vertical-align: middle;\n",
       "    }\n",
       "\n",
       "    .dataframe tbody tr th {\n",
       "        vertical-align: top;\n",
       "    }\n",
       "\n",
       "    .dataframe thead th {\n",
       "        text-align: right;\n",
       "    }\n",
       "</style>\n",
       "<table border=\"1\" class=\"dataframe\">\n",
       "  <thead>\n",
       "    <tr style=\"text-align: right;\">\n",
       "      <th></th>\n",
       "      <th>user</th>\n",
       "      <th>followers</th>\n",
       "      <th>friends</th>\n",
       "    </tr>\n",
       "  </thead>\n",
       "  <tbody>\n",
       "    <tr>\n",
       "      <th>0</th>\n",
       "      <td>0002e671d27f14cc96969bb7816490de</td>\n",
       "      <td>8</td>\n",
       "      <td>4.0</td>\n",
       "    </tr>\n",
       "    <tr>\n",
       "      <th>1</th>\n",
       "      <td>0005c17c32267aaaee6556abd76a5209</td>\n",
       "      <td>29</td>\n",
       "      <td>0.0</td>\n",
       "    </tr>\n",
       "    <tr>\n",
       "      <th>2</th>\n",
       "      <td>00067463e2e33891e363092a5a82d469</td>\n",
       "      <td>46</td>\n",
       "      <td>10.0</td>\n",
       "    </tr>\n",
       "    <tr>\n",
       "      <th>3</th>\n",
       "      <td>00070928a4162930be27149f06456589</td>\n",
       "      <td>1</td>\n",
       "      <td>1.0</td>\n",
       "    </tr>\n",
       "    <tr>\n",
       "      <th>4</th>\n",
       "      <td>00075e9f6e308daa29735d445ab33e8d</td>\n",
       "      <td>1</td>\n",
       "      <td>1.0</td>\n",
       "    </tr>\n",
       "  </tbody>\n",
       "</table>\n",
       "</div>"
      ],
      "text/plain": [
       "                               user  followers  friends\n",
       "0  0002e671d27f14cc96969bb7816490de          8      4.0\n",
       "1  0005c17c32267aaaee6556abd76a5209         29      0.0\n",
       "2  00067463e2e33891e363092a5a82d469         46     10.0\n",
       "3  00070928a4162930be27149f06456589          1      1.0\n",
       "4  00075e9f6e308daa29735d445ab33e8d          1      1.0"
      ]
     },
     "metadata": {},
     "output_type": "display_data"
    },
    {
     "name": "stdout",
     "output_type": "stream",
     "text": [
      "\n",
      "Some stats!\n"
     ]
    },
    {
     "data": {
      "text/html": [
       "<div>\n",
       "<style scoped>\n",
       "    .dataframe tbody tr th:only-of-type {\n",
       "        vertical-align: middle;\n",
       "    }\n",
       "\n",
       "    .dataframe tbody tr th {\n",
       "        vertical-align: top;\n",
       "    }\n",
       "\n",
       "    .dataframe thead th {\n",
       "        text-align: right;\n",
       "    }\n",
       "</style>\n",
       "<table border=\"1\" class=\"dataframe\">\n",
       "  <thead>\n",
       "    <tr style=\"text-align: right;\">\n",
       "      <th></th>\n",
       "      <th>count</th>\n",
       "      <th>mean</th>\n",
       "      <th>std</th>\n",
       "      <th>min</th>\n",
       "      <th>25%</th>\n",
       "      <th>50%</th>\n",
       "      <th>75%</th>\n",
       "      <th>max</th>\n",
       "    </tr>\n",
       "  </thead>\n",
       "  <tbody>\n",
       "    <tr>\n",
       "      <th>followers</th>\n",
       "      <td>39956</td>\n",
       "      <td>15</td>\n",
       "      <td>373</td>\n",
       "      <td>1</td>\n",
       "      <td>1</td>\n",
       "      <td>2</td>\n",
       "      <td>10</td>\n",
       "      <td>51753</td>\n",
       "    </tr>\n",
       "    <tr>\n",
       "      <th>friends</th>\n",
       "      <td>39956</td>\n",
       "      <td>10</td>\n",
       "      <td>160</td>\n",
       "      <td>0</td>\n",
       "      <td>0</td>\n",
       "      <td>1</td>\n",
       "      <td>5</td>\n",
       "      <td>12649</td>\n",
       "    </tr>\n",
       "  </tbody>\n",
       "</table>\n",
       "</div>"
      ],
      "text/plain": [
       "           count  mean  std  min  25%  50%  75%    max\n",
       "followers  39956    15  373    1    1    2   10  51753\n",
       "friends    39956    10  160    0    0    1    5  12649"
      ]
     },
     "metadata": {},
     "output_type": "display_data"
    }
   ],
   "source": [
    "user_stats_followees.fillna(0, inplace=True)\n",
    "user_stats_followees.followers = user_stats_followees.followers.astype(int)\n",
    "print(\"\\nChecking out the first 5 users\")\n",
    "display(user_stats_followees.head())\n",
    "print(\"\\nSome stats!\")\n",
    "display(pd.DataFrame(user_stats_followees.describe().astype(int)).T)"
   ]
  },
  {
   "cell_type": "code",
   "execution_count": 24,
   "metadata": {
    "ExecuteTime": {
     "end_time": "2021-06-01T14:41:49.875941Z",
     "start_time": "2021-06-01T14:41:49.841944Z"
    }
   },
   "outputs": [
    {
     "name": "stdout",
     "output_type": "stream",
     "text": [
      "\n",
      "Stats on followees not following others\n"
     ]
    },
    {
     "data": {
      "text/html": [
       "<div>\n",
       "<style scoped>\n",
       "    .dataframe tbody tr th:only-of-type {\n",
       "        vertical-align: middle;\n",
       "    }\n",
       "\n",
       "    .dataframe tbody tr th {\n",
       "        vertical-align: top;\n",
       "    }\n",
       "\n",
       "    .dataframe thead th {\n",
       "        text-align: right;\n",
       "    }\n",
       "</style>\n",
       "<table border=\"1\" class=\"dataframe\">\n",
       "  <thead>\n",
       "    <tr style=\"text-align: right;\">\n",
       "      <th></th>\n",
       "      <th>count</th>\n",
       "      <th>mean</th>\n",
       "      <th>std</th>\n",
       "      <th>min</th>\n",
       "      <th>25%</th>\n",
       "      <th>50%</th>\n",
       "      <th>75%</th>\n",
       "      <th>max</th>\n",
       "    </tr>\n",
       "  </thead>\n",
       "  <tbody>\n",
       "    <tr>\n",
       "      <th>followers</th>\n",
       "      <td>14649</td>\n",
       "      <td>11</td>\n",
       "      <td>429</td>\n",
       "      <td>1</td>\n",
       "      <td>1</td>\n",
       "      <td>2</td>\n",
       "      <td>6</td>\n",
       "      <td>51753</td>\n",
       "    </tr>\n",
       "    <tr>\n",
       "      <th>friends</th>\n",
       "      <td>14649</td>\n",
       "      <td>0</td>\n",
       "      <td>0</td>\n",
       "      <td>0</td>\n",
       "      <td>0</td>\n",
       "      <td>0</td>\n",
       "      <td>0</td>\n",
       "      <td>0</td>\n",
       "    </tr>\n",
       "  </tbody>\n",
       "</table>\n",
       "</div>"
      ],
      "text/plain": [
       "           count  mean  std  min  25%  50%  75%    max\n",
       "followers  14649    11  429    1    1    2    6  51753\n",
       "friends    14649     0    0    0    0    0    0      0"
      ]
     },
     "execution_count": 24,
     "metadata": {},
     "output_type": "execute_result"
    }
   ],
   "source": [
    "print(\"\\nStats on followees not following others\")\n",
    "user_stats_followees.query(\"friends == 0\").describe().T.astype(int)"
   ]
  },
  {
   "cell_type": "code",
   "execution_count": 25,
   "metadata": {
    "ExecuteTime": {
     "end_time": "2021-06-01T14:41:49.907663Z",
     "start_time": "2021-06-01T14:41:49.878797Z"
    }
   },
   "outputs": [
    {
     "name": "stdout",
     "output_type": "stream",
     "text": [
      "\n",
      "Stats on the top 25% users being followed\n"
     ]
    },
    {
     "data": {
      "text/html": [
       "<div>\n",
       "<style scoped>\n",
       "    .dataframe tbody tr th:only-of-type {\n",
       "        vertical-align: middle;\n",
       "    }\n",
       "\n",
       "    .dataframe tbody tr th {\n",
       "        vertical-align: top;\n",
       "    }\n",
       "\n",
       "    .dataframe thead th {\n",
       "        text-align: right;\n",
       "    }\n",
       "</style>\n",
       "<table border=\"1\" class=\"dataframe\">\n",
       "  <thead>\n",
       "    <tr style=\"text-align: right;\">\n",
       "      <th></th>\n",
       "      <th>count</th>\n",
       "      <th>mean</th>\n",
       "      <th>std</th>\n",
       "      <th>min</th>\n",
       "      <th>25%</th>\n",
       "      <th>50%</th>\n",
       "      <th>75%</th>\n",
       "      <th>max</th>\n",
       "    </tr>\n",
       "  </thead>\n",
       "  <tbody>\n",
       "    <tr>\n",
       "      <th>followers</th>\n",
       "      <td>12001</td>\n",
       "      <td>46</td>\n",
       "      <td>679</td>\n",
       "      <td>7</td>\n",
       "      <td>13</td>\n",
       "      <td>23</td>\n",
       "      <td>29</td>\n",
       "      <td>51753</td>\n",
       "    </tr>\n",
       "    <tr>\n",
       "      <th>friends</th>\n",
       "      <td>12001</td>\n",
       "      <td>29</td>\n",
       "      <td>291</td>\n",
       "      <td>0</td>\n",
       "      <td>0</td>\n",
       "      <td>5</td>\n",
       "      <td>11</td>\n",
       "      <td>12649</td>\n",
       "    </tr>\n",
       "  </tbody>\n",
       "</table>\n",
       "</div>"
      ],
      "text/plain": [
       "           count  mean  std  min  25%  50%  75%    max\n",
       "followers  12001    46  679    7   13   23   29  51753\n",
       "friends    12001    29  291    0    0    5   11  12649"
      ]
     },
     "execution_count": 25,
     "metadata": {},
     "output_type": "execute_result"
    }
   ],
   "source": [
    "print(\"\\nStats on the top 25% users being followed\")\n",
    "user_stats_followees.query(\"followers > 6\").describe().T.astype(int)"
   ]
  },
  {
   "cell_type": "markdown",
   "metadata": {},
   "source": [
    "**Notice the following:**\n",
    "1. Of the followees who are following, 75% of them are following less than 5 users\n",
    "2. 63.34% of platform users are both, followees and followers.\n",
    "3. 50% of the 14,649 users not following anyone have 2 or less followers (75% have 6 or less followers)\n",
    "4. Users with 13 followers or less, follow 0 users themselves."
   ]
  },
  {
   "cell_type": "markdown",
   "metadata": {},
   "source": [
    "## Next Steps\n",
    "Great, we've made it to the end! To recap, we completed some EDA around our time-based and follower-followee dimensions. While we're done with EDA (for now), there's still lots of opportunities to come back and add to this notebook. Next steps though, are to examine the networks of specific users with what we call, a network analysis. So let's start framing our thoughts around \"Who is in whose network?\"\n",
    "\n",
    "**Before closing out though, let's save our dataframe!**"
   ]
  },
  {
   "cell_type": "code",
   "execution_count": 26,
   "metadata": {
    "ExecuteTime": {
     "end_time": "2021-06-01T14:41:52.592789Z",
     "start_time": "2021-06-01T14:41:49.910590Z"
    }
   },
   "outputs": [
    {
     "name": "stdout",
     "output_type": "stream",
     "text": [
      "Saving...\n",
      "Data saved successfully!\n"
     ]
    }
   ],
   "source": [
    "print(\"Saving...\")\n",
    "df[[\"follower\", \"followee\"]].to_csv(get_path('processed/followers_deduped.csv'))\n",
    "print(\"Data saved successfully!\")"
   ]
  }
 ],
 "metadata": {
  "hide_input": false,
  "kernelspec": {
   "display_name": "Python 3",
   "language": "python",
   "name": "python3"
  },
  "language_info": {
   "codemirror_mode": {
    "name": "ipython",
    "version": 3
   },
   "file_extension": ".py",
   "mimetype": "text/x-python",
   "name": "python",
   "nbconvert_exporter": "python",
   "pygments_lexer": "ipython3",
   "version": "3.7.5"
  },
  "latex_envs": {
   "LaTeX_envs_menu_present": true,
   "autoclose": false,
   "autocomplete": false,
   "bibliofile": "biblio.bib",
   "cite_by": "apalike",
   "current_citInitial": 1,
   "eqLabelWithNumbers": true,
   "eqNumInitial": 1,
   "hotkeys": {
    "equation": "Ctrl-E",
    "itemize": "Ctrl-I"
   },
   "labels_anchors": false,
   "latex_user_defs": false,
   "report_style_numbering": false,
   "user_envs_cfg": false
  },
  "toc": {
   "base_numbering": 1,
   "nav_menu": {},
   "number_sections": false,
   "sideBar": true,
   "skip_h1_title": false,
   "title_cell": "Table of Contents",
   "title_sidebar": "Contents",
   "toc_cell": false,
   "toc_position": {},
   "toc_section_display": true,
   "toc_window_display": false
  },
  "varInspector": {
   "cols": {
    "lenName": 16,
    "lenType": 16,
    "lenVar": 40
   },
   "kernels_config": {
    "python": {
     "delete_cmd_postfix": "",
     "delete_cmd_prefix": "del ",
     "library": "var_list.py",
     "varRefreshCmd": "print(var_dic_list())"
    },
    "r": {
     "delete_cmd_postfix": ") ",
     "delete_cmd_prefix": "rm(",
     "library": "var_list.r",
     "varRefreshCmd": "cat(var_dic_list()) "
    }
   },
   "types_to_exclude": [
    "module",
    "function",
    "builtin_function_or_method",
    "instance",
    "_Feature"
   ],
   "window_display": false
  }
 },
 "nbformat": 4,
 "nbformat_minor": 4
}
